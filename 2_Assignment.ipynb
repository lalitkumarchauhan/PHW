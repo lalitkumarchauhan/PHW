{
 "cells": [
  {
   "cell_type": "markdown",
   "id": "dfaea1ed-481f-40a1-9a06-ba36560c7c62",
   "metadata": {},
   "source": [
    "# Q1. Which keyword is used to create a function? Create a function to return a list of odd numbers in the range of 1 to 25."
   ]
  },
  {
   "cell_type": "markdown",
   "id": "06af25cf-887c-4f45-a670-fb42ad973255",
   "metadata": {},
   "source": [
    "Answer: \"def\" keyword id used for creating a fucntion"
   ]
  },
  {
   "cell_type": "code",
   "execution_count": 7,
   "id": "226828d4-d2d8-4da7-b170-a28927b44cb9",
   "metadata": {},
   "outputs": [
    {
     "data": {
      "text/plain": [
       "[1, 3, 5, 7, 9, 11, 13, 15, 17, 19, 21, 23, 25]"
      ]
     },
     "execution_count": 7,
     "metadata": {},
     "output_type": "execute_result"
    }
   ],
   "source": [
    "def odd_num ():\n",
    "    return [x for x in range(26) if x%2 != 0]\n",
    "odd_num()"
   ]
  },
  {
   "cell_type": "markdown",
   "id": "230fc151-c39c-4d06-ada0-36666aead0e5",
   "metadata": {},
   "source": [
    "# Q2. Why *args and **kwargs is used in some functions? Create a function each for *args and **kwargs to demonstrate their use."
   ]
  },
  {
   "cell_type": "markdown",
   "id": "d3951bd2-e471-4627-ad3e-059b62b8b46b",
   "metadata": {},
   "source": [
    "Answer: - *args and **kwargs are used to extend the number of arguments in the function. To facilitate passing of more than mentioned number of arguments if it is not expilicilty clear as to how many arguments will be passed into the function."
   ]
  },
  {
   "cell_type": "code",
   "execution_count": 10,
   "id": "bbe9b068-ebd9-4c95-bda5-2136126115f4",
   "metadata": {},
   "outputs": [],
   "source": [
    "def passa (*param): #*args in the form of *param passed to the function\n",
    "    return param"
   ]
  },
  {
   "cell_type": "code",
   "execution_count": 11,
   "id": "d199698b-1b9c-45c4-a236-aa2ade21d31f",
   "metadata": {},
   "outputs": [
    {
     "data": {
      "text/plain": [
       "(1, 2, 3)"
      ]
     },
     "execution_count": 11,
     "metadata": {},
     "output_type": "execute_result"
    }
   ],
   "source": [
    "passa(1,2,3) #three arguments passed"
   ]
  },
  {
   "cell_type": "code",
   "execution_count": 12,
   "id": "af8e215f-e843-40ef-8850-1c018d8853eb",
   "metadata": {},
   "outputs": [
    {
     "data": {
      "text/plain": [
       "(1, 2, 3, 4, 5, 6)"
      ]
     },
     "execution_count": 12,
     "metadata": {},
     "output_type": "execute_result"
    }
   ],
   "source": [
    "passa(1,2,3,4,5,6) #six arguments passed"
   ]
  },
  {
   "cell_type": "code",
   "execution_count": 14,
   "id": "dd0ecf77-d639-4359-84a8-757631cd36fd",
   "metadata": {},
   "outputs": [],
   "source": [
    "def passak(**kwargs):\n",
    "    return kwargs"
   ]
  },
  {
   "cell_type": "code",
   "execution_count": 15,
   "id": "8f33c494-06c2-413f-80a4-d483372807be",
   "metadata": {},
   "outputs": [
    {
     "data": {
      "text/plain": [
       "{'x': 'o', 'd': [1, 2, 3, 4], 'y': 0.9896}"
      ]
     },
     "execution_count": 15,
     "metadata": {},
     "output_type": "execute_result"
    }
   ],
   "source": [
    "passak(x = \"o\", d = [1,2,3,4], y = 0.9896)"
   ]
  },
  {
   "cell_type": "markdown",
   "id": "e32beaab-68a5-4156-9a69-e6b01f1834e5",
   "metadata": {},
   "source": [
    "# Q3.  What is an iterator in python? Name the method used to initialise the iterator object and the method used for iteration. Use these methods to print the first five elements of the given list [2, 4, 6, 8, 10, 12, 14, 16, 18, 20]."
   ]
  },
  {
   "cell_type": "markdown",
   "id": "346c5870-d972-46d6-8b4d-e5b342c27423",
   "metadata": {},
   "source": [
    "Answer: Iterator is an object which helps loops to operate multiple number of times or An iterator is an object that contains a countable number of values."
   ]
  },
  {
   "cell_type": "markdown",
   "id": "ec1ae1cc-06ba-46c2-9a76-9963b38ce2e0",
   "metadata": {},
   "source": [
    "iter() method which is used to get an iterator and next() is used for the iteration."
   ]
  },
  {
   "cell_type": "code",
   "execution_count": 16,
   "id": "e4bbbc55-458d-4824-ab51-8d6d8087a0f4",
   "metadata": {},
   "outputs": [],
   "source": [
    "def first5 (l):\n",
    "    return l[0:5]"
   ]
  },
  {
   "cell_type": "code",
   "execution_count": 17,
   "id": "2117cc91-0101-49a3-b8e6-3bcac06e665e",
   "metadata": {},
   "outputs": [
    {
     "data": {
      "text/plain": [
       "[2, 4, 6, 8, 10]"
      ]
     },
     "execution_count": 17,
     "metadata": {},
     "output_type": "execute_result"
    }
   ],
   "source": [
    "first5([2, 4, 6, 8, 10, 12, 14, 16, 18, 20])"
   ]
  },
  {
   "cell_type": "markdown",
   "id": "11ec04ef-8b0c-4e29-9735-e4b43c268b16",
   "metadata": {},
   "source": [
    "# Q4.  What is a generator function in python? Why yield keyword is used? Give an example of a generator function."
   ]
  },
  {
   "cell_type": "markdown",
   "id": "d1abe539-5f8a-4a15-80fa-0348fce17cf1",
   "metadata": {},
   "source": [
    "Answer: - In Python, a generator is a function that returns an iterator that produces a sequence of values when iterated over. "
   ]
  },
  {
   "cell_type": "markdown",
   "id": "67890f52-7ba5-406d-9e45-d11c92b2e395",
   "metadata": {},
   "source": [
    "If one wants to return multiple values from a function, he/she can use generator functions with yield keywords. The yield expressions return multiple values. They return one value, then wait, save the local state, and resume again."
   ]
  },
  {
   "cell_type": "code",
   "execution_count": 18,
   "id": "7e07467f-1c7d-4fae-abfd-df8959d19f1c",
   "metadata": {},
   "outputs": [],
   "source": [
    "def filter_odd(numbers):\n",
    "    for number in range(numbers):\n",
    "        if(number%2!=0):\n",
    "            yield number"
   ]
  },
  {
   "cell_type": "code",
   "execution_count": 20,
   "id": "244b08f2-58ca-4695-bb6c-d56e768e4f0f",
   "metadata": {},
   "outputs": [],
   "source": [
    "odd_numbers = filter_odd(20)"
   ]
  },
  {
   "cell_type": "code",
   "execution_count": 22,
   "id": "57166c88-da36-45c4-a967-0157ea212e27",
   "metadata": {},
   "outputs": [
    {
     "data": {
      "text/plain": [
       "generator"
      ]
     },
     "execution_count": 22,
     "metadata": {},
     "output_type": "execute_result"
    }
   ],
   "source": [
    "type(odd_numbers)"
   ]
  },
  {
   "cell_type": "code",
   "execution_count": 21,
   "id": "5930f4a2-3145-4de6-bfab-a21ba786e416",
   "metadata": {},
   "outputs": [
    {
     "name": "stdout",
     "output_type": "stream",
     "text": [
      "[1, 3, 5, 7, 9, 11, 13, 15, 17, 19]\n"
     ]
    }
   ],
   "source": [
    "print(list(odd_numbers))"
   ]
  },
  {
   "cell_type": "code",
   "execution_count": 23,
   "id": "180c21f7-638b-4bb0-9d9a-56162f7718fc",
   "metadata": {},
   "outputs": [],
   "source": [
    "def filter_odd_1(numbers):\n",
    "    for n in range(numbers):\n",
    "        if(n%2!=0):\n",
    "            return n"
   ]
  },
  {
   "cell_type": "code",
   "execution_count": 24,
   "id": "e2ac9471-32d4-42c9-b119-895162341c7a",
   "metadata": {},
   "outputs": [
    {
     "data": {
      "text/plain": [
       "1"
      ]
     },
     "execution_count": 24,
     "metadata": {},
     "output_type": "execute_result"
    }
   ],
   "source": [
    "filter_odd_1(20)"
   ]
  },
  {
   "cell_type": "markdown",
   "id": "7e4f801b-11a5-49f7-83fe-2bb6bc2f4bab",
   "metadata": {},
   "source": [
    "# Q5. Create a generator function for prime numbers less than 1000. Use the next() method to print the first 20 prime numbers."
   ]
  },
  {
   "cell_type": "code",
   "execution_count": 6,
   "id": "6eef82e8-c8ac-47b4-afbd-bad4d664f7c1",
   "metadata": {},
   "outputs": [],
   "source": [
    "def prime():\n",
    "    for i in range(1, 1000):\n",
    "        for num in range(2, i):\n",
    "            if i % num == 0:\n",
    "                break\n",
    "        else:\n",
    "            yield i"
   ]
  },
  {
   "cell_type": "code",
   "execution_count": 14,
   "id": "92bc12de-fd19-4bce-a0ae-0bfa309efcd2",
   "metadata": {},
   "outputs": [
    {
     "name": "stdout",
     "output_type": "stream",
     "text": [
      "1\n",
      "2\n",
      "3\n",
      "5\n",
      "7\n",
      "11\n",
      "13\n",
      "17\n",
      "19\n",
      "23\n",
      "29\n",
      "31\n",
      "37\n",
      "41\n",
      "43\n",
      "47\n",
      "53\n",
      "59\n",
      "61\n",
      "67\n"
     ]
    }
   ],
   "source": [
    "iter_primeList = iter(prime())\n",
    "print(next(iter_primeList))\n",
    "print(next(iter_primeList))\n",
    "print(next(iter_primeList))\n",
    "print(next(iter_primeList))\n",
    "print(next(iter_primeList))\n",
    "print(next(iter_primeList))\n",
    "print(next(iter_primeList))\n",
    "print(next(iter_primeList))\n",
    "print(next(iter_primeList))\n",
    "print(next(iter_primeList))\n",
    "print(next(iter_primeList))\n",
    "print(next(iter_primeList))\n",
    "print(next(iter_primeList))\n",
    "print(next(iter_primeList))\n",
    "print(next(iter_primeList))\n",
    "print(next(iter_primeList))\n",
    "print(next(iter_primeList))\n",
    "print(next(iter_primeList))\n",
    "print(next(iter_primeList))\n",
    "print(next(iter_primeList))"
   ]
  },
  {
   "cell_type": "markdown",
   "id": "41b741e5-8ff4-43f0-91bd-95fe4d4ffdf7",
   "metadata": {},
   "source": [
    "# Q6. Write a python program to print the first 10 Fibonacci numbers using a while loop."
   ]
  },
  {
   "cell_type": "code",
   "execution_count": 6,
   "id": "c434b8e7-8640-440c-acd0-53596b5e3c2a",
   "metadata": {},
   "outputs": [
    {
     "name": "stdout",
     "output_type": "stream",
     "text": [
      "2\n",
      "3\n",
      "5\n",
      "8\n",
      "13\n",
      "21\n",
      "34\n",
      "55\n",
      "89\n",
      "144\n"
     ]
    }
   ],
   "source": [
    "count = 1\n",
    "a = 1\n",
    "b = 2\n",
    "while count <= 10:\n",
    "    c = a + b\n",
    "    a = b\n",
    "    b = c\n",
    "    print(a)\n",
    "    count = count + 1  "
   ]
  },
  {
   "cell_type": "markdown",
   "id": "58ea94df-40bb-436e-b981-9b43b65fb167",
   "metadata": {},
   "source": [
    "# Q7. Write a List Comprehension to iterate through the given string: ‘pwskills’. Expected output: ['p', 'w', 's', 'k', 'i', 'l', 'l', 's'] "
   ]
  },
  {
   "cell_type": "code",
   "execution_count": 8,
   "id": "71538ca2-ff30-4e80-a1c7-03c23133896f",
   "metadata": {},
   "outputs": [
    {
     "data": {
      "text/plain": [
       "['p', 'w', 's', 'k', 'i', 'l', 'l', 's']"
      ]
     },
     "execution_count": 8,
     "metadata": {},
     "output_type": "execute_result"
    }
   ],
   "source": [
    "[x for x in \"pwskills\"]"
   ]
  },
  {
   "cell_type": "markdown",
   "id": "3ce0838f-a6a5-40c9-8393-1a8af4a4a7a9",
   "metadata": {},
   "source": [
    "# Q8. Write a python program to check whether a given number is Palindrome or not using a while loop."
   ]
  },
  {
   "cell_type": "code",
   "execution_count": 9,
   "id": "5a3565f0-28ad-4723-bc92-79b202f067a7",
   "metadata": {},
   "outputs": [],
   "source": [
    "def palind(x):\n",
    "    num = str(x)\n",
    "    if num == num[::-1]:\n",
    "        print(\"The number is palindromic\")\n",
    "    else:\n",
    "        print(\"no palindromic number\")\n",
    "        "
   ]
  },
  {
   "cell_type": "code",
   "execution_count": 10,
   "id": "4be52797-b127-415c-804a-44b20bcfdfa9",
   "metadata": {},
   "outputs": [
    {
     "name": "stdout",
     "output_type": "stream",
     "text": [
      "no palindromic number\n"
     ]
    }
   ],
   "source": [
    "palind(70)"
   ]
  },
  {
   "cell_type": "code",
   "execution_count": 11,
   "id": "0d97a7d0-c8fc-49e7-9d18-c00a72306b84",
   "metadata": {},
   "outputs": [
    {
     "name": "stdout",
     "output_type": "stream",
     "text": [
      "The number is palindromic\n"
     ]
    }
   ],
   "source": [
    "palind(101)"
   ]
  },
  {
   "cell_type": "markdown",
   "id": "bb356c9a-16ae-48e1-8425-7909b51135ff",
   "metadata": {},
   "source": [
    "# Q9. Write a code to print odd numbers from 1 to 100 using list comprehension.\n",
    "## Note: Use a list comprehension to create a list from 1 to 100 and use another List comprehension to filter out odd numbers."
   ]
  },
  {
   "cell_type": "code",
   "execution_count": 2,
   "id": "cb53e0c0-6cb9-4db4-83c6-d44b18ae4f21",
   "metadata": {},
   "outputs": [],
   "source": [
    "odd_num_list = [x for x in range(1, 101)]"
   ]
  },
  {
   "cell_type": "code",
   "execution_count": 3,
   "id": "1cb5fbdf-9615-43b0-880c-8ef100272736",
   "metadata": {},
   "outputs": [],
   "source": [
    "def odd_filter(l):\n",
    "    for i in l:\n",
    "        if i%2 != 0:\n",
    "            yield i"
   ]
  },
  {
   "cell_type": "code",
   "execution_count": 5,
   "id": "0a41b865-8ad5-450d-9c8c-f54f4bd5fe7c",
   "metadata": {},
   "outputs": [
    {
     "data": {
      "text/plain": [
       "[1,\n",
       " 3,\n",
       " 5,\n",
       " 7,\n",
       " 9,\n",
       " 11,\n",
       " 13,\n",
       " 15,\n",
       " 17,\n",
       " 19,\n",
       " 21,\n",
       " 23,\n",
       " 25,\n",
       " 27,\n",
       " 29,\n",
       " 31,\n",
       " 33,\n",
       " 35,\n",
       " 37,\n",
       " 39,\n",
       " 41,\n",
       " 43,\n",
       " 45,\n",
       " 47,\n",
       " 49,\n",
       " 51,\n",
       " 53,\n",
       " 55,\n",
       " 57,\n",
       " 59,\n",
       " 61,\n",
       " 63,\n",
       " 65,\n",
       " 67,\n",
       " 69,\n",
       " 71,\n",
       " 73,\n",
       " 75,\n",
       " 77,\n",
       " 79,\n",
       " 81,\n",
       " 83,\n",
       " 85,\n",
       " 87,\n",
       " 89,\n",
       " 91,\n",
       " 93,\n",
       " 95,\n",
       " 97,\n",
       " 99]"
      ]
     },
     "execution_count": 5,
     "metadata": {},
     "output_type": "execute_result"
    }
   ],
   "source": [
    "list(odd_filter(odd_num_list))"
   ]
  }
 ],
 "metadata": {
  "kernelspec": {
   "display_name": "Python 3 (ipykernel)",
   "language": "python",
   "name": "python3"
  },
  "language_info": {
   "codemirror_mode": {
    "name": "ipython",
    "version": 3
   },
   "file_extension": ".py",
   "mimetype": "text/x-python",
   "name": "python",
   "nbconvert_exporter": "python",
   "pygments_lexer": "ipython3",
   "version": "3.10.8"
  }
 },
 "nbformat": 4,
 "nbformat_minor": 5
}
