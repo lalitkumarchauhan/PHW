{
 "cells": [
  {
   "cell_type": "markdown",
   "id": "faebbb68-7abe-4cc1-a5ae-9fc44117f8a3",
   "metadata": {},
   "source": [
    "# Q1. Explain Class and Object with respect to Object-Oriented Programming. Give a suitable example."
   ]
  },
  {
   "cell_type": "markdown",
   "id": "d80aff43-e417-4dd9-b8fc-a4940fed62bd",
   "metadata": {},
   "source": [
    "A Class is like an object constructor, or a \"blueprint\" for creating objects where object is a real world entity with its properties and methods. A example is given in next cell. The class brings structure to the code which makes it easy to reuse, readable and modular."
   ]
  },
  {
   "cell_type": "code",
   "execution_count": 6,
   "id": "cc19b8f4-48b0-41ef-9bcc-e8ebea528251",
   "metadata": {},
   "outputs": [
    {
     "name": "stdout",
     "output_type": "stream",
     "text": [
      "7\n"
     ]
    }
   ],
   "source": [
    "class definition:\n",
    "    x = 7\n",
    "num = definition()\n",
    "print(num.x)\n",
    "\n",
    "# Here \"definition\" is a class and \"num\" is an object and we can say object \"num\" has class \"definition\". \n",
    "# We have instatiated class. Object is also called instance or variable"
   ]
  },
  {
   "cell_type": "markdown",
   "id": "01a0d45c-0b75-44d1-aad4-917232ce4c7f",
   "metadata": {},
   "source": [
    "# Q2. Name the four pillars of OOPs."
   ]
  },
  {
   "cell_type": "markdown",
   "id": "022ccdab-bad5-4966-994f-8307b48ddc64",
   "metadata": {},
   "source": [
    "Inheritance, Polymorphism, Encapsulation and Abstraction"
   ]
  },
  {
   "cell_type": "markdown",
   "id": "b82dda56-31ab-4d94-9904-713148dd586e",
   "metadata": {},
   "source": [
    "# Q3. Explain why the __init__() function is used. Give a suitable example."
   ]
  },
  {
   "cell_type": "markdown",
   "id": "2e3182ff-80a6-43ac-801f-6389769f6bba",
   "metadata": {},
   "source": [
    "All classes have a function called __init__(), which is always executed \n",
    "when the class is being initiated. We use the __init__() function to assign \n",
    "values to object properties, or other operations that are necessary to do \n",
    "when the object is being created. The init fucntion is also called constructor.\n",
    "In other words, init() function is used to pass object or instance values to the class.\n",
    "In the below example, __init__() oasses name and age to the class Person."
   ]
  },
  {
   "cell_type": "code",
   "execution_count": 5,
   "id": "26c24a9b-afce-4619-bf9d-532e52f5b5ad",
   "metadata": {},
   "outputs": [
    {
     "name": "stdout",
     "output_type": "stream",
     "text": [
      "Hello my name is John\n"
     ]
    }
   ],
   "source": [
    "class Person:\n",
    "    def __init__(self, name, age):\n",
    "        self.name = name\n",
    "        self.age = age\n",
    "\n",
    "    def myfunc(self):\n",
    "        print(\"Hello my name is \" + self.name)\n",
    "\n",
    "p1 = Person(\"John\", 36)\n",
    "p1.myfunc()"
   ]
  },
  {
   "cell_type": "markdown",
   "id": "3d234b89-504e-4b9f-9ea5-9d26b81a2b4c",
   "metadata": {},
   "source": [
    "# Q4. Why self is used in OOPs?"
   ]
  },
  {
   "cell_type": "markdown",
   "id": "35a72b77-8d08-49c8-92b4-8a3cf3bfd012",
   "metadata": {},
   "source": [
    "The self parameter is a reference to the current instance of the class, and is used to access variables that belongs to the class. Moreover, it does not have to be named \"self\" but it has to be the first parameter of any function in the class. That is self is not a reserved keyword."
   ]
  },
  {
   "cell_type": "code",
   "execution_count": 7,
   "id": "170f0991-93e3-4fa9-9572-1d6cb7b5ea7c",
   "metadata": {},
   "outputs": [
    {
     "name": "stdout",
     "output_type": "stream",
     "text": [
      "Namaste and Good morning!\n"
     ]
    }
   ],
   "source": [
    "class firstclass:\n",
    "    def greet(self):\n",
    "        print(\"Namaste and Good morning!\")\n",
    "prak = firstclass()\n",
    "prak.greet()"
   ]
  },
  {
   "cell_type": "code",
   "execution_count": 9,
   "id": "dda17101-cd65-4092-8808-6de9316e5e2e",
   "metadata": {},
   "outputs": [
    {
     "name": "stdout",
     "output_type": "stream",
     "text": [
      "Hola!\n"
     ]
    }
   ],
   "source": [
    "class firstclass_1:\n",
    "    def greet_1(anystringwillworkhere):\n",
    "        print(\"Hola!\")\n",
    "awe = firstclass_1()\n",
    "awe.greet_1()"
   ]
  },
  {
   "cell_type": "markdown",
   "id": "0f3911e4-760a-4729-9a93-c8295f173d75",
   "metadata": {},
   "source": [
    "# Q5. What is inheritance? Give an example for each type of inheritance."
   ]
  },
  {
   "cell_type": "markdown",
   "id": "b9bdd133-74db-4ad7-b873-c7000143a8e2",
   "metadata": {},
   "source": [
    "Inheritance is a concept by which parent class properties is passed on or inherited by the child class."
   ]
  },
  {
   "cell_type": "markdown",
   "id": "e58c9de4-2661-4feb-a515-36a362a8aab6",
   "metadata": {},
   "source": [
    "Types of Inheritance depend upon the number of child and parent classes involved. There are five types of inheritance.\n",
    "<ol>\n",
    "<li>Single Inheritance</li>\n",
    "<li>Multiple Inheritance</li>\n",
    "<li>Multilevel Inheritance</li>\n",
    "<li>Hierarchical Inheritance</li>\n",
    "<li>Hybrid Inheritance</li>\n",
    "</ol>"
   ]
  },
  {
   "cell_type": "markdown",
   "id": "d90dede3-1528-429c-a89b-007dd1cd6860",
   "metadata": {},
   "source": [
    "#1 Single Inheritance: Single inheritance enables a derived class to inherit properties from a single parent class"
   ]
  },
  {
   "cell_type": "code",
   "execution_count": 12,
   "id": "7fece93f-56b6-40ff-a7c3-ecac4d4f6374",
   "metadata": {},
   "outputs": [
    {
     "name": "stdout",
     "output_type": "stream",
     "text": [
      "This function is in parent class.\n",
      "This function is in child class.\n"
     ]
    }
   ],
   "source": [
    "class parent:\n",
    "    def func1(self):\n",
    "        print(\"This function is in parent class.\")\n",
    "        \n",
    "class Child(parent):\n",
    "    def func2(self):\n",
    "        print(\"This function is in child class.\")\n",
    "        \n",
    "object = Child()\n",
    "object.func1()\n",
    "object.func2()"
   ]
  },
  {
   "cell_type": "markdown",
   "id": "2eb6030f-4233-40e0-8b0f-c9518e92134a",
   "metadata": {},
   "source": [
    "#2. Multiple Inheritance: When a class can be derived from more than one base class this type of inheritance is called multiple inheritances"
   ]
  },
  {
   "cell_type": "code",
   "execution_count": 15,
   "id": "8562f4ab-24d6-4f86-81f6-1c75ee47232a",
   "metadata": {},
   "outputs": [
    {
     "name": "stdout",
     "output_type": "stream",
     "text": [
      "This function is in mother class.\n",
      "This function is in father class.\n",
      "This function is in child class.\n"
     ]
    }
   ],
   "source": [
    "class mothername:\n",
    "    def func1(self):\n",
    "        print(\"This function is in mother class.\")\n",
    "        \n",
    "class fathername:\n",
    "    def func2(self):\n",
    "        print(\"This function is in father class.\")\n",
    "        \n",
    "class Child(mothername, fathername):\n",
    "    def func3(self):\n",
    "        print(\"This function is in child class.\")\n",
    "        \n",
    "object = Child()\n",
    "object.func1()\n",
    "object.func2()\n",
    "object.func3()"
   ]
  },
  {
   "cell_type": "markdown",
   "id": "a1b83621-78ee-4fc0-a35c-5e2c0e604d52",
   "metadata": {},
   "source": [
    "#3 Multilevel Inheritance: In this type of inheritance, features of the base class and the derived class are further inherited into the new derived class."
   ]
  },
  {
   "cell_type": "code",
   "execution_count": 23,
   "id": "6bc2dc01-bdf6-46a5-8b34-7dea76339ca2",
   "metadata": {},
   "outputs": [
    {
     "name": "stdout",
     "output_type": "stream",
     "text": [
      "Dog\n",
      "pup\n",
      "husky\n"
     ]
    }
   ],
   "source": [
    "class pet:\n",
    "    def __init__(self, petname):\n",
    "        self.petname = petname\n",
    "        \n",
    "class dog(pet):\n",
    "    def __init__(self, petname, dogname):\n",
    "        self.dogname = dogname\n",
    "        pet.__init__(self, petname)\n",
    "    \n",
    "class breed(dog):\n",
    "    def __init__(self, petname, dogname, breedname):\n",
    "        self.breedname = breedname\n",
    "        dog.__init__(self, petname, dogname)\n",
    "    \n",
    "    def display_name(self):\n",
    "        print(self.petname)\n",
    "        print(self.dogname)\n",
    "        print(self.breedname)\n",
    "    \n",
    "animal = breed(\"Dog\",\"pup\",\"husky\")\n",
    "animal.display_name()"
   ]
  },
  {
   "cell_type": "markdown",
   "id": "f862f2e4-686a-4731-8994-1fec14a5fd72",
   "metadata": {},
   "source": [
    "#4 Hierarchical Inheritance: When more than one derived class are created from a single base this type of inheritance is called hierarchical inheritance"
   ]
  },
  {
   "cell_type": "code",
   "execution_count": 24,
   "id": "2eefb8a6-e42d-4fce-aaaf-fd1f0d4fdd7f",
   "metadata": {},
   "outputs": [
    {
     "name": "stdout",
     "output_type": "stream",
     "text": [
      "This function is in parent class.\n",
      "This function is in child 1.\n",
      "This function is in parent class.\n",
      "This function is in child 2.\n"
     ]
    }
   ],
   "source": [
    "class Parent:\n",
    "    def func1(self):\n",
    "        print(\"This function is in parent class.\")\n",
    "\n",
    "class Child1(Parent):\n",
    "    def func2(self):\n",
    "        print(\"This function is in child 1.\")\n",
    "\n",
    "class Child2(Parent):\n",
    "    def func3(self):\n",
    "        print(\"This function is in child 2.\")\n",
    " \n",
    " \n",
    "object1 = Child1()\n",
    "object2 = Child2()\n",
    "object1.func1()\n",
    "object1.func2()\n",
    "object2.func1()\n",
    "object2.func3()"
   ]
  },
  {
   "cell_type": "markdown",
   "id": "066fb585-8758-4a28-86d5-af597a933547",
   "metadata": {},
   "source": [
    "#5 Hybrid Inheritance: Inheritance consisting of multiple types of inheritance is called hybrid inheritance."
   ]
  },
  {
   "cell_type": "code",
   "execution_count": 26,
   "id": "06be928b-7d22-414c-8222-4793bb49378f",
   "metadata": {},
   "outputs": [
    {
     "name": "stdout",
     "output_type": "stream",
     "text": [
      "This function is in school.\n",
      "This function is in student 2.\n"
     ]
    }
   ],
   "source": [
    "class School:\n",
    "    def func1(self):\n",
    "        print(\"This function is in school.\")\n",
    " \n",
    " \n",
    "class Student1(School):\n",
    "    def func2(self):\n",
    "        print(\"This function is in student 1. \")\n",
    " \n",
    " \n",
    "class Student2(School):\n",
    "    def func3(self):\n",
    "        print(\"This function is in student 2.\")\n",
    " \n",
    " \n",
    "class Student3(Student2, School):\n",
    "    def func4(self):\n",
    "        print(\"This function is in student 3.\")\n",
    "\n",
    "object = Student3()\n",
    "object.func1()\n",
    "object.func3()"
   ]
  }
 ],
 "metadata": {
  "kernelspec": {
   "display_name": "Python 3 (ipykernel)",
   "language": "python",
   "name": "python3"
  },
  "language_info": {
   "codemirror_mode": {
    "name": "ipython",
    "version": 3
   },
   "file_extension": ".py",
   "mimetype": "text/x-python",
   "name": "python",
   "nbconvert_exporter": "python",
   "pygments_lexer": "ipython3",
   "version": "3.10.8"
  }
 },
 "nbformat": 4,
 "nbformat_minor": 5
}
