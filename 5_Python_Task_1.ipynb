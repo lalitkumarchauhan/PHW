{
 "cells": [
  {
   "cell_type": "markdown",
   "id": "683dc7f8-06b2-48e9-92a9-874cdecfd590",
   "metadata": {},
   "source": [
    "# Q1. Create a function which will take a list as an argument and return the product of all the numbers after creating a flat list.\n",
    "\n",
    "# Use the below-given list as an argument for your function.\n",
    "\n",
    "# list1 = [1,2,3,4, [44,55,66, True], False, (34,56,78,89,34), {1,2,3,3,2,1}, {1:34, \"key2\": [55, 67, 78, 89], 4: (45, 22, 61, 34)}, [56, 'data science'], 'Machine Learning']\n",
    "\n",
    "\n",
    "# Note: you must extract numeric keys and values of the dictionary also."
   ]
  },
  {
   "cell_type": "code",
   "execution_count": 13,
   "id": "494b2d22-88bc-4dc1-877b-2b45b45c57c6",
   "metadata": {},
   "outputs": [],
   "source": [
    "def product_num_from_list(x):\n",
    "    prod = 1\n",
    "    for i in x:\n",
    "        if type(i) == int:\n",
    "            prod *= i\n",
    "        elif type(i) == list:\n",
    "            for j in i:\n",
    "                if type(j) == int:\n",
    "                    prod *= j\n",
    "                else:\n",
    "                    continue\n",
    "        elif type(i) == tuple:\n",
    "            for j in i:\n",
    "                if type(j) == int:\n",
    "                    prod *= j\n",
    "                else:\n",
    "                    continue\n",
    "        elif type(i) == dict:\n",
    "            for k in i:\n",
    "                if type(k) == int:\n",
    "                    prod *= k\n",
    "                elif i[k] == int:\n",
    "                    prod *= i[k]\n",
    "                else:\n",
    "                    continue\n",
    "        elif type(i) == set:\n",
    "            for j in i:\n",
    "                if type(j) == int:\n",
    "                    prod *= j\n",
    "                else:\n",
    "                    continue\n",
    "    return prod"
   ]
  },
  {
   "cell_type": "code",
   "execution_count": 14,
   "id": "274a4cd3-5165-4fa2-8873-c9e9f3ceb140",
   "metadata": {},
   "outputs": [],
   "source": [
    "list1 = [1,2,3,4, [44,55,66, True], False, (34,56,78,89,34), {1,2,3,3,2,1}, {1:34, \"key2\": [55, 67, 78, 89], 4: (45, 22, 61, 34)}, [56, 'data science'], 'Machine Learning']"
   ]
  },
  {
   "cell_type": "code",
   "execution_count": 15,
   "id": "980c9289-62f3-4e03-9c14-60e6b2b708c2",
   "metadata": {},
   "outputs": [
    {
     "data": {
      "text/plain": [
       "2315262738624675840"
      ]
     },
     "execution_count": 15,
     "metadata": {},
     "output_type": "execute_result"
    }
   ],
   "source": [
    "product_num_from_list(list1)"
   ]
  },
  {
   "cell_type": "markdown",
   "id": "a770ad83-7d6d-4182-8472-f9504c44aa03",
   "metadata": {},
   "source": [
    "# Q2. Write a python program for encrypting a message sent to you by your friend. The logic of encryption should be such that, for a the output should be z. For b, the output should be y. For c, the output should be x respectively. Also, the whitespace should be replaced with a dollar sign. Keep the punctuation marks unchanged.\n",
    "\n",
    "# Input Sentence: I want to become a Data Scientist.\n",
    "# Encrypt the above input sentence using the program you just created.\n",
    "\n",
    "## Note: Convert the given input sentence into lowercase before encrypting. The final output should be lowercase."
   ]
  },
  {
   "cell_type": "code",
   "execution_count": 25,
   "id": "5806cb16-a30b-42c1-9372-69f4e7be5a13",
   "metadata": {},
   "outputs": [
    {
     "name": "stdout",
     "output_type": "stream",
     "text": [
      " r$dzmg$gl$yvxlnv$z$wzgz$hxrvmgrhg\n"
     ]
    }
   ],
   "source": [
    "sen = \"I want to become a Data Scientist\"\n",
    "sen = sen.lower()\n",
    "vocab = ['a', 'b', 'c', 'd', 'e', 'f', 'g', 'h', 'i', 'j', 'k', 'l', 'm', 'n', 'o', 'p', 'q', 'r', 's', 't', 'u', 'v','w','x','y','z']\n",
    "newsen = \" \"\n",
    "for i in sen:\n",
    "    if i == \" \":\n",
    "        i = i.replace(\" \", \"$\")\n",
    "        newsen+=i\n",
    "    elif i == \"a\":\n",
    "        i = i.replace('a', 'z')\n",
    "        newsen += i\n",
    "    elif i == \"b\":\n",
    "        i = i.replace('b', 'y')\n",
    "        newsen += i\n",
    "    elif i == \"c\":\n",
    "        i = i.replace('c', 'x')\n",
    "        newsen += i\n",
    "    elif i == \"d\":\n",
    "        i = i.replace('d', 'w')\n",
    "        newsen += i\n",
    "    elif i == \"e\":\n",
    "        i = i.replace('e', 'v')\n",
    "        newsen += i\n",
    "    elif i == \"f\":\n",
    "        i = i.replace('f', 'u')\n",
    "        newsen += i\n",
    "    elif i == \"g\":\n",
    "        i = i.replace('g', 't')\n",
    "        newsen += i\n",
    "    elif i == \"h\":\n",
    "        i = i.replace('h', 's')\n",
    "        newsen += i\n",
    "    elif i == \"i\":\n",
    "        i = i.replace('i', 'r')\n",
    "        newsen += i\n",
    "    elif i == \"j\":\n",
    "        i = i.replace('j', 'q')\n",
    "        newsen += i\n",
    "    elif i == \"k\":\n",
    "        i = i.replace('k', 'p')\n",
    "    elif i == \"l\":\n",
    "        i = i.replace('l', 'o')\n",
    "        newsen += i\n",
    "    elif i == \"m\":\n",
    "        i = i.replace('m', 'n')\n",
    "        newsen += i\n",
    "    elif i == \"n\":\n",
    "        i = i.replace('n', 'm')\n",
    "        newsen += i\n",
    "    elif i == \"o\":\n",
    "        i = i.replace('o', 'l')\n",
    "        newsen += i\n",
    "    elif i == \"p\":\n",
    "        i = i.replace('p', 'k')\n",
    "        newsen += i\n",
    "    elif i == \"q\":\n",
    "        i = i.replace('q', 'j')\n",
    "        newsen += i\n",
    "    elif i == \"r\":\n",
    "        i = i.replace('r', 'i')\n",
    "        newsen += i\n",
    "    elif i == \"s\":\n",
    "        i = i.replace('s', 'h')\n",
    "        newsen += i\n",
    "    elif i == \"t\":\n",
    "        i = i.replace('t', 'g')\n",
    "        newsen += i\n",
    "    elif i == \"u\":\n",
    "        i = i.replace('u', 'f')\n",
    "        newsen += i\n",
    "    elif i == \"v\":\n",
    "        i = i.replace('v', 'e')\n",
    "        newsen += i\n",
    "    elif i == \"w\":\n",
    "        i = i.replace('w', 'd')\n",
    "        newsen += i\n",
    "    elif i == \"x\":\n",
    "        i = i.replace('x', 'c')\n",
    "        newsen += i\n",
    "    elif i == \"y\":\n",
    "        i = i.replace('y', 'b')\n",
    "        newsen += i\n",
    "    elif i == \"z\":\n",
    "        i = i.replace('z', 'a')\n",
    "        newsen += i\n",
    "    else:\n",
    "        newsen +=i\n",
    "print(newsen)"
   ]
  }
 ],
 "metadata": {
  "kernelspec": {
   "display_name": "Python 3 (ipykernel)",
   "language": "python",
   "name": "python3"
  },
  "language_info": {
   "codemirror_mode": {
    "name": "ipython",
    "version": 3
   },
   "file_extension": ".py",
   "mimetype": "text/x-python",
   "name": "python",
   "nbconvert_exporter": "python",
   "pygments_lexer": "ipython3",
   "version": "3.10.8"
  }
 },
 "nbformat": 4,
 "nbformat_minor": 5
}
