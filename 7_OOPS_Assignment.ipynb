{
 "cells": [
  {
   "cell_type": "markdown",
   "id": "bd9e25be-f483-4d0a-8116-790d24b4af88",
   "metadata": {},
   "source": [
    "# Q1. What is Abstraction in OOps? Explain with an example"
   ]
  },
  {
   "cell_type": "markdown",
   "id": "beec3912-3957-4483-8e93-2664074d8c96",
   "metadata": {},
   "source": [
    "<ul>\n",
    "<li>Abstraction is an Object Oriented Programming concept in which a programmer hides all but the relevant data about an object in order to reduce complexity or can be termed as the process of hiding the implementation details of a system from the user, and only the functional details will be available to the user end.</li>\n",
    "\n",
    "<li>\n",
    "A example can be said as of a <b>Car</b>:\n",
    "We can start a car by turning the key or pressing the start button. We don't need to know how the engine is getting started, what all components your car has. The car internal implementation and complex logic is completely hidden from the user.</li>\n",
    "</ul>"
   ]
  },
  {
   "cell_type": "markdown",
   "id": "f8a1a749-d7cf-40f4-82e1-1fc4e4c78541",
   "metadata": {},
   "source": [
    "# Q2. Differentiate between Abstraction and Encapsulation. Explain with an example."
   ]
  },
  {
   "cell_type": "markdown",
   "id": "d6cd2d99-9df2-4056-8eae-2d97d60f1e1a",
   "metadata": {},
   "source": [
    "<ul>\n",
    "<li>The major difference between abstraction and encapsulation is that abstraction hides the code complexity while encapsulation hides the internal working from the outside world. Abstraction can be implemented using abstract classes and interfaces while Encapsulation can be implemented by using the access modifiers (private, public, protected).</li>\n",
    "<li>\n",
    "<ol>\n",
    "<li>Layman example, The car driver doesnot need to know as to how the Car's engine works internally as it is hidden, all he/she wants is how to turn off and turn on the engine. this concept is called encapsulation in OOP system.</li>\n",
    "<li>If group of people want to assemble a car, we will use a basic structure of the car leaving out the finer details for the other people i.e. specialists. This reduces the process complexity and makes the assembling easier and simple where each person involved get to know where to do their work upon. This is called Absraction in OOP system</li>\n",
    "</ol>\n",
    "</li>\n",
    "</ul>"
   ]
  },
  {
   "cell_type": "code",
   "execution_count": 1,
   "id": "d9e71e9a-2fde-4622-b318-3174a73332aa",
   "metadata": {},
   "outputs": [],
   "source": [
    "class encaps:\n",
    "    def __init__(self, a, b):\n",
    "        self.__a = a\n",
    "        self.__b = b\n",
    "    def sm(self):\n",
    "        return self.__a + self.__b\n",
    "\n",
    "# the above arguments a and b can not be accessed by the user who is doing sum of the variables.\n",
    "\n",
    "\n",
    "import abc\n",
    "class abstr:\n",
    "    @abc.abstractmethod #decorator\n",
    "    def abs_method(self):\n",
    "        pass\n",
    "    @abc.abstractmethod\n",
    "    def abs_method2(self):\n",
    "        pass\n",
    "    @abc.abstractmethod\n",
    "    def abs_method3(self):\n",
    "        pass\n",
    "    \n",
    "class access_abstr_class(abstr):\n",
    "    def abs_method(self):\n",
    "        return \"This is an accessed abstract class abs_method framed in abstr parent class\"\n",
    "    def abs_method2(self):\n",
    "        return \"This is an accessed abstract class abs_method number two framed in abstr parent class\""
   ]
  },
  {
   "cell_type": "code",
   "execution_count": 4,
   "id": "bbc29e2c-9089-4e05-8c44-1ffe5eaf91cf",
   "metadata": {},
   "outputs": [],
   "source": [
    "obj_abstr = abstr()\n",
    "obj_abstr.abs_method()"
   ]
  },
  {
   "cell_type": "code",
   "execution_count": 5,
   "id": "cf2e1e7e-4f14-4974-91bd-7dcab9ad917e",
   "metadata": {},
   "outputs": [
    {
     "data": {
      "text/plain": [
       "'This is an accessed abstract class abs_method framed in abstr parent class'"
      ]
     },
     "execution_count": 5,
     "metadata": {},
     "output_type": "execute_result"
    }
   ],
   "source": [
    "obj_access_abstr_class = access_abstr_class()\n",
    "obj_access_abstr_class.abs_method()"
   ]
  },
  {
   "cell_type": "markdown",
   "id": "bde7d664-8f47-448e-84fc-fe315d584d35",
   "metadata": {},
   "source": [
    "# Q3. What is abc module in python? Why is it used?"
   ]
  },
  {
   "cell_type": "markdown",
   "id": "3f43e916-1df7-4fb9-88ee-ec56eda00e8c",
   "metadata": {},
   "source": [
    "Abstract base class or the 'abc' module in Python library provides the infrastructure for defining custom abstract base classes. 'abc' works by marking methods of the base class as abstract. This is done by @absttractmethod decorator."
   ]
  },
  {
   "cell_type": "markdown",
   "id": "0e02aa64-1c93-42c5-b61d-bcfa56a2fe44",
   "metadata": {},
   "source": [
    "# Q4. How can we achieve data abstraction?"
   ]
  },
  {
   "cell_type": "markdown",
   "id": "14d2f21e-0f77-4e65-aeda-bf4b7e8e7d92",
   "metadata": {},
   "source": [
    "Data Abstraction in Python can be achieved through creating abstract classes and inheriting them later. To achieve that, we use the abc module of Python, which provides the base and necessary tools for defining Abstract Base Classes (ABC)."
   ]
  },
  {
   "cell_type": "code",
   "execution_count": 10,
   "id": "566cf4ee-af43-4fe9-a8b1-758786fb1e62",
   "metadata": {},
   "outputs": [],
   "source": [
    "from abc import ABC,abstractmethod\n",
    " \n",
    "class Animal(ABC):\n",
    " \n",
    "    #concrete method\n",
    "    def sleep(self):\n",
    "        print(\"I am going to sleep in a while\")\n",
    " \n",
    "    @abstractmethod\n",
    "    def sound(self):\n",
    "\t    print(\"This function is for defining the sound by any animal\")\n",
    "         \n",
    "class Snake(Animal):\n",
    "    def sound(self):\n",
    "        print(\"I can hiss\")\n",
    " \n",
    "class Dog(Animal):\n",
    "    def sound(self):\n",
    "        print(\"I can bark\")\n",
    " \n",
    "class Lion(Animal):\n",
    "    def sound(self):\n",
    "        print(\"I can roar\")\n",
    "       \n",
    "class Cat(Animal):\n",
    "    def sound(self):\n",
    "        print(\"I can meow\")"
   ]
  },
  {
   "cell_type": "code",
   "execution_count": 11,
   "id": "5f80f263-a5c6-4b4b-ae3e-a433dea66f6e",
   "metadata": {},
   "outputs": [
    {
     "name": "stdout",
     "output_type": "stream",
     "text": [
      "I am going to sleep in a while\n",
      "I can meow\n",
      "I can hiss\n"
     ]
    }
   ],
   "source": [
    "c = Cat()\n",
    "c.sleep()\n",
    "c.sound()\n",
    " \n",
    "c = Snake()\n",
    "c.sound()\n"
   ]
  },
  {
   "cell_type": "code",
   "execution_count": 12,
   "id": "c316ff72-fade-4ba6-8979-8ed09dae536c",
   "metadata": {},
   "outputs": [
    {
     "name": "stdout",
     "output_type": "stream",
     "text": [
      "This function is for defining the sound by any animal\n",
      "I can squeak\n"
     ]
    }
   ],
   "source": [
    "class Rabbit(Animal):\n",
    "    def sound(self):\n",
    "        super().sound()\n",
    "        print(\"I can squeak\")\n",
    " \n",
    "c = Rabbit()\n",
    "c.sound()"
   ]
  },
  {
   "cell_type": "markdown",
   "id": "5450838d-c6df-416d-b5d1-8becc24c28f0",
   "metadata": {},
   "source": [
    "# Q5. Can we create an instance of an abstract class? Explain your answer"
   ]
  },
  {
   "cell_type": "markdown",
   "id": "8ba4311d-8a96-4acf-9d63-679988e06f5a",
   "metadata": {},
   "source": [
    "<ul><li>The classes that cannot be instantiated. This means that we cannot create objects of an abstract class and these are only meant to be inherited. Then an object of the derived class is used to access the features of the base class.</li>\n",
    "<li>Consider an example where we create an abstract class Fruit. We derive two classes Mango and Orange from the Fruit class that implement the methods defined in this class. Here the Fruit class is the parent abstract class and the classes Mango and Apple become the sub/child classes. We won’t be able to access the methods of the Fruit class by simply creating an object, we will have to create the objects of the derived classes: Mango and Apple to access the methods.</li></ul>"
   ]
  },
  {
   "cell_type": "code",
   "execution_count": null,
   "id": "b227994e-9a50-4bde-baa4-758ad4814e66",
   "metadata": {},
   "outputs": [],
   "source": []
  }
 ],
 "metadata": {
  "kernelspec": {
   "display_name": "Python 3 (ipykernel)",
   "language": "python",
   "name": "python3"
  },
  "language_info": {
   "codemirror_mode": {
    "name": "ipython",
    "version": 3
   },
   "file_extension": ".py",
   "mimetype": "text/x-python",
   "name": "python",
   "nbconvert_exporter": "python",
   "pygments_lexer": "ipython3",
   "version": "3.10.8"
  }
 },
 "nbformat": 4,
 "nbformat_minor": 5
}
