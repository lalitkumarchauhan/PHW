{
 "cells": [
  {
   "cell_type": "markdown",
   "id": "00403b30-4293-4e23-babb-f5abce4e18a3",
   "metadata": {},
   "source": [
    "# Q1, Create a vehicle class with an init method having instance variables as name_of_vehicle, max_speed and average_of_vehicle."
   ]
  },
  {
   "cell_type": "code",
   "execution_count": 1,
   "id": "e4782189-29d6-498a-a434-32e96e261b5a",
   "metadata": {},
   "outputs": [],
   "source": [
    "class vehicle:\n",
    "    \n",
    "    def __init__(self, name_of_vehicle, max_speed, average_of_vehicle):\n",
    "        self.name_of_vehicle = name_of_vehicle\n",
    "        self.max_speed = max_speed\n",
    "        self.average_of_vehicle = average_of_vehicle"
   ]
  },
  {
   "cell_type": "markdown",
   "id": "559133b9-ec52-4d91-97b9-48206a1dfd28",
   "metadata": {},
   "source": [
    "# Q2. Create a child class car from the vehicle class created in Que 1, which will inherit the vehicle class. Create a method named seating_capacity which takes capacity as an argument and returns the name of the vehicle and its seating capacity."
   ]
  },
  {
   "cell_type": "code",
   "execution_count": 29,
   "id": "7f78cc9c-5c30-488f-9e56-f64bbc2be74e",
   "metadata": {},
   "outputs": [
    {
     "data": {
      "text/plain": [
       "('rickshaw', 2)"
      ]
     },
     "execution_count": 29,
     "metadata": {},
     "output_type": "execute_result"
    }
   ],
   "source": [
    "class vehicle:\n",
    "    \n",
    "    def __init__(self, name_of_vehicle, max_speed, average_of_vehicle):\n",
    "        self.name_of_vehicle = name_of_vehicle\n",
    "        self.max_speed = max_speed\n",
    "        self.average_of_vehicle = average_of_vehicle\n",
    "        \n",
    "class car(vehicle):\n",
    "        def __init__(self, name_of_vehicle, max_speed, average_of_vehicle):\n",
    "            super().__init__(name_of_vehicle, max_speed, average_of_vehicle)\n",
    "        \n",
    "        def seating_capacity(self, capacity):\n",
    "            self.capacity = capacity\n",
    "            return self.name_of_vehicle, self.capacity\n",
    "\n",
    "\n",
    "car1 = car('rickshaw', 25, 10)\n",
    "car1.seating_capacity(2)"
   ]
  },
  {
   "cell_type": "markdown",
   "id": "ef738ea4-68d7-4196-a49d-b6f876a08c6c",
   "metadata": {},
   "source": [
    "# Q3. What is multiple inheritance? Write a python code to demonstrate multiple inheritance."
   ]
  },
  {
   "cell_type": "markdown",
   "id": "2bbe5bf8-4101-4397-a6ef-527893bee6c9",
   "metadata": {},
   "source": [
    "<ul><li>Multiple inheritance is a type of inheritance in which a child class inherits the properties from multiple parent classes</li>\n",
    "    <li>EXAMPLE: suppose there are two classes called GURU1 and GURU2, the a STUDENT learning from both the gurus will inherit knowledge from both GURUSand all the methods in both parent classes can be accessed by the child, code wise implementation is given in next cell</li>"
   ]
  },
  {
   "cell_type": "code",
   "execution_count": 31,
   "id": "14eaa9f3-d311-4ce2-bfe9-e1538a3d8247",
   "metadata": {},
   "outputs": [],
   "source": [
    "class GURU1:\n",
    "    def GURU1_technique(self):\n",
    "        return \"Student is learning from GURU1\"\n",
    "\n",
    "class GURU2:\n",
    "    def GURU2_technique(self):\n",
    "        return \"Student is learning from GURU2\"\n",
    "\n",
    "class STUDENT(GURU1, GURU2):\n",
    "    pass"
   ]
  },
  {
   "cell_type": "code",
   "execution_count": 32,
   "id": "d871d278-dec0-48e4-ac8a-adb9e87f5894",
   "metadata": {},
   "outputs": [],
   "source": [
    "mas = STUDENT()"
   ]
  },
  {
   "cell_type": "code",
   "execution_count": 33,
   "id": "b54261d9-e386-4320-9c1a-c46531accc9d",
   "metadata": {},
   "outputs": [
    {
     "data": {
      "text/plain": [
       "'Student is learning from GURU1'"
      ]
     },
     "execution_count": 33,
     "metadata": {},
     "output_type": "execute_result"
    }
   ],
   "source": [
    "mas.GURU1_technique()"
   ]
  },
  {
   "cell_type": "code",
   "execution_count": 34,
   "id": "f9b15327-9034-4100-aa93-88d52e423225",
   "metadata": {},
   "outputs": [
    {
     "data": {
      "text/plain": [
       "'Student is learning from GURU2'"
      ]
     },
     "execution_count": 34,
     "metadata": {},
     "output_type": "execute_result"
    }
   ],
   "source": [
    "mas.GURU2_technique()"
   ]
  },
  {
   "cell_type": "markdown",
   "id": "db9dd8e6-5a25-4357-9470-b4f5e80ac946",
   "metadata": {},
   "source": [
    "# Q4. What are getter and setter in python? Create a class and create a getter and a setter method in this class."
   ]
  },
  {
   "cell_type": "markdown",
   "id": "8ce8cafc-483c-4284-bf9e-352eeee6bd1a",
   "metadata": {},
   "source": [
    "Basically, the main purpose of using getters and setters in object-oriented programs is to ensure data encapsulation. In OOPs languages, getters and setters are used to retrieve and update data."
   ]
  },
  {
   "cell_type": "code",
   "execution_count": 35,
   "id": "d69ad1a9-b794-4f6f-b4dd-db1ccb3400e8",
   "metadata": {},
   "outputs": [
    {
     "data": {
      "text/plain": [
       "0"
      ]
     },
     "execution_count": 35,
     "metadata": {},
     "output_type": "execute_result"
    }
   ],
   "source": [
    "class car1:\n",
    "    def __init__(self, year, brand, model, speed):\n",
    "        self.__year = year\n",
    "        self.__brand = brand\n",
    "        self.__model = model\n",
    "        self.__speed = 0\n",
    "        \n",
    "    def set_speed(self, speed):\n",
    "        self.__speed = 0 if speed < 0 else speed\n",
    "    \n",
    "    def get_speed(self):\n",
    "        return self.__speed\n",
    "\n",
    "c2 = car1(1980, 'hyundai', 'i10', 23)\n",
    "c2.set_speed(-987)\n",
    "c2.get_speed()"
   ]
  },
  {
   "cell_type": "markdown",
   "id": "88bd657a-2ced-443c-8a1a-cb49cbf1586d",
   "metadata": {},
   "source": [
    "# Q5.What is method overriding in python? Write a python code to demonstrate method overriding."
   ]
  },
  {
   "cell_type": "markdown",
   "id": "b73d3b36-cdad-4085-ab7d-abf8da3e34a7",
   "metadata": {},
   "source": [
    "Method Overriding in Python is an OOPs concept closely related to inheritance. When a child class method overrides(or, provides it's own implementation) the parent class method of the same name, parameters and return type, it is known as method overriding. In this case, the child class's method is called the overriding method and the parent class's method is called the overriden method. Code wise implementation is given in next cell"
   ]
  },
  {
   "cell_type": "code",
   "execution_count": 36,
   "id": "aacb7799-ab1f-40cd-a3f4-637257bfd85d",
   "metadata": {},
   "outputs": [
    {
     "name": "stdout",
     "output_type": "stream",
     "text": [
      "I have 4 sides. I am from Square class\n",
      "I am a 2D object. I am from shape class\n",
      "I have teal color. I am from Square class.\n"
     ]
    }
   ],
   "source": [
    "# Parent class \n",
    "class Shape:\n",
    "    # properties \n",
    "    data1 = \"abc\"\n",
    "\n",
    "    # function no_of_sides \n",
    "    def no_of_sides(self):\n",
    "        print(\"My sides need to be defined. I am from shape class.\")\n",
    "\n",
    "    # function two_dimensional \n",
    "    def two_dimensional(self):\n",
    "        print(\"I am a 2D object. I am from shape class\")\n",
    "\n",
    "class Square (Shape):\n",
    "    data2 = \"XYZ\"\n",
    "\n",
    "    def no_of_sides (self):\n",
    "        print(\"I have 4 sides. I am from Square class\")\n",
    "\n",
    "    def color(self):\n",
    "        print(\"I have teal color. I am from Square class.\")\n",
    "        \n",
    "# Create an object of Square class \n",
    "sq = Square() \n",
    "# Override the no_of_sides of parent class \n",
    "sq.no_of_sides() \n",
    "# Will inherit this method from the parent class\n",
    "sq.two_dimensional() \n",
    "# It's own method color \n",
    "sq.color()"
   ]
  }
 ],
 "metadata": {
  "kernelspec": {
   "display_name": "Python 3 (ipykernel)",
   "language": "python",
   "name": "python3"
  },
  "language_info": {
   "codemirror_mode": {
    "name": "ipython",
    "version": 3
   },
   "file_extension": ".py",
   "mimetype": "text/x-python",
   "name": "python",
   "nbconvert_exporter": "python",
   "pygments_lexer": "ipython3",
   "version": "3.10.8"
  }
 },
 "nbformat": 4,
 "nbformat_minor": 5
}
