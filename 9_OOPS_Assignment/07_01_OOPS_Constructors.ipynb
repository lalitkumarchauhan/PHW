{
 "cells": [
  {
   "cell_type": "markdown",
   "id": "97187e8d-6185-46bb-8d63-70ba9ed5a1ee",
   "metadata": {},
   "source": [
    "# OOPS_2_Assignment"
   ]
  },
  {
   "cell_type": "markdown",
   "id": "4eafba2f-b9e7-44a0-bccf-fe39475cf6f5",
   "metadata": {},
   "source": [
    "## Constructor:"
   ]
  },
  {
   "cell_type": "markdown",
   "id": "0ccd7246-76a1-40ab-97d8-bc1074638668",
   "metadata": {},
   "source": [
    "### 1. What is a constructor in Python? Explain its purpose and usage."
   ]
  },
  {
   "cell_type": "markdown",
   "id": "26ab2a19-f3c8-4aec-88c3-6d9d6871f8de",
   "metadata": {},
   "source": [
    "#### Constructor is a function which intialises the values that are generally bound to the class. For example, init is a  constructor which is used to intialise the value which are passed during the object creation for a class. It is characterised by two underscores each leading and lagging to the keyword init like __init__ followed by a paranthesis in which a pointer with any name generally self is used along with the variables pertaining to the values of that will be bound with class while instantiating it. The example is gievn below with comments:"
   ]
  },
  {
   "cell_type": "code",
   "execution_count": 10,
   "id": "5e9e8caf-dea6-4e6a-8194-5529776f7331",
   "metadata": {},
   "outputs": [
    {
     "name": "stdout",
     "output_type": "stream",
     "text": [
      "{'this is value1'} {'this is value2'}\n"
     ]
    }
   ],
   "source": [
    "class example_class:\n",
    "    \n",
    "    def __init__(self, value1, value2):\n",
    "        self.value1 = value1\n",
    "        self.value2 = value2\n",
    "        \n",
    "    def print_class_variables(self):\n",
    "        print({self.value1}, {self.value2})\n",
    "        \n",
    "example_class_object = example_class(\"this is value1\", \"this is value2\")\n",
    "example_class_object.print_class_variables()"
   ]
  },
  {
   "cell_type": "markdown",
   "id": "99c3fa0d-5ef3-4b48-8967-e9ea728ddd8a",
   "metadata": {},
   "source": [
    "### 2. Differentiate between a parameterless constructor and a parameterized constructor in Python."
   ]
  },
  {
   "cell_type": "markdown",
   "id": "70785cfe-7578-44d7-8367-0ee0880fd674",
   "metadata": {},
   "source": [
    "#### Parameterless constructor: The Parameterless constructor is a simple constructor which doesn’t accept any arguments. Its definition has only one argument which is a reference to the instance being constructed.\n",
    "\n",
    "#### Parameterized constructor: constructor with parameters is known as parameterized constructor. The parameterized constructor takes its first argument as a reference to the instance being constructed known as self and the rest of the arguments are provided by the programmer."
   ]
  },
  {
   "cell_type": "markdown",
   "id": "be0ae7c1-5544-40c9-82ad-e5dd5a76d996",
   "metadata": {},
   "source": [
    "### 3. How do you define a constructor in a Python class? Provide an example."
   ]
  },
  {
   "cell_type": "markdown",
   "id": "a6218317-8ee9-47fb-b11b-549f63004731",
   "metadata": {},
   "source": [
    "#### In Python the __init__() method is called the constructor and is defined by using def keyword in the beginning followed by __init__() and semicolon and then the body of constructor in next line after the indentation. As discussed in last question. Parameterless constructor will have no parameters except the reference to the object. While parameterised constructir will have additional arguments provided by the coder or programmer. The example is given below:"
   ]
  },
  {
   "cell_type": "code",
   "execution_count": 11,
   "id": "4f542cd9-283b-4c46-9749-683adc7875a0",
   "metadata": {},
   "outputs": [],
   "source": [
    "class class_name:\n",
    "    def __init__(self, value3, value2):\n",
    "        self.value3 = value3\n",
    "        self.value4 = value4\n",
    "        \n",
    "    "
   ]
  },
  {
   "cell_type": "markdown",
   "id": "4a966e79-2907-489a-80dd-50abb676cdb7",
   "metadata": {},
   "source": [
    "### 4. Explain the `__init__` method in Python and its role in constructors."
   ]
  },
  {
   "cell_type": "code",
   "execution_count": 12,
   "id": "713a2c6a-83fe-4e80-86d7-dd347d0d2c5a",
   "metadata": {},
   "outputs": [
    {
     "name": "stdout",
     "output_type": "stream",
     "text": [
      "Default constructor called\n",
      "Method called without a name\n",
      "Parameterized constructor called with name John\n",
      "Method called with name John\n"
     ]
    }
   ],
   "source": [
    "class MyClass:\n",
    "    def __init__(self, name=None):\n",
    "        if name is None:\n",
    "            print(\"Default constructor called\")\n",
    "        else:\n",
    "            self.name = name\n",
    "            print(\"Parameterized constructor called with name\", self.name)\n",
    "     \n",
    "    def method(self):\n",
    "        if hasattr(self, 'name'):\n",
    "            print(\"Method called with name\", self.name)\n",
    "        else:\n",
    "            print(\"Method called without a name\")\n",
    " \n",
    "# Create an object of the class using the default constructor\n",
    "obj1 = MyClass()\n",
    " \n",
    "# Call a method of the class\n",
    "obj1.method()\n",
    " \n",
    "# Create an object of the class using the parameterized constructor\n",
    "obj2 = MyClass(\"John\")\n",
    " \n",
    "# Call a method of the class\n",
    "obj2.method()"
   ]
  },
  {
   "cell_type": "markdown",
   "id": "5cd36667-607f-4d9d-83a0-da144aef3a03",
   "metadata": {},
   "source": [
    "#### In this example, we define a class MyClass with both a parameterless constructor and a parameterized constructor. The default constructor checks whether a parameter has been passed in or not, and prints a message to the console accordingly. The parameterized constructor takes in a single parameter name and sets the name attribute of the object to the value of that parameter.\n",
    "\n",
    "#### We also define a method method() that checks whether the object has a name attribute or not, and prints a message to the console accordingly.\n",
    "\n",
    "#### We create two objects of the class MyClass using both types of constructors. First, we create an object using the default constructor, which prints the message “Default constructor called” to the console. We then call the method() method on this object, which prints the message “Method called without a name” to the console.\n",
    "\n",
    "#### Next, we create an object using the parameterized constructor, passing in the name “John”. The constructor is called automatically, and the message “Parameterized constructor called with name John” is printed to the console. We then call the method() method on this object, which prints the message “Method called with name John” to the console.\n",
    "\n",
    "#### Overall, this example shows how both types of constructors can be implemented in a single class in Python."
   ]
  },
  {
   "cell_type": "markdown",
   "id": "d433359a-d73a-40e8-8a28-40b545073f92",
   "metadata": {},
   "source": [
    "### 5. In a class named `Person`, create a constructor that initializes the `name` and `age` attributes. Provide an example of creating an object of this class.\n",
    "\n"
   ]
  },
  {
   "cell_type": "code",
   "execution_count": 13,
   "id": "a24b23d3-1722-43ed-b880-1a96238ebca7",
   "metadata": {},
   "outputs": [],
   "source": [
    "class Person:\n",
    "    \n",
    "    def __init__(self, name, age):\n",
    "        self.name = name\n",
    "        self.age = age\n",
    "\n",
    "Person_object = Person(\"Ram\", 5000)"
   ]
  },
  {
   "cell_type": "code",
   "execution_count": 14,
   "id": "e0c4a842-18c6-4d66-936f-14d5160d4280",
   "metadata": {},
   "outputs": [
    {
     "data": {
      "text/plain": [
       "5000"
      ]
     },
     "execution_count": 14,
     "metadata": {},
     "output_type": "execute_result"
    }
   ],
   "source": [
    "Person_object.age"
   ]
  },
  {
   "cell_type": "code",
   "execution_count": 15,
   "id": "0b4c2f60-63f3-4739-bd7d-5f8a32c07c74",
   "metadata": {},
   "outputs": [
    {
     "data": {
      "text/plain": [
       "'Ram'"
      ]
     },
     "execution_count": 15,
     "metadata": {},
     "output_type": "execute_result"
    }
   ],
   "source": [
    "Person_object.name"
   ]
  },
  {
   "cell_type": "markdown",
   "id": "5aa02a40-4e73-4ed6-91e8-d81952cb2e88",
   "metadata": {},
   "source": [
    "### 6. How can you call a constructor explicitly in Python? Give an example."
   ]
  },
  {
   "cell_type": "markdown",
   "id": "0d3e7bdb-61ea-4c72-81e6-b4fdc1703b3c",
   "metadata": {},
   "source": [
    "#### Although the constructor is automatically called while creating the object of a class but if it is to be called explicitly, it can be done using __new__ for creating a new instance followed by calling __init__ as a method. The below example shows the same concept."
   ]
  },
  {
   "cell_type": "code",
   "execution_count": 1,
   "id": "fe30854d-e587-49a0-ade5-e6d58ca7617b",
   "metadata": {},
   "outputs": [
    {
     "name": "stdout",
     "output_type": "stream",
     "text": [
      "100\n"
     ]
    }
   ],
   "source": [
    "class MyClass:\n",
    "    def __init__(self, value):\n",
    "        self.value = value\n",
    "new_instance = MyClass.__new__(MyClass)\n",
    "new_instance.__init__(100)\n",
    "print(new_instance.value)"
   ]
  },
  {
   "cell_type": "markdown",
   "id": "0a235176-a26e-4ffc-bec7-921e3aaff357",
   "metadata": {},
   "source": [
    "#### In this example, constructor is explicitly called by using MyClass.__new__() to create a new instance and then call new_instance.__init__(100) to initialize it with a value of 100. The value attribute is accessed to verify the initialization."
   ]
  },
  {
   "cell_type": "markdown",
   "id": "c616850f-2dd4-4f67-818f-154c28877352",
   "metadata": {},
   "source": [
    "### 7. What is the significance of the `self` parameter in Python constructors? Explain with an example."
   ]
  },
  {
   "cell_type": "markdown",
   "id": "0bf52d1c-ce64-4272-b2fc-99d94bfc2e08",
   "metadata": {},
   "source": [
    "#### Python constructors takes its first argument as a reference to the instance being constructed, known as `self`. There is not any boundation in naming this referential argument as `self` and hence the name can be any thing similar to the naming convention used for a variable."
   ]
  },
  {
   "cell_type": "code",
   "execution_count": 17,
   "id": "879c2726-f2bd-4843-9439-6effc9e3fa02",
   "metadata": {},
   "outputs": [],
   "source": [
    "class exampl_class:\n",
    "    def __init__(self, value1):\n",
    "        self.value1 = value1"
   ]
  },
  {
   "cell_type": "code",
   "execution_count": 18,
   "id": "b7cc4860-a91f-42d0-af9a-b2c243f1ecb7",
   "metadata": {},
   "outputs": [],
   "source": [
    "class exmapl1_class:\n",
    "    def __init__(reference, value2):\n",
    "        reference.value2 = value2"
   ]
  },
  {
   "cell_type": "markdown",
   "id": "5e7a0fb4-a12a-4543-9035-eb2cdc58a916",
   "metadata": {},
   "source": [
    "#### In the above two examples, first example uses `self` as reference to the instance created for the class. In the example, value1 is the second argument which is set by the programmer to pass also while creating an object or instance for the class. In the second example, everything is same except that `self` is replaced by a random name `reference` and other discussion follow the same path as for the first example."
   ]
  },
  {
   "cell_type": "markdown",
   "id": "5dc0ec89-8413-4b1a-ac2d-c58277f3eabb",
   "metadata": {},
   "source": [
    "### 8. Discuss the concept of default constructors in Python. When are they used?"
   ]
  },
  {
   "cell_type": "markdown",
   "id": "a5a0ead1-d701-4d23-b970-142b3b6f7627",
   "metadata": {},
   "source": [
    "#### The default constructor is a simple constructor which doesn’t accept any arguments. Its definition has only one argument which is a reference to the instance being constructed. It is used when there is no extra argument in the instance except the reference argument needed to be passed as per the requirement of the programmer."
   ]
  },
  {
   "cell_type": "markdown",
   "id": "482eb6b2-7771-4b15-8d89-58f6e33c9176",
   "metadata": {},
   "source": [
    "### 9. Create a Python class called `Rectangle` with a constructor that initializes the `width` and `height` attributes. Provide a method to calculate the area of the rectangle.\n",
    "\n"
   ]
  },
  {
   "cell_type": "code",
   "execution_count": 19,
   "id": "a43b6e1f-3348-48c5-a7b0-a39e5df88c35",
   "metadata": {},
   "outputs": [],
   "source": [
    "class Rectangle:\n",
    "    def __init__(self, width, height):\n",
    "        self.width = width\n",
    "        self.height = height\n",
    "    def area_rect(self):\n",
    "        return f'The area of the rectangle is {self.width * self.height} square units'"
   ]
  },
  {
   "cell_type": "code",
   "execution_count": 20,
   "id": "9f217cee-f7c9-4778-84ee-e8d1a2ed9f08",
   "metadata": {},
   "outputs": [
    {
     "data": {
      "text/plain": [
       "'The area of the rectangle is 2 square units'"
      ]
     },
     "execution_count": 20,
     "metadata": {},
     "output_type": "execute_result"
    }
   ],
   "source": [
    "rect_instance = Rectangle(1,2)\n",
    "rect_instance.area_rect()"
   ]
  },
  {
   "cell_type": "markdown",
   "id": "a3e7d7c8-d855-4e7d-a07b-479410d17098",
   "metadata": {},
   "source": [
    "### 10. How can you have multiple constructors in a Python class? Explain with an example."
   ]
  },
  {
   "cell_type": "markdown",
   "id": "e909fef7-d7e3-4149-ac6e-8b786e868408",
   "metadata": {},
   "source": [
    "#### Python does not support explicit multiple constructors, yet there are some ways using which multiple constructors can be achieved. If multiple __init__ methods are written for the same class, then the latest one overwrites all the previous constructors. The example is giving below:"
   ]
  },
  {
   "cell_type": "code",
   "execution_count": 4,
   "id": "2c0e6d57-ce12-4d2c-9daa-841b80d1b4f1",
   "metadata": {},
   "outputs": [
    {
     "name": "stdout",
     "output_type": "stream",
     "text": [
      "Final init\n"
     ]
    }
   ],
   "source": [
    "class class_example_multi_constructor:\n",
    "\n",
    "\tdef __init__(self):\n",
    "\t\tprint(\"First init\")\n",
    "\n",
    "\tdef __init__(self):\n",
    "\t\tprint(\"Second INIT\")\n",
    "\n",
    "\tdef __init__(self):\n",
    "\t\tprint(\"Final init\")\n",
    "\n",
    "\n",
    "obj_cons = class_example_multi_constructor()"
   ]
  },
  {
   "cell_type": "markdown",
   "id": "9265c7cc-5109-4e47-b186-c1b55fbcdb1f",
   "metadata": {},
   "source": [
    "### 11. What is method overloading, and how is it related to constructors in Python?"
   ]
  },
  {
   "cell_type": "markdown",
   "id": "778bb539-eb03-4960-bdf3-8b6d0bcd33e2",
   "metadata": {},
   "source": [
    "Overloading is the concept in which a method performs differently under different circumstances. The constructor overloading is done by checking conditions for the arguments passed and performing required actions. A suitable example is guven in next snippet. In three examples, the methods are set in the `__init__` three times with three different results and the result is different in each case depending upon the arguments passed to the `__init__` constructor. If the input is list, sum of a `list` is thrown as an output, if the input is an `integer`, output is its square and if the input is `string`, Differnt result is an output. Each type of case is presented while creating the objects and the different results were confirmed after the instantiation of the class as objects."
   ]
  },
  {
   "cell_type": "code",
   "execution_count": 3,
   "id": "204e9c09-1471-49e2-8412-a2321c323c28",
   "metadata": {},
   "outputs": [
    {
     "name": "stdout",
     "output_type": "stream",
     "text": [
      "Sum of list : 15\n",
      "Square of int : 25\n",
      "String : This is a string.\n"
     ]
    }
   ],
   "source": [
    "class method_overloading:\n",
    "\n",
    "    # constructor overloading based on args\n",
    "    def __init__(self, *args):\n",
    "\n",
    "    # if args are more than 1, perform sum of args\n",
    "        if len(args) > 1:\n",
    "            self.rslt = 0\n",
    "            for i in args:\n",
    "                self.rslt += i\n",
    "\n",
    "    # if arg is an integer perform square the arg\n",
    "        elif isinstance(args[0], int):\n",
    "            self.rslt = args[0]*args[0]\n",
    "\n",
    "    # if arg is string print with hello\n",
    "        elif isinstance(args[0], str):\n",
    "            self.rslt = \"This is a \"+args[0]+\".\"\n",
    "\n",
    "\n",
    "m1_obj_lst = method_overloading(1, 2, 3, 4, 5)\n",
    "print(\"Sum of list :\", m1_obj_lst.rslt)\n",
    "\n",
    "m2_obj_int = method_overloading(5)\n",
    "print(\"Square of int :\", m2_obj_int.rslt)\n",
    "\n",
    "m3_obj_str = method_overloading(\"string\")\n",
    "print(\"String :\", m3_obj_str.rslt)\n"
   ]
  },
  {
   "cell_type": "markdown",
   "id": "bb1d7714-ca15-4a56-936e-e9a06cb1995b",
   "metadata": {},
   "source": [
    "### 12. Explain the use of the `super()` function in Python constructors. Provide an example."
   ]
  },
  {
   "cell_type": "markdown",
   "id": "812fe509-929e-44cb-aa21-a15a0d0c1494",
   "metadata": {},
   "source": [
    "#### The super() function is used to refer to the parent class or superclass. The methods in the super class can be accessed from child class easily by utilising this concept. It has its own advantages: first is that there is no need to remember or specify the parent class name to access its methods. Also, Code reusability is improved."
   ]
  },
  {
   "cell_type": "code",
   "execution_count": 9,
   "id": "56aca8bb-4f13-4afb-8202-946d99ea1b8b",
   "metadata": {},
   "outputs": [
    {
     "name": "stdout",
     "output_type": "stream",
     "text": [
      "This is a science book\n",
      "Has 100 pages and bibliography\n"
     ]
    }
   ],
   "source": [
    "class book:\n",
    "    \n",
    "    def __init__(self):\n",
    "        self.scityp = True\n",
    "        self.histtyp = True\n",
    "        self.page = 100\n",
    "        self.biblio = \"Yes\"\n",
    "        \n",
    "    def isscientificbook(self):\n",
    "        if self.scityp:\n",
    "            print('This is a science book')\n",
    "    \n",
    "    def ishistorybook(self):\n",
    "        if self.histtyp:\n",
    "            print('This is a History book')\n",
    "            \n",
    "class scientific(book):\n",
    "    \n",
    "    def __init__(self):\n",
    "        super().__init__()\n",
    "    \n",
    "    def isscientificbook(self):\n",
    "        super().isscientificbook()\n",
    "        \n",
    "class prophecy(book):\n",
    "    \n",
    "    def __init__(self):\n",
    "        super().__init__()\n",
    "        \n",
    "    def features(self):\n",
    "        if (self.page == 100) and self.biblio:\n",
    "            print(\"Has 100 pages and bibliography\")\n",
    "        \n",
    "        \n",
    "van_vlack = scientific()\n",
    "van_vlack.isscientificbook()\n",
    "mahabharat = prophecy()\n",
    "mahabharat.features()"
   ]
  },
  {
   "cell_type": "markdown",
   "id": "a90c5d60-fbce-48f9-a00e-9bf51328b39b",
   "metadata": {},
   "source": [
    "### 13. Create a class called `Book` with a constructor that initializes the `title`, `author`, and `published_year` attributes. Provide a method to display book details.\n",
    "\n"
   ]
  },
  {
   "cell_type": "code",
   "execution_count": 12,
   "id": "56ea0bdf-a7a6-4f59-add5-3d530d6e6308",
   "metadata": {},
   "outputs": [],
   "source": [
    "class Book:\n",
    "    \n",
    "    def __init__(self, title, author, published_year):\n",
    "        self.title = title\n",
    "        self.author = author\n",
    "        self.published_year = published_year\n",
    "    \n",
    "    def display_book_details(self):\n",
    "        return f\"The book details are as follows: the book with title \\'{self.title}\\' is written by \\'{self.author}\\' in the year \\'{self.published_year}\\'\""
   ]
  },
  {
   "cell_type": "code",
   "execution_count": 13,
   "id": "b338733b-e558-449d-94d6-e0c0faaf51dd",
   "metadata": {},
   "outputs": [],
   "source": [
    "Book_1 =Book('Mahabharat', 'Ved Vyas', '5000 BC')"
   ]
  },
  {
   "cell_type": "code",
   "execution_count": 14,
   "id": "56fbeca4-ca23-401b-995b-83bb02e21c5e",
   "metadata": {},
   "outputs": [
    {
     "data": {
      "text/plain": [
       "\"The book details are as follows: the book with title 'Mahabharat' is written by 'Ved Vyas' in the year '5000 BC'\""
      ]
     },
     "execution_count": 14,
     "metadata": {},
     "output_type": "execute_result"
    }
   ],
   "source": [
    "Book_1.display_book_details()"
   ]
  },
  {
   "cell_type": "markdown",
   "id": "e356a03b-2ee9-4258-97e4-36f67a806bc2",
   "metadata": {},
   "source": [
    "### 14. Discuss the differences between constructors and regular methods in Python classes."
   ]
  },
  {
   "cell_type": "markdown",
   "id": "8dc69fe6-c703-48b4-a005-b086ce43173c",
   "metadata": {},
   "source": [
    "#### Constructor are used to initialise the object of a class when created while a regular method is used to perform any kind of operation on the arguments passed to it or the object. The constructor is automatically called when the object of the class is instantiated while the `regular method` requires programmer to call it explicity. The constructor is named `__init__` in Python. It is a reserved method name for class initialization while Regular methods can have any valid method name, provided it follows Python's conventions or rules. The constructor doesnot return any thing while the regualr method returns value(s) if it is designed to do so by programmer."
   ]
  },
  {
   "cell_type": "markdown",
   "id": "86627b9e-9788-40b2-ba4d-60a3662bbafd",
   "metadata": {},
   "source": [
    "### 15. Explain the role of the `self` parameter in instance variable initialization within a constructor."
   ]
  },
  {
   "cell_type": "markdown",
   "id": "d734afea-cb86-4e24-a8ea-466ccc15cc2b",
   "metadata": {},
   "source": [
    "#### `self` is used in the constructor for binding the initialised values from the defined object or instance with the class by using syntax `self.variablename = variable_passed_in_the_object`. It is to be noticed here that `self` is not a keyword and hence any other name as per python naming convention can be used in its place also. The value can be called by `self.variablename` in the class methods in the relevant scope."
   ]
  },
  {
   "cell_type": "markdown",
   "id": "0fb2f906-9a75-4b57-8be5-f8994b7d6962",
   "metadata": {},
   "source": [
    "### 16. How do you prevent a class from having multiple instances by using constructors in Python? Provide an example.\n",
    "\n"
   ]
  },
  {
   "cell_type": "code",
   "execution_count": null,
   "id": "1c3ff234-d103-490f-855f-f45fbec28e58",
   "metadata": {},
   "outputs": [],
   "source": []
  },
  {
   "cell_type": "markdown",
   "id": "60280646-c784-4a14-b05d-15f68c544298",
   "metadata": {},
   "source": [
    "### 17. Create a Python class called `Student` with a constructor that takes a list of subjects as a parameter and initializes the `subjects` attribute.\n",
    "\n"
   ]
  },
  {
   "cell_type": "code",
   "execution_count": 19,
   "id": "77c3562f-4485-4324-8fdf-82e30e35cf76",
   "metadata": {},
   "outputs": [],
   "source": [
    "class Student:\n",
    "    \n",
    "    def __init__(self, subjects):\n",
    "        self.subjects = subjects"
   ]
  },
  {
   "cell_type": "code",
   "execution_count": 20,
   "id": "f449eceb-ef7d-4bc6-b164-9a2c2b19b827",
   "metadata": {},
   "outputs": [],
   "source": [
    "students_obj = Student(['Maths','English','Sanskrit'])"
   ]
  },
  {
   "cell_type": "code",
   "execution_count": 21,
   "id": "d57f9a3d-310d-449a-bd5c-659ea784f4fa",
   "metadata": {},
   "outputs": [
    {
     "data": {
      "text/plain": [
       "['Maths', 'English', 'Sanskrit']"
      ]
     },
     "execution_count": 21,
     "metadata": {},
     "output_type": "execute_result"
    }
   ],
   "source": [
    "students_obj.subjects"
   ]
  },
  {
   "cell_type": "markdown",
   "id": "92122461-ac10-457e-a306-058e3e7eec40",
   "metadata": {},
   "source": [
    "### 18. What is the purpose of the `__del__` method in Python classes, and how does it relate to constructors?"
   ]
  },
  {
   "cell_type": "markdown",
   "id": "77356bc6-ff0e-4824-983b-706f64397d5a",
   "metadata": {},
   "source": [
    "#### `__del__` is a destructor method which is called as soon as all references of the object are deleted i.e when an object is garbage collected. Generally, in python, it is not required to be defined explicitly and is already implemented by python library."
   ]
  },
  {
   "cell_type": "markdown",
   "id": "23a61a0f-7e6d-4ec0-a168-962ef9ab8759",
   "metadata": {},
   "source": [
    "### 19. Explain the use of constructor chaining in Python. Provide a practical example."
   ]
  },
  {
   "cell_type": "markdown",
   "id": "fd68dc11-712b-4af7-9cf3-05d0bcec6513",
   "metadata": {},
   "source": [
    "#### Constructor chaining is the process of calling one constructor from another constructor. Constructor chaining is useful when you want to invoke multiple constructors, one after another, by initializing only one instance. In Python, constructor chaining is convenient when we are dealing with inheritance. When an instance of a child class is initialized, the constructors of all the parent classes are first invoked and then, in the end, the constructor of the child class is invoked."
   ]
  },
  {
   "cell_type": "code",
   "execution_count": 1,
   "id": "eb25b9d0-361c-4b00-bb5f-e141be5e4a25",
   "metadata": {},
   "outputs": [
    {
     "name": "stdout",
     "output_type": "stream",
     "text": [
      "Inside Vehicle Constructor\n",
      "Inside Car Constructor\n",
      "Inside Electric Car Constructor\n",
      "Engine=1500cc, Max Speed=240, Km range=750\n"
     ]
    }
   ],
   "source": [
    "class Vehicle:\n",
    "    # Constructor of Vehicle\n",
    "    def __init__(self, engine):\n",
    "        print('Inside Vehicle Constructor')\n",
    "        self.engine = engine\n",
    "\n",
    "class Car(Vehicle):\n",
    "    # Constructor of Car\n",
    "    def __init__(self, engine, max_speed):\n",
    "        super().__init__(engine)\n",
    "        print('Inside Car Constructor')\n",
    "        self.max_speed = max_speed\n",
    "\n",
    "class Electric_Car(Car):\n",
    "    # Constructor of Electric Car\n",
    "    def __init__(self, engine, max_speed, km_range):\n",
    "        super().__init__(engine, max_speed)\n",
    "        print('Inside Electric Car Constructor')\n",
    "        self.km_range = km_range\n",
    "\n",
    "# Object of electric car\n",
    "ev = Electric_Car('1500cc', 240, 750)\n",
    "print(f'Engine={ev.engine}, Max Speed={ev.max_speed}, Km range={ev.km_range}')\n"
   ]
  },
  {
   "cell_type": "markdown",
   "id": "94f70f11-6000-43c8-b16f-7d316a158742",
   "metadata": {},
   "source": [
    "### 20. Create a Python class called `Car` with a default constructor that initializes the `make` and `model` attributes. Provide a method to display car information."
   ]
  },
  {
   "cell_type": "code",
   "execution_count": 16,
   "id": "fff2784d-0363-40c2-9084-80c156b22f5c",
   "metadata": {},
   "outputs": [],
   "source": [
    "class Car:\n",
    "    \n",
    "    def __init__(self, make, model):\n",
    "        self.make = make\n",
    "        self.model = model\n",
    "        \n",
    "    def display_car_info(self):\n",
    "        return f\"The Car details are as follows: the car of make \\'{self.make}\\' has model \\'{self.model}\\'\""
   ]
  },
  {
   "cell_type": "code",
   "execution_count": 17,
   "id": "b64da602-0b58-4f8e-a754-71b4b004c44c",
   "metadata": {},
   "outputs": [],
   "source": [
    "car_obj = Car('gaadi', 'bayl')"
   ]
  },
  {
   "cell_type": "code",
   "execution_count": null,
   "id": "797c88d5-5161-4edd-9c86-77d76a252cb2",
   "metadata": {},
   "outputs": [
    {
     "data": {
      "text/plain": [
       "\"The Car details are as follows: the car of make 'gaadi' has model 'bayl'\""
      ]
     },
     "execution_count": 18,
     "metadata": {},
     "output_type": "execute_result"
    }
   ],
   "source": [
    "car_obj.display_car_info()"
   ]
  },
  {
   "cell_type": "code",
   "execution_count": null,
   "id": "db543bf2-2df3-451f-8134-f09d00f01653",
   "metadata": {},
   "outputs": [],
   "source": []
  }
 ],
 "metadata": {
  "kernelspec": {
   "display_name": "Python 3 (ipykernel)",
   "language": "python",
   "name": "python3"
  },
  "language_info": {
   "codemirror_mode": {
    "name": "ipython",
    "version": 3
   },
   "file_extension": ".py",
   "mimetype": "text/x-python",
   "name": "python",
   "nbconvert_exporter": "python",
   "pygments_lexer": "ipython3",
   "version": "3.10.8"
  }
 },
 "nbformat": 4,
 "nbformat_minor": 5
}
