{
 "cells": [
  {
   "cell_type": "markdown",
   "id": "97187e8d-6185-46bb-8d63-70ba9ed5a1ee",
   "metadata": {},
   "source": [
    "# OOPS_2_Assignment"
   ]
  },
  {
   "cell_type": "markdown",
   "id": "322f3bbd-6af1-47c3-8e40-a5d7a93a2f70",
   "metadata": {},
   "source": [
    "## Inheritance:"
   ]
  },
  {
   "cell_type": "markdown",
   "id": "7a168738-30ab-4bab-a049-ada75e0395bd",
   "metadata": {},
   "source": [
    "### What is inheritance in Python? Explain its significance in object-oriented programming."
   ]
  },
  {
   "cell_type": "markdown",
   "id": "c523a95b-a3b6-417d-8293-e81502eae69b",
   "metadata": {},
   "source": [
    "#### Inheritance is a object oriented programming concept which helps a child class get access or inherit the properties and method of the parent class. There can be multiple scenarios in which inheriting properties of a particular class are needed to be done. Parent class is the class being inherited from, also called base class. Child class is the class that inherits from another class, also called derived class. Inheritance provides code reusability to the program because we can use an existing class to create a new class instead of creating it from scratch. There are different types of inheritance: Single Inheritance, Multiple Inheritance, Multilevel Inheritance, Hierarchical Inheritance, and Hybrid Inheritance."
   ]
  },
  {
   "cell_type": "markdown",
   "id": "eae84ad5-9ac9-4196-b251-b87e9b23183d",
   "metadata": {},
   "source": [
    "### 2. Differentiate between single inheritance and multiple inheritance in Python. Provide examples for each."
   ]
  },
  {
   "cell_type": "markdown",
   "id": "47ab99d1-15ca-47a4-b2bc-d40e724917b9",
   "metadata": {},
   "source": [
    "#### Single inheritance enables a derived class to inherit properties from a single parent class, thus enabling code reusability and the addition of new features to existing code while When a class can be derived from more than one base class this type of inheritance is called multiple inheritances. In multiple inheritances, all the features of the base classes are inherited into the derived class. The examples are given below:"
   ]
  },
  {
   "cell_type": "code",
   "execution_count": 2,
   "id": "913601c8-2589-4df4-b6ac-ceb72b447dc2",
   "metadata": {},
   "outputs": [
    {
     "name": "stdout",
     "output_type": "stream",
     "text": [
      "This function is in parent class.\n",
      "This function is in child class.\n"
     ]
    }
   ],
   "source": [
    "# Python program to demonstrate # single inheritance\n",
    "\n",
    "# Base class\n",
    "class Parent:\n",
    "\tdef func1(self):\n",
    "\t\tprint(\"This function is in parent class.\")\n",
    "\n",
    "# Derived class\n",
    "\n",
    "\n",
    "class Child(Parent):\n",
    "\tdef func2(self):\n",
    "\t\tprint(\"This function is in child class.\")\n",
    "\n",
    "\n",
    "object = Child()\n",
    "object.func1()\n",
    "object.func2()\n"
   ]
  },
  {
   "cell_type": "code",
   "execution_count": 3,
   "id": "bc919591-9970-4b43-be29-cb9a4a089d58",
   "metadata": {},
   "outputs": [
    {
     "name": "stdout",
     "output_type": "stream",
     "text": [
      "Father : RAM\n",
      "Mother : SITA\n"
     ]
    }
   ],
   "source": [
    "# Python program to demonstrate # multiple inheritance\n",
    "\n",
    "# Base class1\n",
    "class Mother:\n",
    "\tmothername = \"\"\n",
    "\n",
    "\tdef mother(self):\n",
    "\t\tprint(self.mothername)\n",
    "\n",
    "# Base class2\n",
    "\n",
    "\n",
    "class Father:\n",
    "\tfathername = \"\"\n",
    "\n",
    "\tdef father(self):\n",
    "\t\tprint(self.fathername)\n",
    "\n",
    "# Derived class\n",
    "\n",
    "\n",
    "class Son(Mother, Father):\n",
    "\tdef parents(self):\n",
    "\t\tprint(\"Father :\", self.fathername)\n",
    "\t\tprint(\"Mother :\", self.mothername)\n",
    "\n",
    "\n",
    "s1 = Son()\n",
    "s1.fathername = \"RAM\"\n",
    "s1.mothername = \"SITA\"\n",
    "s1.parents()\n"
   ]
  },
  {
   "cell_type": "markdown",
   "id": "9528ddb9-939c-4141-b181-8b053bfe8cb0",
   "metadata": {},
   "source": [
    "### 3. Create a Python class called `Vehicle` with attributes `color` and `speed`. Then, create a child class called `Car` that inherits from `Vehicle` and adds a `brand` attribute. Provide an example of creating a `Car` object.\n",
    "\n"
   ]
  },
  {
   "cell_type": "code",
   "execution_count": 10,
   "id": "8ae9a121-2751-413e-9b78-d252d7650653",
   "metadata": {},
   "outputs": [
    {
     "name": "stdout",
     "output_type": "stream",
     "text": [
      "My TATA brand car has Blue colour with speed as 60.09 kmph\n"
     ]
    }
   ],
   "source": [
    "class vehicle:\n",
    "    \n",
    "    def __init__(self, color, speed):\n",
    "        self.color = color\n",
    "        self.speed = speed\n",
    "        \n",
    "class car(vehicle):\n",
    "    def __init__(self, brand):\n",
    "        self.brand = brand\n",
    "    def print_details_of_object(self):\n",
    "        print(f'My {self.brand} brand car has {self.color} colour with speed as {self.speed} kmph')\n",
    "        \n",
    "        \n",
    "nano = car(\"TATA\")\n",
    "nano.color = 'Blue'\n",
    "nano.speed = 60.09\n",
    "nano.print_details_of_object()"
   ]
  },
  {
   "cell_type": "markdown",
   "id": "f960fa51-c0f9-4784-bfcf-6885d8f41d0c",
   "metadata": {},
   "source": [
    "### 4. Explain the concept of method overriding in inheritance. Provide a practical example."
   ]
  },
  {
   "cell_type": "markdown",
   "id": "4e6faf9b-cd64-4734-ae2e-210459130fc3",
   "metadata": {},
   "source": [
    "#### Method overriding is a concept in which involves the base and derived class using same method and child or derived class takes precedence to use its own method inspite of the same method being defined in the base class. An example is as below:"
   ]
  },
  {
   "cell_type": "code",
   "execution_count": 3,
   "id": "f23fa056-a13f-4b7b-b1f3-dcd24585120d",
   "metadata": {},
   "outputs": [],
   "source": [
    "class animal:\n",
    "    \n",
    "    def __init__(self):\n",
    "        pass \n",
    "    def speak(self):\n",
    "        return f'speak'\n",
    "    \n",
    "class snake(animal):\n",
    "    \n",
    "    def speak(self):\n",
    "        return 'hiss'"
   ]
  },
  {
   "cell_type": "code",
   "execution_count": 4,
   "id": "b4e7297b-0ea4-46c5-9d86-97790a33f6ca",
   "metadata": {},
   "outputs": [],
   "source": [
    "cobra = snake()"
   ]
  },
  {
   "cell_type": "code",
   "execution_count": 5,
   "id": "660dc500-6ef5-4833-a32f-347a69cb486b",
   "metadata": {},
   "outputs": [
    {
     "data": {
      "text/plain": [
       "'hiss'"
      ]
     },
     "execution_count": 5,
     "metadata": {},
     "output_type": "execute_result"
    }
   ],
   "source": [
    "cobra.speak()"
   ]
  },
  {
   "cell_type": "code",
   "execution_count": 6,
   "id": "d30ce2c8-b365-44c8-a3fc-89a860de435b",
   "metadata": {},
   "outputs": [],
   "source": [
    "dog = animal()"
   ]
  },
  {
   "cell_type": "code",
   "execution_count": 7,
   "id": "aa232b7b-17c3-46eb-bea2-ab8c3856e34f",
   "metadata": {},
   "outputs": [
    {
     "data": {
      "text/plain": [
       "'speak'"
      ]
     },
     "execution_count": 7,
     "metadata": {},
     "output_type": "execute_result"
    }
   ],
   "source": [
    "dog.speak()"
   ]
  },
  {
   "cell_type": "markdown",
   "id": "40f5c82d-1a63-421a-8749-977306817cba",
   "metadata": {},
   "source": [
    "#### In the above example, `animal` class is a parent or base class and `snake` is a child class which inherits from `animal` class. In both the classes, we have a method called `speak()` in both classes, the output of the `speak()` method is different and when an object of `snake` class is created by the name of `cobra`, the method `speak()` is evoked and with the concept of method overridding, the object gets the result from the child class `speak()` method. While creation of the `animal` class `dog` object, and call of the `speak()` method gives the result which is present in the parent class."
   ]
  },
  {
   "cell_type": "markdown",
   "id": "6523cd1a-8d45-4e1a-9279-6a3158818f65",
   "metadata": {},
   "source": [
    "### 5. How can you access the methods and attributes of a parent class from a child class in Python? Give an example."
   ]
  },
  {
   "cell_type": "markdown",
   "id": "a5ee9744-89d2-4a52-b041-7ec5e89bddbf",
   "metadata": {},
   "source": [
    "#### When a class inherits from another class it inherits the attributes and methods of another class. To access the parent’s class methods, we just have to call the constructor of parent class inside the constructor of child class and then the object of a child class can access the methods and attributes of the parent class."
   ]
  },
  {
   "cell_type": "code",
   "execution_count": 13,
   "id": "d169bf92-85e2-4ef8-a11a-04bfc16272fa",
   "metadata": {},
   "outputs": [
    {
     "name": "stdout",
     "output_type": "stream",
     "text": [
      "Hitea\n",
      "12345\n",
      "600000\n"
     ]
    }
   ],
   "source": [
    "class person: # parent class \n",
    "\n",
    "    def __init__(self, name, idnumber):\t #parent __init__ constructor\t\n",
    "        self.name = name #attributes\n",
    "        self.idnumber = idnumber #attributes\n",
    "\n",
    "    def display(self): # a method used to print name and idnumber of the object\n",
    "        print(self.name) \n",
    "        print(self.idnumber) \n",
    "\n",
    "\n",
    "class employee(person): # child class \n",
    "    \n",
    "    def __init__(self, name, idnumber, salary): #child class __init__ constructor\n",
    "        self.salary = salary \n",
    "\n",
    "        person.__init__(self, name, idnumber) # invoking the constructor of the parent class \n",
    "\n",
    "    def show(self): # a method used to print teh salary of the objected person\n",
    "        print(self.salary) \n",
    "\n",
    "# creation of an object variable or an instance \n",
    "a = employee('Hitea', 12345, 600000)\t \n",
    "\n",
    "# calling a function of the class Person using Employee's class instance \n",
    "a.display() # a method from base or parent class\n",
    "a.show() # a method from derived or child class"
   ]
  },
  {
   "cell_type": "markdown",
   "id": "e2455d73-2480-4ca9-bf01-5a8134e08f76",
   "metadata": {},
   "source": [
    "### 6. Discuss the use of the `super()` function in Python inheritance. When and why is it used? Provide an example.\n",
    "\n"
   ]
  },
  {
   "cell_type": "markdown",
   "id": "ad5f65e0-b2f5-451f-84d7-04d3107912e4",
   "metadata": {},
   "source": [
    "#### The `super()` function is a built-in function that returns the objects that represent the parent class. It is used whenever there is a need to access the parent class’s methods and attributes in the child class. An example is given below:"
   ]
  },
  {
   "cell_type": "code",
   "execution_count": 4,
   "id": "5937af82-561e-4800-ac91-05faade78340",
   "metadata": {},
   "outputs": [
    {
     "name": "stdout",
     "output_type": "stream",
     "text": [
      "one1count2\n",
      "count1count2\n"
     ]
    }
   ],
   "source": [
    "class better:\n",
    "    def __init__(self, one, two):\n",
    "        self.one = one\n",
    "        self.two = two\n",
    "    def some(self):\n",
    "        print(self.one + self.two)\n",
    "    \n",
    "class good(better):\n",
    "    def __init__(self, one, two):\n",
    "        self.three = one\n",
    "        self.four = two\n",
    "        super().__init__('one1', two)\n",
    "    def some34(self):\n",
    "        print(self.three + self.four)\n",
    "    \n",
    "persn = good('count1','count2')\n",
    "persn.some()\n",
    "persn.some34()\n",
    "        "
   ]
  },
  {
   "cell_type": "markdown",
   "id": "7b3d61cc-ef46-4cad-9178-b3ce61dfe545",
   "metadata": {},
   "source": [
    "### 7. Create a Python class called `Animal` with a method `speak()`. Then, create child classes `Dog` and `Cat` that inherit from `Animal` and override the `speak()` method. Provide an example of using these classes.\n",
    "\n"
   ]
  },
  {
   "cell_type": "code",
   "execution_count": 8,
   "id": "f6debe4a-89c7-4c00-8b2d-cb207a440981",
   "metadata": {},
   "outputs": [
    {
     "name": "stdout",
     "output_type": "stream",
     "text": [
      "speak\n",
      "bow-wow\n",
      "meow\n"
     ]
    }
   ],
   "source": [
    "class animal:\n",
    "    \n",
    "    def __init__(self):\n",
    "        pass \n",
    "    def speak(self):\n",
    "        print('speak')\n",
    "    \n",
    "class dog(animal):\n",
    "    \n",
    "    def speak(self):\n",
    "        print('bow-wow')\n",
    "\n",
    "class cat(animal):\n",
    "    \n",
    "    def speak(self):\n",
    "        print('meow')\n",
    "\n",
    "jantu = animal()\n",
    "bulldog = dog()\n",
    "ragdoll = cat()\n",
    "jantu.speak()\n",
    "bulldog.speak()\n",
    "ragdoll.speak()"
   ]
  },
  {
   "cell_type": "markdown",
   "id": "8d71704e-90e2-4687-b230-87e3cfb5d754",
   "metadata": {},
   "source": [
    "### 8. Explain the role of the `isinstance()` function in Python and how it relates to inheritance."
   ]
  },
  {
   "cell_type": "markdown",
   "id": "f166eea0-ae76-4c47-8b28-af05c46b00b0",
   "metadata": {},
   "source": [
    "#### `isinstance()` is a function which compares the input with a class type. In inheritance, if a class is be checked for its super class, the `isinstance()` will compare it with the statement like `isinstance(to_be_checked_class, typeofclass)`. e.g. `isinstance(1, int)` checks if the number `1` is a instance of class `int`. More, The `isinstance()` function returns `True` if the specified object is of the specified type, otherwise `False` . If the type parameter is a tuple, this function will return `True` if the object is one of the types in the tuple."
   ]
  },
  {
   "cell_type": "markdown",
   "id": "835d7f53-8aa9-4f9f-b03f-7a4088cf08ce",
   "metadata": {},
   "source": [
    "### 9. What is the purpose of the `issubclass()` function in Python? Provide an example."
   ]
  },
  {
   "cell_type": "markdown",
   "id": "7c43e2bb-8b34-4f76-a55a-29dd6ec22623",
   "metadata": {},
   "source": [
    "#### The issubclass() function returns True if the specified object is a subclass of the specified object, otherwise False."
   ]
  },
  {
   "cell_type": "code",
   "execution_count": 3,
   "id": "ca9985a5-82c0-42ed-b972-b674faa452e1",
   "metadata": {},
   "outputs": [
    {
     "name": "stdout",
     "output_type": "stream",
     "text": [
      "True\n",
      "False\n",
      "True\n"
     ]
    }
   ],
   "source": [
    "class device: #parent class\n",
    "    \n",
    "    def __init__(devicetype):#consructor\n",
    "        print('device is a', devicetype)\n",
    "    \n",
    "class mobile(device):#child class\n",
    "    \n",
    "    def __init__(self):#constructor\n",
    "        device.__init__('mobile')\n",
    "        \n",
    "print(issubclass(mobile, device))\n",
    "print(issubclass(mobile, int))\n",
    "print(issubclass(mobile, mobile))      "
   ]
  },
  {
   "cell_type": "markdown",
   "id": "c99d3847-b459-49b7-853c-05442a3c8f16",
   "metadata": {},
   "source": [
    "### 10. Discuss the concept of constructor inheritance in Python. How are constructors inherited in child classes?"
   ]
  },
  {
   "cell_type": "markdown",
   "id": "e6a2dc79-a3e3-417f-a4f2-95d1624ea917",
   "metadata": {},
   "source": [
    "#### In Python, constructor inheritance refers to the mechanism by which child classes can inherit and potentially extend the behavior of their parent class's constructor. When a child class is defined, it can inherit the constructor (i.e., `__init__` method) from its parent class. This means that if the child class does not define its own constructor, it will automatically use the constructor of the parent class. To explicitly invoke the constructor of the parent class from the constructor of the child class, the super() function is used. While inheriting the parent class's constructor, a child class can also provide its own constructor to extend or override the behavior of the parent class's constructor."
   ]
  },
  {
   "cell_type": "code",
   "execution_count": 3,
   "id": "3a771d87-2085-4bf4-af13-4e67c0612df6",
   "metadata": {},
   "outputs": [
    {
     "name": "stdout",
     "output_type": "stream",
     "text": [
      "Alice\n",
      "Bob\n",
      "25\n"
     ]
    }
   ],
   "source": [
    "class Parent:#parent class\n",
    "    def __init__(self, name):#parent class constructor\n",
    "        self.name = name\n",
    "\n",
    "class Child(Parent):#child class\n",
    "    def __init__(self, name, age):#child class constructor\n",
    "        super().__init__(name)  #parent constructor called\n",
    "        self.age = age#additonal attribute defined\n",
    "\n",
    "parent_instance = Parent(\"Alice\")#parent class object\n",
    "print(parent_instance.name)  #throws output as Alice from parent object\n",
    "\n",
    "child_instance = Child(\"Bob\", 25)#child class object\n",
    "print(child_instance.name)  #throws ouput as Bob from child object\n",
    "print(child_instance.age) #throws output as age which was additionally defined in child class"
   ]
  },
  {
   "cell_type": "markdown",
   "id": "0053c6c2-cb53-48d6-ba4e-902d1eb695bd",
   "metadata": {},
   "source": [
    "### 11. Create a Python class called `Shape` with a method `area()` that calculates the area of a shape. Then, create child classes `Circle` and `Rectangle` that inherit from `Shape` and implement the `area()` method accordingly. Provide an example.\n",
    "\n"
   ]
  },
  {
   "cell_type": "code",
   "execution_count": 24,
   "id": "757fe1f1-05d7-42a0-a1c0-b8c5cf7f665f",
   "metadata": {},
   "outputs": [],
   "source": [
    "import math\n",
    "\n",
    "class shape:\n",
    "    \n",
    "    def area(self):\n",
    "        pass\n",
    "\n",
    "        \n",
    "class circle(shape):\n",
    "    def __init__(self, radius):\n",
    "        self.radius = radius\n",
    "    \n",
    "    def area(self):\n",
    "        return f'Area of the circle is {math.pi*self.radius**2} square units'\n",
    "            \n",
    "class rectangle(shape):\n",
    "    def __init__(self, length, breadth):\n",
    "        self.length = length\n",
    "        self.breadth = breadth        \n",
    "    def area(self):\n",
    "        return f\"Area of the Rectangle is {self.length*self.breadth} square units\""
   ]
  },
  {
   "cell_type": "code",
   "execution_count": 25,
   "id": "bbef121e-b8e3-43dd-a634-6205b94e52d0",
   "metadata": {},
   "outputs": [],
   "source": [
    "unit_circle = circle(1)"
   ]
  },
  {
   "cell_type": "code",
   "execution_count": 26,
   "id": "d6e049e2-8b8c-4448-bd24-7a51c038c9d9",
   "metadata": {},
   "outputs": [
    {
     "data": {
      "text/plain": [
       "'Area of the circle is 3.141592653589793 square units'"
      ]
     },
     "execution_count": 26,
     "metadata": {},
     "output_type": "execute_result"
    }
   ],
   "source": [
    "unit_circle.area()"
   ]
  },
  {
   "cell_type": "code",
   "execution_count": 27,
   "id": "2b520fca-2933-4bdb-9844-4626bba18eaf",
   "metadata": {},
   "outputs": [],
   "source": [
    "unit_rectangle = rectangle(1,1)"
   ]
  },
  {
   "cell_type": "code",
   "execution_count": 28,
   "id": "c22d5ec6-1dc5-44d9-8c34-349816cc04a3",
   "metadata": {},
   "outputs": [
    {
     "data": {
      "text/plain": [
       "'Area of the Rectangle is 1 square units'"
      ]
     },
     "execution_count": 28,
     "metadata": {},
     "output_type": "execute_result"
    }
   ],
   "source": [
    "unit_rectangle.area()"
   ]
  },
  {
   "cell_type": "markdown",
   "id": "ce5810d6-6004-4310-9963-71c26264c93f",
   "metadata": {},
   "source": [
    "### 12. Explain the use of abstract base classes (ABCs) in Python and how they relate to inheritance. Provide an example using the `abc` module.\n",
    "\n"
   ]
  },
  {
   "cell_type": "markdown",
   "id": "727d89f1-7f13-4119-a52d-17e126d89bc3",
   "metadata": {},
   "source": [
    "#### Abstract base class is used when blueprint of a project is to be framed. By defining an abstract base class, you can define a common Application Program Interface(API) for a set of subclasses. It declares the methods but doesnot provide the implementation in python. It is quite useful when third party is involved into the project. Also, if the project is large and involves multiple coding stakeholders, abc is useful and can help unnecessary complications while getting a result as it makes the classes independent with each other and does remove the mix-up. The different modules inherit the basic structure and can work independently, i.e. each class inherits its properties from the parent class which has only declaration and no implementations by overriding the methods easily and maintaining the divide-conquer methodology.\n",
    "\n",
    "#### By default, Python does not provide abstract classes. Python comes with a module that provides the base for defining Abstract Base classes(ABC) and that module name is ABC. ABC works by decorating methods of the base class as an abstract and then registering concrete classes as implementations of the abstract base. A method becomes abstract when decorated with the keyword @abstractmethod."
   ]
  },
  {
   "cell_type": "code",
   "execution_count": 11,
   "id": "9e4d819d-57b7-425c-99f4-b35de9ae885e",
   "metadata": {},
   "outputs": [
    {
     "name": "stdout",
     "output_type": "stream",
     "text": [
      "I have 3 sides\n",
      "I have 4 sides\n",
      "I have 5 sides\n",
      "I have 6 sides\n"
     ]
    }
   ],
   "source": [
    "# Python program showing # abstract base class work\n",
    "from abc import ABC, abstractmethod\n",
    "\n",
    "\n",
    "class Polygon(ABC):\n",
    "\n",
    "\t@abstractmethod\n",
    "\tdef noofsides(self):\n",
    "\t\tpass\n",
    "\n",
    "\n",
    "class Triangle(Polygon):\n",
    "\n",
    "\t# overriding abstract method\n",
    "\tdef noofsides(self):\n",
    "\t\tprint(\"I have 3 sides\")\n",
    "\n",
    "\n",
    "class Pentagon(Polygon):\n",
    "\n",
    "\t# overriding abstract method\n",
    "\tdef noofsides(self):\n",
    "\t\tprint(\"I have 5 sides\")\n",
    "\n",
    "\n",
    "class Hexagon(Polygon):\n",
    "\n",
    "\t# overriding abstract method\n",
    "\tdef noofsides(self):\n",
    "\t\tprint(\"I have 6 sides\")\n",
    "\n",
    "\n",
    "class Quadrilateral(Polygon):\n",
    "\n",
    "\t# overriding abstract method\n",
    "\tdef noofsides(self):\n",
    "\t\tprint(\"I have 4 sides\")\n",
    "\n",
    "\n",
    "R = Triangle()\n",
    "R.noofsides()\n",
    "\n",
    "K = Quadrilateral()\n",
    "K.noofsides()\n",
    "\n",
    "R = Pentagon()\n",
    "R.noofsides()\n",
    "\n",
    "K = Hexagon()\n",
    "K.noofsides()\n"
   ]
  },
  {
   "cell_type": "markdown",
   "id": "19463520-e953-4e7a-89c3-c077c1ecdd4f",
   "metadata": {},
   "source": [
    "### 13. How can you prevent a child class from modifying certain attributes or methods inherited from a parent class in Python?\n",
    "\n"
   ]
  },
  {
   "cell_type": "markdown",
   "id": "28aad449-6186-447a-99da-392812c8a3f1",
   "metadata": {},
   "source": [
    "#### We can use access modifiers, such as making attributes private, using properties, or marking methods as private or protected, to restrict or control the access and modification of certain attributes and methods in child classes, making it more difficult for child classes to inadvertently or intentionally modify them."
   ]
  },
  {
   "cell_type": "code",
   "execution_count": 19,
   "id": "91b61c69-7d96-4506-9d76-6fff4d45e878",
   "metadata": {},
   "outputs": [],
   "source": [
    "class Parent:\n",
    "    def __init__(self):\n",
    "        self.__private_method()\n",
    "\n",
    "    def __private_method(self):\n",
    "        pass\n",
    "\n",
    "    def _protected_method(self):\n",
    "        pass\n",
    "\n",
    "class Child(Parent):\n",
    "    def __init__(self):\n",
    "        super().__init__()\n",
    "\n",
    "    def modify_methods(self):\n",
    "        # Attempting to call the private method will not work directly\n",
    "        self.__private_method()  # This will raise an error\n",
    "        self._protected_method()  # This works"
   ]
  },
  {
   "cell_type": "code",
   "execution_count": 20,
   "id": "167c5446-1665-4f2c-8c5d-2d3de2d3fe00",
   "metadata": {},
   "outputs": [],
   "source": [
    "chld = Child()"
   ]
  },
  {
   "cell_type": "code",
   "execution_count": 21,
   "id": "39b86123-bd81-4388-98a6-4eb170b710db",
   "metadata": {},
   "outputs": [
    {
     "ename": "AttributeError",
     "evalue": "'Child' object has no attribute '_Child__private_method'",
     "output_type": "error",
     "traceback": [
      "\u001b[0;31m---------------------------------------------------------------------------\u001b[0m",
      "\u001b[0;31mAttributeError\u001b[0m                            Traceback (most recent call last)",
      "Cell \u001b[0;32mIn[21], line 1\u001b[0m\n\u001b[0;32m----> 1\u001b[0m \u001b[43mchld\u001b[49m\u001b[38;5;241;43m.\u001b[39;49m\u001b[43mmodify_methods\u001b[49m\u001b[43m(\u001b[49m\u001b[43m)\u001b[49m\n",
      "Cell \u001b[0;32mIn[19], line 17\u001b[0m, in \u001b[0;36mChild.modify_methods\u001b[0;34m(self)\u001b[0m\n\u001b[1;32m     15\u001b[0m \u001b[38;5;28;01mdef\u001b[39;00m \u001b[38;5;21mmodify_methods\u001b[39m(\u001b[38;5;28mself\u001b[39m):\n\u001b[1;32m     16\u001b[0m     \u001b[38;5;66;03m# Attempting to call the private method will not work directly\u001b[39;00m\n\u001b[0;32m---> 17\u001b[0m     \u001b[38;5;28;43mself\u001b[39;49m\u001b[38;5;241;43m.\u001b[39;49m\u001b[43m__private_method\u001b[49m()  \u001b[38;5;66;03m# This will raise an error\u001b[39;00m\n\u001b[1;32m     18\u001b[0m     \u001b[38;5;28mself\u001b[39m\u001b[38;5;241m.\u001b[39m_protected_method()\n",
      "\u001b[0;31mAttributeError\u001b[0m: 'Child' object has no attribute '_Child__private_method'"
     ]
    }
   ],
   "source": [
    "chld.modify_methods()"
   ]
  },
  {
   "cell_type": "markdown",
   "id": "69ca8a55-aa6f-43ac-ae43-a5057af17c22",
   "metadata": {},
   "source": [
    "### 14. Create a Python class called `Employee` with attributes `name` and `salary`. Then, create a child class `Manager` that inherits from `Employee` and adds an attribute `department`. Provide an example"
   ]
  },
  {
   "cell_type": "code",
   "execution_count": 12,
   "id": "7719354d-39c6-49c0-9bc2-e16359f0ca12",
   "metadata": {},
   "outputs": [],
   "source": [
    "class employee:\n",
    "    def __init__(self, name, salary):\n",
    "        self.name = name\n",
    "        self.salary = salary\n",
    "\n",
    "class manager(employee):\n",
    "    def __init__(self, name, salary, department):\n",
    "        self.name_ = name\n",
    "        super().__init__(name, salary)\n",
    "        self.department = department\n",
    "        \n",
    "    def manager_details(self):\n",
    "        print(f\"{self.name_}, {self.salary}, {self.department}\")"
   ]
  },
  {
   "cell_type": "code",
   "execution_count": 13,
   "id": "2d608a2e-1aa5-4468-a6ed-87becb61ba55",
   "metadata": {},
   "outputs": [],
   "source": [
    "mgr = manager('Chamira', 10000, 'bowling')"
   ]
  },
  {
   "cell_type": "code",
   "execution_count": 14,
   "id": "58189899-f6a5-4033-be7e-e4f621eb323e",
   "metadata": {},
   "outputs": [
    {
     "name": "stdout",
     "output_type": "stream",
     "text": [
      "Chamira, 10000, bowling\n"
     ]
    }
   ],
   "source": [
    "mgr.manager_details()"
   ]
  },
  {
   "cell_type": "code",
   "execution_count": 15,
   "id": "a9236aa2-fbf8-4f56-9daa-51de3c563ddf",
   "metadata": {},
   "outputs": [
    {
     "name": "stdout",
     "output_type": "stream",
     "text": [
      "Chamira Chamira\n"
     ]
    }
   ],
   "source": [
    "print(mgr.name_, mgr.name)"
   ]
  },
  {
   "cell_type": "markdown",
   "id": "301ac5c9-2469-4c43-93e0-9e954eb9b685",
   "metadata": {},
   "source": [
    "### 15. Discuss the concept of method overloading in Python inheritance. How does it differ from method overriding?"
   ]
  },
  {
   "cell_type": "markdown",
   "id": "c70349af-08b3-49de-8ea1-01fc45fab606",
   "metadata": {},
   "source": [
    "#### Method overloading in pyhton is the concept by which an operation can be made to behave differently in different situations or conditions. Alternatively, creating more than one method with the same name in the same class is called method overloading. Methods with the same name could be declared methods and inherited methods. Overloaded methods must have different number of parameters, different types of parameters, or both.\n",
    "\n",
    "#### Difference between method overloading and method overridding:\n",
    "1. In the method overloading, methods or functions must have the same name and different signatures. Whereas in the method overriding, methods or functions must have the same name and same signatures.\n",
    "2. Method overloading is a example of compile time polymorphism. Whereas method overriding is a example of run time polymorphism\n",
    "3. In the method overloading, inheritance may or may not be required. Whereas in method overriding, inheritance always required.\n",
    "4. Method overloading is performed between methods within the class. Whereas method overriding is done between parent class and child class methods."
   ]
  },
  {
   "cell_type": "markdown",
   "id": "1e153447-b6f4-424b-9fe9-f4141e5ab344",
   "metadata": {},
   "source": [
    "### 16. Explain the purpose of the `__init__()` method in Python inheritance and how it is utilized in child classes.\n",
    "\n"
   ]
  },
  {
   "cell_type": "markdown",
   "id": "7e610d8f-c4da-4ea2-8bea-bfe1ba945a4c",
   "metadata": {},
   "source": [
    "#### In Python, the `__init__()` method is a special method known as a constructor. It is used to initialize objects created from a class, and it plays a crucial role in inheritance when creating child classes.\n",
    "\n",
    "#### The primary purpose of the `__init__()` method is to initialize the attributes (also called instance variables) of an object when it is created. In the context of inheritance, it is important for child classes to be able to initialize their own attributes as well as those inherited from their parent class."
   ]
  },
  {
   "cell_type": "markdown",
   "id": "d6a96fef-9d64-40f4-a496-c36a00902314",
   "metadata": {},
   "source": [
    "### 17. Create a Python class called `Bird` with a method `fly()`. Then, create child classes `Eagle` and `Sparrow` that inherit from `Bird` and implement the `fly()` method differently. Provide an example of using these classes.\n",
    "\n"
   ]
  },
  {
   "cell_type": "code",
   "execution_count": 6,
   "id": "45d99b06-311a-4eca-ad32-53d3283199b6",
   "metadata": {},
   "outputs": [],
   "source": [
    "class bird:\n",
    "    \n",
    "    def fly(self):\n",
    "        print(\"I can fly\")\n",
    "        \n",
    "class eagle(bird):\n",
    "    \n",
    "    def fly(self):\n",
    "        print(\"I can soar\")\n",
    "        \n",
    "class sparrow(bird):\n",
    "    \n",
    "    def fly(self):\n",
    "        print(\"I can chirp and fly\")\n",
    "\n",
    "brd = bird()\n",
    "egl = eagle()\n",
    "spr = sparrow()"
   ]
  },
  {
   "cell_type": "code",
   "execution_count": 7,
   "id": "313fe055-f72e-4d2b-9447-1c4ab0109a9d",
   "metadata": {},
   "outputs": [
    {
     "name": "stdout",
     "output_type": "stream",
     "text": [
      "I can fly\n"
     ]
    }
   ],
   "source": [
    "brd.fly()"
   ]
  },
  {
   "cell_type": "code",
   "execution_count": 8,
   "id": "24dbbeea-636f-4a9a-bfa3-54c101033841",
   "metadata": {},
   "outputs": [
    {
     "name": "stdout",
     "output_type": "stream",
     "text": [
      "I can soar\n"
     ]
    }
   ],
   "source": [
    "egl.fly()"
   ]
  },
  {
   "cell_type": "code",
   "execution_count": 9,
   "id": "4aefd015-4faa-4f4e-af71-30ee57c65dfd",
   "metadata": {},
   "outputs": [
    {
     "name": "stdout",
     "output_type": "stream",
     "text": [
      "I can chirp and fly\n"
     ]
    }
   ],
   "source": [
    "spr.fly()"
   ]
  },
  {
   "cell_type": "markdown",
   "id": "50a998a7-61d3-406a-b86b-243d49835bdb",
   "metadata": {},
   "source": [
    "### 18. What is the \"diamond problem\" in multiple inheritance, and how does Python address it?\n",
    "\n"
   ]
  },
  {
   "cell_type": "markdown",
   "id": "7102060a-5899-4c4b-aeab-5054e9a52c11",
   "metadata": {},
   "source": [
    "#### The \"diamond problem\" is a common issue in object-oriented programming languages that support multiple inheritance, and it occurs when a particular class inherits from two or more classes that have a common ancestor.\n",
    "\n",
    "#### Python addresses the diamond problem by using the C3 Linearization algorithm to provide a predictable and consistent method resolution order and by offering the super() function for calling superclass methods."
   ]
  },
  {
   "cell_type": "code",
   "execution_count": 22,
   "id": "a36bbdcf-0767-41c1-b5c0-bd594a75bced",
   "metadata": {},
   "outputs": [
    {
     "name": "stdout",
     "output_type": "stream",
     "text": [
      "B's method\n"
     ]
    }
   ],
   "source": [
    "class A:\n",
    "    def method(self):\n",
    "        print(\"A's method\")\n",
    "\n",
    "class B(A):\n",
    "    def method(self):\n",
    "        print(\"B's method\")\n",
    "\n",
    "class C(A):\n",
    "    def method(self):\n",
    "        print(\"C's method\")\n",
    "\n",
    "class D(B, C):\n",
    "    pass\n",
    "\n",
    "obj = D()\n",
    "obj.method()  # Calls B's method, as it's the next class in the MRO"
   ]
  },
  {
   "cell_type": "markdown",
   "id": "a534e310-7c21-43ab-a532-76e6fd4a1b5c",
   "metadata": {},
   "source": [
    "### 19. Discuss the concept of \"is-a\" and \"has-a\" relationships in inheritance, and provide examples of each.\n",
    "\n"
   ]
  },
  {
   "cell_type": "markdown",
   "id": "8cccfd46-1483-418f-987b-02df599b64fa",
   "metadata": {},
   "source": [
    "#### An \"is-a\" relationship is used to model inheritance or specialization, where a subclass is a more specialized version of a superclass. It signifies that an object of the subclass can be treated as an object of the superclass. In the below example #1, Dog and Cat are subclasses of the Animal superclass. They inherit the speak method from Animal but provide their own implementations, which is a common example of an \"is-a\" relationship.\n",
    "\n",
    "#### A \"has-a\" relationship is used to model composition, where one class contains an instance of another class as an attribute. It signifies that a class \"has-a\" relationship with another class as a part of its composition. In example #2, a Car class has a \"has-a\" relationship with an Engine class. The Car class contains an instance of the Engine class as an attribute, which represents a \"has-a\" relationship. This allows the Car object to access and use the methods and attributes of the Engine object."
   ]
  },
  {
   "cell_type": "code",
   "execution_count": 23,
   "id": "12cc0849-c0ec-4793-a8c7-739adfb79baf",
   "metadata": {},
   "outputs": [],
   "source": [
    "#example 1\n",
    "class Animal:\n",
    "    def speak(self):\n",
    "        pass\n",
    "\n",
    "class Dog(Animal):\n",
    "    def speak(self):\n",
    "        return \"Woof!\"\n",
    "\n",
    "class Cat(Animal):\n",
    "    def speak(self):\n",
    "        return \"Meow!\""
   ]
  },
  {
   "cell_type": "code",
   "execution_count": 24,
   "id": "bc35b3b1-72a1-41eb-9bce-f415e6688b8a",
   "metadata": {},
   "outputs": [
    {
     "name": "stdout",
     "output_type": "stream",
     "text": [
      "Car is driving\n",
      "Engine started\n"
     ]
    }
   ],
   "source": [
    "#example 2\n",
    "class Engine:\n",
    "    def start(self):\n",
    "        print(\"Engine started\")\n",
    "\n",
    "class Car:\n",
    "    def __init__(self):\n",
    "        self.engine = Engine()\n",
    "\n",
    "    def drive(self):\n",
    "        print(\"Car is driving\")\n",
    "\n",
    "my_car = Car()\n",
    "my_car.drive()\n",
    "my_car.engine.start()"
   ]
  },
  {
   "cell_type": "markdown",
   "id": "c42f70e4-eb19-4ec4-bf15-927ee34a5e8a",
   "metadata": {},
   "source": [
    "### 20. Create a Python class hierarchy for a university system. Start with a base class `Person` and create child classes `Student` and `Professor`, each with their own attributes and methods. Provide an example of using these classes in a university context."
   ]
  },
  {
   "cell_type": "code",
   "execution_count": 1,
   "id": "c9afda91-cb13-4f45-9a39-fe75b558d7df",
   "metadata": {},
   "outputs": [],
   "source": [
    "class person:\n",
    "    def __init__(self, name, age):\n",
    "        self.name = name\n",
    "        self.age = age\n",
    "    def details(self):\n",
    "        return f\"{self.name}, {self.age}\"\n",
    "    \n",
    "\n",
    "class student(person):\n",
    "    @classmethod \n",
    "    def __init__(self, name, age, subject_studied):\n",
    "        super().__init__(name, age)\n",
    "        self.subject_studied = subject_studied\n",
    "    def student_details(self):\n",
    "        return f\"{self.name}, {self.age}, {self.subject_studied}\"\n",
    "    \n",
    "class professor(person):\n",
    "    def __init__(self, name, age, subject_taught):\n",
    "        super().__init__(name, age)\n",
    "        self.subject_taught = subject_taught\n",
    "    def prof_details(self):\n",
    "        return f\"{self.name}, {self.age}, {self.subject_taught}\"\n",
    "    def course(self):\n",
    "        student.subject_studied = classmethod(subject_studied)\n",
    "        if subject.subject_studied == self.subject_taught:\n",
    "            print(f\"The student is taught by Professor {self.name}\")\n",
    "        "
   ]
  }
 ],
 "metadata": {
  "kernelspec": {
   "display_name": "Python 3 (ipykernel)",
   "language": "python",
   "name": "python3"
  },
  "language_info": {
   "codemirror_mode": {
    "name": "ipython",
    "version": 3
   },
   "file_extension": ".py",
   "mimetype": "text/x-python",
   "name": "python",
   "nbconvert_exporter": "python",
   "pygments_lexer": "ipython3",
   "version": "3.10.8"
  }
 },
 "nbformat": 4,
 "nbformat_minor": 5
}
