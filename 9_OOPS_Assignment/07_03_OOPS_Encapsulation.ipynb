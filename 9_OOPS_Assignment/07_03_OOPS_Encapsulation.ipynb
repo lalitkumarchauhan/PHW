{
 "cells": [
  {
   "cell_type": "markdown",
   "id": "97187e8d-6185-46bb-8d63-70ba9ed5a1ee",
   "metadata": {},
   "source": [
    "# OOPS_2_Assignment"
   ]
  },
  {
   "cell_type": "markdown",
   "id": "08fb57b5-9d18-4c53-b22a-aecab48bf910",
   "metadata": {},
   "source": [
    "## Encapsulation:"
   ]
  },
  {
   "cell_type": "markdown",
   "id": "779cf4d5-6850-4454-a62d-71b875c91d53",
   "metadata": {},
   "source": [
    "### 1. Explain the concept of encapsulation in Python. What is its role in object-oriented programming?"
   ]
  },
  {
   "cell_type": "markdown",
   "id": "cc21de03-248f-4f2c-957f-f3986c0d1013",
   "metadata": {},
   "source": [
    "#### In a simple manner, encapsulation can be called as analogous to encryption or black box in which the outer world doesnot know what lies inside the object except the maker of the object, in this case, it is a coder or a programmer. Encapsulation is used to prevent user from getting into unnecessary details which might imapct their interests in using the product as it is not a concern for them. The concept of private , protected variables is the very basis of the object oriented programming. It helps in showcasing only those entities which are required by the end-users. The data is hidden and the functions or methods can be accessed by the programmer-given functions and not directly as in case of public methods. Encapsulation is one of the fundamental principles of object-oriented programming (OOP) that promotes the idea of bundling data and the methods that operate on that data into a single unit called a class."
   ]
  },
  {
   "cell_type": "markdown",
   "id": "7561fb4a-8991-408e-ab51-fe8d91c5d653",
   "metadata": {},
   "source": [
    "### 2. Describe the key principles of encapsulation, including access control and data hiding.\n",
    "\n",
    "\n"
   ]
  },
  {
   "cell_type": "markdown",
   "id": "e9d99648-7a4b-406a-a6a2-4106cfac4355",
   "metadata": {},
   "source": [
    "#### Encapsulation enforces data protection and access control, making it an essential concept in designing modular and maintainable software. Access control is the mechanism that defines the visibility and accessibility of the class's members (attributes and methods). Encapsulation allows you to specify who or what code can access and modify the internal components of a class. Data hiding, also known as information hiding, is the practice of encapsulating the internal state of an object and allowing controlled access to that state through well-defined interfaces (methods). The primary purpose of data hiding is to prevent the direct modification of an object's internal data from outside the class."
   ]
  },
  {
   "cell_type": "markdown",
   "id": "692e1db1-4830-43d2-9835-34ea8062690f",
   "metadata": {},
   "source": [
    "### 3. How can you achieve encapsulation in Python classes? Provide an example.\n",
    "\n",
    "\n"
   ]
  },
  {
   "cell_type": "markdown",
   "id": "04a6bd06-3191-4fe5-8cdf-cec1a1c109c6",
   "metadata": {},
   "source": [
    "#### In Python, you can achieve encapsulation using a combination of access modifiers and naming conventions. A suitable example is given below:"
   ]
  },
  {
   "cell_type": "code",
   "execution_count": 15,
   "id": "d195bd68-e0d4-4add-894d-c198915485e3",
   "metadata": {},
   "outputs": [
    {
     "name": "stdout",
     "output_type": "stream",
     "text": [
      "100\n",
      "This is a protected method\n",
      "secret\n",
      "This is a private method\n"
     ]
    }
   ],
   "source": [
    "class MyClass:\n",
    "    def __init__(self):\n",
    "        self.public_var = 42\n",
    "        self._protected_var = 100\n",
    "        self.__private_var = \"secret\"\n",
    "\n",
    "    def public_method(self):\n",
    "        print(\"This is a public method\")\n",
    "\n",
    "    def _protected_method(self):\n",
    "        print(\"This is a protected method\")\n",
    "\n",
    "    def __private_method(self):\n",
    "        print(\"This is a private method\")\n",
    "\n",
    "obj = MyClass()\n",
    "\n",
    "# Accessing protected members (convention, not enforced)\n",
    "print(obj._protected_var)  # 100\n",
    "obj._protected_method()    # This is a protected method\n",
    "\n",
    "# Accessing private members (name mangling)\n",
    "# This works, but it's not recommended.\n",
    "print(obj._MyClass__private_var)  # secret\n",
    "obj._MyClass__private_method()    # This is a private method"
   ]
  },
  {
   "cell_type": "markdown",
   "id": "ee8737ab-2506-4e00-b4de-1bac05db6d04",
   "metadata": {},
   "source": [
    "### 4. Discuss the difference between public, private, and protected access modifiers in Python.\n",
    "\n",
    "\n"
   ]
  },
  {
   "cell_type": "markdown",
   "id": "b0b1bc90-1420-451b-8125-0f19d6eb8406",
   "metadata": {},
   "source": [
    "#### a. Public: Members marked as public are accessible from any part of the program, allowing them to be used freely by other classes and objects. This is often used for methods that provide the intended interface to the class.\n",
    "\n",
    "#### b. Private: Private members are only accessible within the class where they are declared. This restricts direct external access, providing data protection and ensuring that the internal state remains consistent and valid. Members with names starting with a double underscore are considered private\n",
    "\n",
    "#### c. Protected : Protected members are accessible within the class and any derived classes (subclasses). In some programming languages, it allows members to be accessible within the same package or module. Members with names starting with an single underscore are considered protected ones."
   ]
  },
  {
   "cell_type": "markdown",
   "id": "5e09c4ff-bd87-41dc-9fb1-9e476d5a48cd",
   "metadata": {},
   "source": [
    "### 5. Create a Python class called `Person` with a private attribute `__name`. Provide methods to get and set the name attribute.\n",
    "\n",
    "\n"
   ]
  },
  {
   "cell_type": "code",
   "execution_count": 1,
   "id": "7dced298-893c-41ac-bffb-51dd73b86c2c",
   "metadata": {},
   "outputs": [],
   "source": [
    "class Person:\n",
    "    \n",
    "    def __init__(self, name):\n",
    "        self.__name = name\n",
    "        \n",
    "    def get_name(self):\n",
    "        print(f'The name is {self.__name}')\n",
    "    \n",
    "    def set_name(self, mod_name):\n",
    "        self.__name = mod_name\n",
    "        print(f'The name has been modified to {self.__name}')"
   ]
  },
  {
   "cell_type": "code",
   "execution_count": 2,
   "id": "2baae6b6-c01d-4c70-814b-60eb6c8628e7",
   "metadata": {},
   "outputs": [],
   "source": [
    "per = Person('Ashoka')"
   ]
  },
  {
   "cell_type": "code",
   "execution_count": 3,
   "id": "37df47d0-4447-4a7b-844e-e5aa25709636",
   "metadata": {},
   "outputs": [
    {
     "name": "stdout",
     "output_type": "stream",
     "text": [
      "The name is Ashoka\n"
     ]
    }
   ],
   "source": [
    "per.get_name()"
   ]
  },
  {
   "cell_type": "code",
   "execution_count": 4,
   "id": "c5e5a431-ab26-44f4-994a-c6950397fd1e",
   "metadata": {},
   "outputs": [
    {
     "name": "stdout",
     "output_type": "stream",
     "text": [
      "The name has been modified to Kautilya\n"
     ]
    }
   ],
   "source": [
    "per.set_name('Kautilya')"
   ]
  },
  {
   "cell_type": "markdown",
   "id": "e8e84626-f47c-40eb-88a9-1d2a2174c491",
   "metadata": {},
   "source": [
    "### 6. Explain the purpose of getter and setter methods in encapsulation. Provide examples.\n",
    "\n",
    "\n"
   ]
  },
  {
   "cell_type": "markdown",
   "id": "1e8b02eb-c8bf-4a8b-a02d-eb2d6e933abe",
   "metadata": {},
   "source": [
    "#### getter and setter methods are the methods which provide access to the attribute which are private or protected to the user. These methods are used by the programmer to access and change the attributes via them in case a variable is not to be accessed directly. This makes the attribute safe from any intervention from a malicious actor. A suitable exampe is given below:"
   ]
  },
  {
   "cell_type": "code",
   "execution_count": 16,
   "id": "4a86ac73-9167-4a93-a8d6-788beac5a400",
   "metadata": {},
   "outputs": [
    {
     "name": "stdout",
     "output_type": "stream",
     "text": [
      "100\n",
      "This is a protected method\n",
      "secret\n",
      "This is a private method\n"
     ]
    }
   ],
   "source": [
    "class MyClass:\n",
    "    def __init__(self):\n",
    "        self.public_var = 42\n",
    "        self._protected_var = 100\n",
    "        self.__private_var = \"secret\"\n",
    "\n",
    "    def public_method(self):\n",
    "        print(\"This is a public method\")\n",
    "\n",
    "    def _protected_method(self):\n",
    "        print(\"This is a protected method\")\n",
    "\n",
    "    def __private_method(self):\n",
    "        print(\"This is a private method\")\n",
    "\n",
    "obj = MyClass()\n",
    "\n",
    "# Accessing protected members (convention, not enforced)\n",
    "print(obj._protected_var)  # 100\n",
    "obj._protected_method()    # This is a protected method\n",
    "\n",
    "# Accessing private members (name mangling)\n",
    "# This works, but it's not recommended.\n",
    "print(obj._MyClass__private_var)  # secret\n",
    "obj._MyClass__private_method()    # This is a private method"
   ]
  },
  {
   "cell_type": "markdown",
   "id": "3d292c4f-bf6e-4109-9329-c1d30083341e",
   "metadata": {},
   "source": [
    "### 7. What is name mangling in Python, and how does it affect encapsulation?\n",
    "\n",
    "\n"
   ]
  },
  {
   "cell_type": "markdown",
   "id": "7b9c6adc-4f76-4188-9526-7425f2799638",
   "metadata": {},
   "source": [
    "#### Name mangling is a mechanism used in Python to make the names of certain class attributes more unique and less accessible from outside the class. It is primarily applied to attributes that are designated as \"private\" by using a double underscore prefix, such as __variable. It is primarily applied to attributes that are designated as \"private\" by using a double underscore prefix, such as __variable."
   ]
  },
  {
   "cell_type": "markdown",
   "id": "fa33670d-4335-40be-b270-618cf9f028bc",
   "metadata": {},
   "source": [
    "### 8. Create a Python class called `BankAccount` with private attributes for the account balance (`__balance`) and account number (`__account_number`). Provide methods for depositing and withdrawing money. \n",
    "\n"
   ]
  },
  {
   "cell_type": "code",
   "execution_count": 10,
   "id": "5e1167a4-041c-417b-beae-c38c2c0cb2b1",
   "metadata": {},
   "outputs": [],
   "source": [
    "class BankAccount:\n",
    "    \n",
    "    def __init__(self, acc_no, bal):\n",
    "        self.__account_number = acc_no\n",
    "        self.__balance = bal\n",
    "        \n",
    "    def deposit(self, amount):\n",
    "        self.__balance += amount\n",
    "        print(f'The new balance is {self.__balance}')\n",
    "        \n",
    "    def withdraw(self, amount):\n",
    "        if amount > self.__balance:\n",
    "            return 'You donot have sufficient balance in the account'\n",
    "        else: \n",
    "            self.__balance -= amount\n",
    "            print(f'The new balance is {self.__balance}')"
   ]
  },
  {
   "cell_type": "code",
   "execution_count": 11,
   "id": "46d0ed2c-83ed-49e5-8856-f84fefb19565",
   "metadata": {},
   "outputs": [],
   "source": [
    "bnk = BankAccount(12349876, 1000)"
   ]
  },
  {
   "cell_type": "code",
   "execution_count": 12,
   "id": "47e060e0-ac93-4132-abc9-6985731fca5e",
   "metadata": {},
   "outputs": [
    {
     "name": "stdout",
     "output_type": "stream",
     "text": [
      "The new balance is 3000\n"
     ]
    }
   ],
   "source": [
    "bnk.deposit(2000)"
   ]
  },
  {
   "cell_type": "code",
   "execution_count": 13,
   "id": "0ec29f89-9d93-42e8-9f72-330daac92204",
   "metadata": {},
   "outputs": [
    {
     "name": "stdout",
     "output_type": "stream",
     "text": [
      "The new balance is 2000\n"
     ]
    }
   ],
   "source": [
    "bnk.withdraw(1000)"
   ]
  },
  {
   "cell_type": "code",
   "execution_count": 14,
   "id": "e0ef89dc-97ad-465f-8351-523deaa3de4f",
   "metadata": {},
   "outputs": [
    {
     "data": {
      "text/plain": [
       "'You donot have sufficient balance in the account'"
      ]
     },
     "execution_count": 14,
     "metadata": {},
     "output_type": "execute_result"
    }
   ],
   "source": [
    "bnk.withdraw(2001)"
   ]
  },
  {
   "cell_type": "markdown",
   "id": "860ebe01-897d-43f7-8b98-3bd67517e69f",
   "metadata": {},
   "source": [
    "### 9. Discuss the advantages of encapsulation in terms of code maintainability and security.\n",
    "\n",
    "\n"
   ]
  },
  {
   "cell_type": "markdown",
   "id": "f0c1de21-83c6-463e-b942-eb73742347b0",
   "metadata": {},
   "source": [
    "#### Encapsulation is advantageous as the attribute or methods become safe or hidden from the users and hence are less prone to be accessed or modified maliciously which enhances its security. In case, if there are any changes to variables or methods, it is easy to handle via encapsulation without affecting the user which gives it a maitainability."
   ]
  },
  {
   "cell_type": "markdown",
   "id": "552653a7-e569-4c55-a139-f39b93473d59",
   "metadata": {},
   "source": [
    "### 10. How can you access private attributes in Python? Provide an example demonstrating the use of name mangling.\n",
    "\n",
    "\n"
   ]
  },
  {
   "cell_type": "markdown",
   "id": "7fed7a84-ebe7-46fb-b6a6-75d07e69a720",
   "metadata": {},
   "source": [
    "#### private methods can be accessed as shown in the below example in which the attribute which is private can be easily accessed by `(obj._MyClass__private_var)`"
   ]
  },
  {
   "cell_type": "code",
   "execution_count": 17,
   "id": "87d67c5e-2419-4e9a-b1f3-58ac74f1fb2f",
   "metadata": {},
   "outputs": [
    {
     "name": "stdout",
     "output_type": "stream",
     "text": [
      "secret\n",
      "This is a private method\n"
     ]
    }
   ],
   "source": [
    "class MyClass:\n",
    "    def __init__(self):\n",
    "        self.__private_var = \"secret\"\n",
    "\n",
    "    def __private_method(self):\n",
    "        print(\"This is a private method\")\n",
    "\n",
    "obj = MyClass()\n",
    "\n",
    "# Accessing private members (name mangling)\n",
    "# This works because Python internally changes the name\n",
    "print(obj._MyClass__private_var)  # secret\n",
    "obj._MyClass__private_method()    # This is a private method"
   ]
  },
  {
   "cell_type": "markdown",
   "id": "1b461fbb-f9c1-46e2-b013-a9fae49c28de",
   "metadata": {},
   "source": [
    "### 11. Create a Python class hierarchy for a school system, including classes for students, teachers, and courses, and implement encapsulation principles to protect sensitive information.\n",
    "\n",
    "\n"
   ]
  },
  {
   "cell_type": "code",
   "execution_count": null,
   "id": "17d39a90-04f2-4ab5-a37f-9cfd5402635f",
   "metadata": {},
   "outputs": [],
   "source": [
    "class school_system:\n",
    "    \n",
    "    def __init__(self):\n",
    "        pass\n",
    "    \n",
    "class student(school_system):\n",
    "    def student_details(self, roll_no, stu_name, clas):\n",
    "        self.__stu_name = stu_name\n",
    "        \n",
    "class teacher(student):\n",
    "    def teacher_details(self, emp_id, teac_name, clas):\n",
    "        self.__teac_name = teac_name\n",
    "        \n",
    "class course_details(student, teacher):\n",
    "    def (self, course_name, course_duration):\n",
    "        self.course_name = course_name\n",
    "        \n"
   ]
  },
  {
   "cell_type": "markdown",
   "id": "ce6e19ee-3123-4394-91c7-ad67f77842fc",
   "metadata": {},
   "source": [
    "### 12. Explain the concept of property decorators in Python and how they relate to encapsulation.\n",
    "\n",
    "\n"
   ]
  },
  {
   "cell_type": "markdown",
   "id": "e2fb951b-c1e6-4d0a-acf9-85d19e42b12b",
   "metadata": {},
   "source": [
    "#### The @property is a built-in decorator for the property() function in Python. It is used to give \"special\" functionality to certain methods to make them act as getters, setters, or deleters when we define properties in a class. By defining properties, you can change the internal implementation of a class without affecting the program, so you can add getters, setters, and deleters that act as intermediaries \"behind the scenes\" to avoid accessing or modifying the data directly. Property implements the encapsulation to public variables by introducing @property.setter, @property.getter and @property.deleter"
   ]
  },
  {
   "cell_type": "code",
   "execution_count": 2,
   "id": "2e11e6ab-4240-4bcb-a975-24e9ae7c39e8",
   "metadata": {},
   "outputs": [],
   "source": [
    "class House:\n",
    "\n",
    "    def __init__(self, price):\n",
    "        self._price = price\n",
    "\n",
    "    @property\n",
    "    def price(self):\n",
    "        return self._price\n",
    "\n",
    "    @price.setter\n",
    "    def price(self, new_price):\n",
    "        if new_price > 0 and isinstance(new_price, float):\n",
    "            self._price = new_price\n",
    "        else:\n",
    "            print(\"Please enter a valid price\")\n",
    "\n",
    "    @price.deleter\n",
    "    def price(self):\n",
    "        del self._price"
   ]
  },
  {
   "cell_type": "markdown",
   "id": "2cfaa655-e30d-48a4-a7f3-d5bb2358839f",
   "metadata": {},
   "source": [
    "### 13. What is data hiding, and why is it important in encapsulation? Provide examples.\n",
    "\n",
    "\n"
   ]
  },
  {
   "cell_type": "markdown",
   "id": "c9d4d989-bde5-49c9-a6df-d2ea961ecf6a",
   "metadata": {},
   "source": [
    "#### Data hiding, also known as information hiding, is the practice of encapsulating the internal state of an object and allowing controlled access to that state through well-defined interfaces (methods). The primary purpose of data hiding is to prevent the direct modification of an object's internal data from outside the class. It is generally done using setters and getters"
   ]
  },
  {
   "cell_type": "code",
   "execution_count": 18,
   "id": "99ce79ca-dc17-4457-8dcd-0f1be391b4bf",
   "metadata": {},
   "outputs": [],
   "source": [
    "class Person:\n",
    "    \n",
    "    def __init__(self, name):\n",
    "        self.__name = name\n",
    "        \n",
    "    def get_name(self):\n",
    "        print(f'The name is {self.__name}')\n",
    "    \n",
    "    def set_name(self, mod_name):\n",
    "        self.__name = mod_name\n",
    "        print(f'The name has been modified to {self.__name}')"
   ]
  },
  {
   "cell_type": "code",
   "execution_count": 19,
   "id": "7474c37e-0d9b-4f8c-85bd-0dcedfe49c58",
   "metadata": {},
   "outputs": [
    {
     "name": "stdout",
     "output_type": "stream",
     "text": [
      "The name is kagiso\n",
      "The name has been modified to rabada\n"
     ]
    }
   ],
   "source": [
    "pr = Person(\"kagiso\")\n",
    "pr.get_name()\n",
    "pr.set_name('rabada')"
   ]
  },
  {
   "cell_type": "markdown",
   "id": "42adca05-4402-403b-9cb5-db2cb2598e6d",
   "metadata": {},
   "source": [
    "### 14. Create a Python class called `Employee` with private attributes for salary (`__salary`) and employee ID (`__employee_id`). Provide a method to calculate yearly bonuses.\n",
    "\n",
    "\n"
   ]
  },
  {
   "cell_type": "code",
   "execution_count": 36,
   "id": "d742caed-d4a6-442c-8616-53d2b5c35aae",
   "metadata": {},
   "outputs": [],
   "source": [
    "class Employee:\n",
    "    \n",
    "    def __init__(self, sal, emp_id, tenure):\n",
    "        self.__salary = sal\n",
    "        self.__employee_id = emp_id\n",
    "        self.__tenure = tenure\n",
    "    def yrly_bonus(self):        \n",
    "        if self.__tenure > 7:\n",
    "            yrly_bon = 1000\n",
    "            return 'Yearly bonus is \\\"1000 INR\"'\n",
    "        elif 0 < self.__tenure <= 7:\n",
    "            yrly_bon =  10*self.__salary\n",
    "            return f'Yearly bonus is \\\"{yrly_bon} INR\"'\n",
    "        \n",
    "        else:\n",
    "            return 'Invalid tenure, please enter positive integers only'"
   ]
  },
  {
   "cell_type": "code",
   "execution_count": 30,
   "id": "4d225547-b88a-427e-9504-28ebc148c0ec",
   "metadata": {},
   "outputs": [],
   "source": [
    "em = Employee(1000, 1, 5)"
   ]
  },
  {
   "cell_type": "code",
   "execution_count": 31,
   "id": "76629c43-929d-4517-b983-83475c478df3",
   "metadata": {},
   "outputs": [
    {
     "data": {
      "text/plain": [
       "'Yearly bonus is \"10000 INR\"'"
      ]
     },
     "execution_count": 31,
     "metadata": {},
     "output_type": "execute_result"
    }
   ],
   "source": [
    "em.yrly_bonus()"
   ]
  },
  {
   "cell_type": "code",
   "execution_count": 32,
   "id": "e321096b-f1e2-4acb-b9d4-84d329ac93ba",
   "metadata": {},
   "outputs": [],
   "source": [
    "em1 = Employee(1000, 2, 10)"
   ]
  },
  {
   "cell_type": "code",
   "execution_count": 33,
   "id": "2e8a0511-ca90-4931-be0b-d2b85d2d32dc",
   "metadata": {},
   "outputs": [
    {
     "data": {
      "text/plain": [
       "'Yearly bonus is \"1000 INR\"'"
      ]
     },
     "execution_count": 33,
     "metadata": {},
     "output_type": "execute_result"
    }
   ],
   "source": [
    "em1.yrly_bonus()"
   ]
  },
  {
   "cell_type": "code",
   "execution_count": 37,
   "id": "f11e6baa-856b-440d-a548-6d6cde0f11c3",
   "metadata": {},
   "outputs": [],
   "source": [
    "em2 = Employee(1001, 3, -1)"
   ]
  },
  {
   "cell_type": "code",
   "execution_count": 38,
   "id": "d64c51cc-8f60-483a-b629-1d9706a1d777",
   "metadata": {},
   "outputs": [
    {
     "data": {
      "text/plain": [
       "'Invalid tenure, please enter positive integers only'"
      ]
     },
     "execution_count": 38,
     "metadata": {},
     "output_type": "execute_result"
    }
   ],
   "source": [
    "em2.yrly_bonus()"
   ]
  },
  {
   "cell_type": "markdown",
   "id": "f4620547-e340-410a-a853-1d571932f5fa",
   "metadata": {},
   "source": [
    "### 15. Discuss the use of accessors and mutators in encapsulation. How do they help maintain control over attribute access?\n",
    "\n",
    "\n"
   ]
  },
  {
   "cell_type": "markdown",
   "id": "b675a071-769c-4ccd-a0e0-c6ed4e45e1f5",
   "metadata": {},
   "source": [
    "#### Accessors and Mutators are the methods which provide access to the attribute which are private or protected to the user. These methods are used by the programmer to access and change the attributes via them in case a variable is not to be accessed directly. This makes the attribute safe from any intervention from a malicious actor."
   ]
  },
  {
   "cell_type": "markdown",
   "id": "b439177f-9c4d-44f2-b17f-b0ed9d83e06e",
   "metadata": {},
   "source": [
    "### 16. What are the potential drawbacks or disadvantages of using encapsulation in Python?\n",
    "\n",
    "\n"
   ]
  },
  {
   "cell_type": "markdown",
   "id": "e1baf8ae-e42f-42bf-8dcd-3edadb6cb194",
   "metadata": {},
   "source": [
    "#### Disadvantages of Encapsulation\n",
    "1. The length of the code increases drastically in the case of encapsulation as we need to provide all the methods with the specifiers.\n",
    "\n",
    "2. As the size of the code increases, therefore, you need to provide additional instructions for every method.\n",
    "\n",
    "3. Encapsulation results in an increase in the duration of the program execution. It is because more instructions are added to the code therefore they require more time to execute."
   ]
  },
  {
   "cell_type": "markdown",
   "id": "0901da6c-1013-4e85-b47a-b998a4015707",
   "metadata": {},
   "source": [
    "### 17. Create a Python class for a library system that encapsulates book information, including titles, authors, and availability status.\n",
    "\n",
    "\n"
   ]
  },
  {
   "cell_type": "code",
   "execution_count": 22,
   "id": "d6ff7708-0e55-4bad-be2e-f36a05d61b65",
   "metadata": {},
   "outputs": [],
   "source": [
    "class library:\n",
    "    \n",
    "    def __init__(self, title, author, availability):\n",
    "        self.__title = title\n",
    "        self.__author = author\n",
    "        self.__availability = availability\n",
    "        self.__list_book = []\n",
    "        self.__list_book.append([self.__title, self.__author, self.__availability])\n",
    "        \n",
    "    def add_book(self, book_title, book_author, avail_status):\n",
    "        self.__book_title = book_title\n",
    "        self.__book_author = book_author\n",
    "        self.__avail_status = avail_status\n",
    "        self.__list_book.append([self.__book_title, self.__book_author, self.__avail_status])\n",
    "        \n",
    "    def list_of_book_details(self):\n",
    "        return self.__list_book\n",
    "    \n",
    "    def borrow_book(self):\n",
    "        book_title = input(\"Enter the book name: \")\n",
    "        for i in range(len(self.__list_book)):\n",
    "            if (book_title in self.__list_book[i][0]) and self.__list_book[i][2] != 'Y':\n",
    "                print(\"Sorry!!! The book is not avaialble for borrowing\")\n",
    "                break\n",
    "        else:\n",
    "            print(\"Book is available for borrowing\")\n",
    "            \n",
    "        "
   ]
  },
  {
   "cell_type": "code",
   "execution_count": 23,
   "id": "81fdee79-5d74-4853-978a-12de5870153f",
   "metadata": {},
   "outputs": [],
   "source": [
    "lib = library(\"Man of Steel\", \"RD\", 'Y')"
   ]
  },
  {
   "cell_type": "code",
   "execution_count": 24,
   "id": "827ae2e4-cb77-4a70-ac6b-9a70800fefdd",
   "metadata": {},
   "outputs": [
    {
     "name": "stdin",
     "output_type": "stream",
     "text": [
      "Enter the book name:  Man of Steel\n"
     ]
    },
    {
     "name": "stdout",
     "output_type": "stream",
     "text": [
      "Book is available for borrowing\n"
     ]
    }
   ],
   "source": [
    "lib.borrow_book()"
   ]
  },
  {
   "cell_type": "code",
   "execution_count": 25,
   "id": "f6174bf2-0e1e-4d4f-bd55-a6ebb151b542",
   "metadata": {},
   "outputs": [],
   "source": [
    "lib.add_book(\"The art of the Start\", \"Guy Kawaski\", \"N\")"
   ]
  },
  {
   "cell_type": "code",
   "execution_count": 26,
   "id": "aca857da-0416-410a-a9ca-f9180bea7f0c",
   "metadata": {},
   "outputs": [
    {
     "data": {
      "text/plain": [
       "[['Man of Steel', 'RD', 'Y'], ['The art of the Start', 'Guy Kawaski', 'N']]"
      ]
     },
     "execution_count": 26,
     "metadata": {},
     "output_type": "execute_result"
    }
   ],
   "source": [
    "lib.list_of_book_details()"
   ]
  },
  {
   "cell_type": "markdown",
   "id": "2cc55058-d5f0-4915-939c-a5435a4a5cf9",
   "metadata": {},
   "source": [
    "### 18. Explain how encapsulation enhances code reusability and modularity in Python programs.\n",
    "\n",
    "\n"
   ]
  },
  {
   "cell_type": "markdown",
   "id": "1f338427-2f2a-4503-8bdd-c6064087bbbb",
   "metadata": {},
   "source": [
    "#### Encapsulation encourages a distinct separation of responsibilities by explicitly establishing boundaries between various abstractions which is primarily a modular approach. The methods can be changed and the code is reusable."
   ]
  },
  {
   "cell_type": "markdown",
   "id": "97198349-f33f-4132-9b9b-b9eeb09db272",
   "metadata": {},
   "source": [
    "### 19. Describe the concept of information hiding in encapsulation. Why is it essential in software development?\n",
    "\n",
    "\n"
   ]
  },
  {
   "cell_type": "markdown",
   "id": "84c75baa-5ff9-43d0-a74e-bcaf2dd569ab",
   "metadata": {},
   "source": [
    "#### Data hiding, also known as information hiding, is the practice of encapsulating the internal state of an object and allowing controlled access to that state through well-defined interfaces (methods). The primary purpose of data hiding is to prevent the direct modification of an object's internal data from outside the class. It is generally done using setters and getters"
   ]
  },
  {
   "cell_type": "markdown",
   "id": "d112fcc5-6c3e-46c1-ada3-5c3407485378",
   "metadata": {},
   "source": [
    "### 20. Create a Python class called `Customer` with private attributes for customer details like name, address, and contact information. Implement encapsulation to ensure data integrity and security."
   ]
  },
  {
   "cell_type": "code",
   "execution_count": 39,
   "id": "b4fa4770-9eff-4b01-b760-e697027bc42d",
   "metadata": {},
   "outputs": [],
   "source": [
    "class Customer:\n",
    "    \n",
    "    def __init__(self, name, address, contact_mobile):\n",
    "        self.__name = name\n",
    "        self.__address = address\n",
    "        self.__contact_mobile = contact_mobile\n",
    "        \n",
    "    def gtr(self):\n",
    "        return f'{self.__name}, {self.__address}, {self.__contact_mobile}'\n",
    "    \n",
    "    def setr(self, new_name):\n",
    "        self.__name = new_name\n",
    "        return f'The name has been modified to {self.__name}'"
   ]
  },
  {
   "cell_type": "code",
   "execution_count": 40,
   "id": "217b00b7-8cc2-487e-9513-1558549e1099",
   "metadata": {},
   "outputs": [],
   "source": [
    "cs = Customer('Ganesh', \"House\", 2002020202)"
   ]
  },
  {
   "cell_type": "code",
   "execution_count": 41,
   "id": "3bf1e719-7000-4afe-ac67-4d8dce634e54",
   "metadata": {},
   "outputs": [
    {
     "data": {
      "text/plain": [
       "'Ganesh, House, 2002020202'"
      ]
     },
     "execution_count": 41,
     "metadata": {},
     "output_type": "execute_result"
    }
   ],
   "source": [
    "cs.gtr()"
   ]
  },
  {
   "cell_type": "code",
   "execution_count": 42,
   "id": "4d4ffb6a-a0bb-4b26-8271-537b10c78dde",
   "metadata": {},
   "outputs": [
    {
     "data": {
      "text/plain": [
       "'The name has been modified to Adhya'"
      ]
     },
     "execution_count": 42,
     "metadata": {},
     "output_type": "execute_result"
    }
   ],
   "source": [
    "cs.setr('Adhya')"
   ]
  }
 ],
 "metadata": {
  "kernelspec": {
   "display_name": "Python 3 (ipykernel)",
   "language": "python",
   "name": "python3"
  },
  "language_info": {
   "codemirror_mode": {
    "name": "ipython",
    "version": 3
   },
   "file_extension": ".py",
   "mimetype": "text/x-python",
   "name": "python",
   "nbconvert_exporter": "python",
   "pygments_lexer": "ipython3",
   "version": "3.10.8"
  }
 },
 "nbformat": 4,
 "nbformat_minor": 5
}
