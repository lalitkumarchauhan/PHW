{
 "cells": [
  {
   "cell_type": "markdown",
   "id": "97187e8d-6185-46bb-8d63-70ba9ed5a1ee",
   "metadata": {},
   "source": [
    "# OOPS_2_Assignment"
   ]
  },
  {
   "cell_type": "markdown",
   "id": "fbdb7546-ed18-4e49-a18e-37965fa981ad",
   "metadata": {},
   "source": [
    "## Polymorphism:"
   ]
  },
  {
   "cell_type": "markdown",
   "id": "f52c49c5-ab8c-4481-964f-ee0ac3d67ee0",
   "metadata": {},
   "source": [
    "### 1. What is polymorphism in Python? Explain how it is related to object-oriented programming.\n",
    "\n",
    "\n"
   ]
  },
  {
   "cell_type": "markdown",
   "id": "1b697cef-c3a5-4fa4-8e3e-ae369ecef3ff",
   "metadata": {},
   "source": [
    "#### Polyphormism is the concept in object oriented programming where a function when used in different context exhibits different behaviour or result or outcome. It makes it easy for a programmer to use single function without writing additional code to perform differently in different circumstances or say environment. Which makes structure of a code succint and non-redundant. For example, the function `+` works differently in case of different type of input. If the input is a `string` or `list` or `tuple` it `concatentaes` the inputs while in case of `int` or `float` data input it `adds` the inputs. Method-overloading and Method-overridding are the concepts utilised effectively in polymorphism."
   ]
  },
  {
   "cell_type": "markdown",
   "id": "a0937692-6fc3-4378-8bed-fdba15f25112",
   "metadata": {},
   "source": [
    "### 2. Describe the difference between compile-time polymorphism and runtime polymorphism in Python.\n",
    "\n",
    "\n"
   ]
  },
  {
   "cell_type": "markdown",
   "id": "8ecf225d-8222-4678-877e-acfa548ec16a",
   "metadata": {},
   "source": [
    "#### Method overloading is the compile-time polymorphism where more than one methods share the same name with different parameters or signature and different return type, It is achieved by function overloading and operator overloading. It provides fast execution because the method that needs to be executed is known early at the compile time but it is less flexible as the code is executed at compile time. while Method overriding is the runtime polymorphism having the same method with same parameters or signature but associated withcompared, different classes. It provides slow execution as compare to early binding because the method that needs to be executed is known at the runtime. Run time polymorphism is more flexible as all things execute at run time."
   ]
  },
  {
   "cell_type": "markdown",
   "id": "67090e22-1e25-417a-9c4d-42f311a0bb37",
   "metadata": {},
   "source": [
    "### 3. Create a Python class hierarchy for shapes (e.g., circle, square, triangle) and demonstrate polymorphism through a common method, such as `calculate_area()`.\n",
    "\n",
    "\n"
   ]
  },
  {
   "cell_type": "code",
   "execution_count": 4,
   "id": "717b1454-e54f-4258-b40b-39adbeafa513",
   "metadata": {},
   "outputs": [],
   "source": [
    "import math\n",
    "class shape:\n",
    "    def __init__(self):\n",
    "        pass\n",
    "    def calculate_area(self):\n",
    "        pass\n",
    "    \n",
    "class circle(shape):\n",
    "    def __init__(self, radius):\n",
    "        self.radius = radius\n",
    "    \n",
    "    def calculate_area(self):\n",
    "        return f'Area of the circle wih radius {self.radius} units is {math.pi*self.radius**2} square units'\n",
    "    \n",
    "class square(shape):\n",
    "    def __init__(self, side_length):\n",
    "        self.side_length = side_length\n",
    "    \n",
    "    def calculate_area(self):\n",
    "        return f'Area of the Square wih side {self.side_length} units is {self.side_length**2} square units'    \n",
    "    \n",
    "class triangle(shape):\n",
    "    def __init__(self, base, height):\n",
    "        self.base = base\n",
    "        self.height = height\n",
    "        \n",
    "    def calculate_area(self):\n",
    "        return f'Area of the circle wih base {self.base} units and height {self.height} units is {0.5*self.base*self.height} square units'"
   ]
  },
  {
   "cell_type": "code",
   "execution_count": 8,
   "id": "5b780344-b1b1-47b8-85ae-544b60e05231",
   "metadata": {},
   "outputs": [],
   "source": [
    "cr = circle(1)\n",
    "sq = square(2)\n",
    "tr = triangle(1,2)"
   ]
  },
  {
   "cell_type": "code",
   "execution_count": 6,
   "id": "96af2088-80e3-4d2d-bfc2-19ed72932481",
   "metadata": {},
   "outputs": [
    {
     "data": {
      "text/plain": [
       "'Area of the circle wih radius 1 units is 3.141592653589793 square units'"
      ]
     },
     "execution_count": 6,
     "metadata": {},
     "output_type": "execute_result"
    }
   ],
   "source": [
    "cr.calculate_area()"
   ]
  },
  {
   "cell_type": "code",
   "execution_count": 9,
   "id": "fdaab388-fef1-4724-95a1-7f2fc74ad058",
   "metadata": {},
   "outputs": [
    {
     "data": {
      "text/plain": [
       "'Area of the Square wih side 2 units is 4 square units'"
      ]
     },
     "execution_count": 9,
     "metadata": {},
     "output_type": "execute_result"
    }
   ],
   "source": [
    "sq.calculate_area()"
   ]
  },
  {
   "cell_type": "code",
   "execution_count": 10,
   "id": "10737fbe-d8b1-4d6f-bbf6-52d546b06c1c",
   "metadata": {},
   "outputs": [
    {
     "data": {
      "text/plain": [
       "'Area of the circle wih base 1 units and height 2 units is 1.0 square units'"
      ]
     },
     "execution_count": 10,
     "metadata": {},
     "output_type": "execute_result"
    }
   ],
   "source": [
    "tr.calculate_area()"
   ]
  },
  {
   "cell_type": "markdown",
   "id": "77634762-a1ee-435d-9848-aeab3e20c061",
   "metadata": {},
   "source": [
    "### 4. Explain the concept of method overriding in polymorphism. Provide an example.\n",
    "\n",
    "\n"
   ]
  },
  {
   "cell_type": "markdown",
   "id": "bce9e7bc-fa6e-4c3b-b59b-5654a5175e29",
   "metadata": {},
   "source": [
    "#### Method overriding is an ability of any object-oriented programming language that allows a subclass or child class to provide a specific implementation of a method that is already provided by one of its super-classes or parent classes. When a method in a subclass has the same name, same parameters or signature and same return type(or sub-type) as a method in its super-class, then the method in the subclass is said to override the method in the super-class."
   ]
  },
  {
   "cell_type": "code",
   "execution_count": 71,
   "id": "a96914c5-8080-44d2-ab3f-1145f7e2fe0b",
   "metadata": {},
   "outputs": [
    {
     "name": "stdout",
     "output_type": "stream",
     "text": [
      "Inside Parent\n",
      "Inside Child\n"
     ]
    }
   ],
   "source": [
    "# Python program to demonstrate method overriding \n",
    "\n",
    "\n",
    "# Defining parent class \n",
    "class Parent(): \n",
    "\n",
    "    # Constructor \n",
    "    def __init__(self): \n",
    "        self.value = \"Inside Parent\"\n",
    "\n",
    "    # Parent's show method \n",
    "    def show(self): \n",
    "        print(self.value) \n",
    "\n",
    "# Defining child class \n",
    "class Child(Parent): \n",
    "    \n",
    "    # Constructor \n",
    "    def __init__(self): \n",
    "        self.value = \"Inside Child\"\n",
    "\n",
    "    # Child's show method \n",
    "    def show(self): \n",
    "        print(self.value) \n",
    "\n",
    "\n",
    "obj1 = Parent() \n",
    "obj2 = Child() \n",
    "\n",
    "obj1.show() \n",
    "obj2.show()"
   ]
  },
  {
   "cell_type": "markdown",
   "id": "786cef1f-ec95-442e-8f8d-bf72f6c9cf0b",
   "metadata": {},
   "source": [
    "### 5. How is polymorphism different from method overloading in Python? Provide examples for both.\n",
    "\n",
    "\n"
   ]
  },
  {
   "cell_type": "markdown",
   "id": "5e77fb6a-7362-4fea-88e6-bf14817d20f9",
   "metadata": {},
   "source": [
    "#### The polymorphism is the base of the OOP, the overloading is one of ways to implement to polymorphism, specially when are involved operators. More generally, speaking about polymorphism when there are two or more classes involved. While the overloading can be made also inside the same class, we can overload the name of a method with several signatures (different list of parameters)."
   ]
  },
  {
   "cell_type": "code",
   "execution_count": 72,
   "id": "d3dd0541-8fb1-4cde-bdd9-ca713e60da75",
   "metadata": {},
   "outputs": [
    {
     "name": "stdout",
     "output_type": "stream",
     "text": [
      "Drive!\n",
      "Sail!\n",
      "Fly!\n"
     ]
    }
   ],
   "source": [
    "# polyphormism example:\n",
    "class Car:\n",
    "    def __init__(self, brand, model):\n",
    "        self.brand = brand\n",
    "        self.model = model\n",
    "\n",
    "    def move(self):\n",
    "        print(\"Drive!\")\n",
    "\n",
    "class Boat:\n",
    "    def __init__(self, brand, model):\n",
    "        self.brand = brand\n",
    "        self.model = model\n",
    "\n",
    "    def move(self):\n",
    "        print(\"Sail!\")\n",
    "\n",
    "class Plane:\n",
    "    def __init__(self, brand, model):\n",
    "        self.brand = brand\n",
    "        self.model = model\n",
    "\n",
    "    def move(self):\n",
    "        print(\"Fly!\")\n",
    "\n",
    "car1 = Car(\"Ford\", \"Mustang\")       #Create a Car class\n",
    "boat1 = Boat(\"Ibiza\", \"Touring 20\") #Create a Boat class\n",
    "plane1 = Plane(\"Boeing\", \"747\")     #Create a Plane class\n",
    "\n",
    "for x in (car1, boat1, plane1):\n",
    "    x.move()"
   ]
  },
  {
   "cell_type": "code",
   "execution_count": 76,
   "id": "45d54780-597b-4825-9244-d6c2cb9cbc17",
   "metadata": {},
   "outputs": [],
   "source": [
    "#method overloading example:\n",
    "# First product method.\n",
    "# Takes two argument and print their product\n",
    "\n",
    "\n",
    "def product(a, b):\n",
    "    p = a * b\n",
    "    print(p)\n",
    "\n",
    "# Second product method\n",
    "# Takes three argument and print their product\n",
    "\n",
    "\n",
    "def product(a, b, c):\n",
    "    p = a * b * c\n",
    "    print(p)"
   ]
  },
  {
   "cell_type": "code",
   "execution_count": 77,
   "id": "985fc894-2b69-4fb7-96fc-41ed53546d5c",
   "metadata": {},
   "outputs": [
    {
     "ename": "TypeError",
     "evalue": "product() missing 1 required positional argument: 'c'",
     "output_type": "error",
     "traceback": [
      "\u001b[0;31m---------------------------------------------------------------------------\u001b[0m",
      "\u001b[0;31mTypeError\u001b[0m                                 Traceback (most recent call last)",
      "Cell \u001b[0;32mIn[77], line 1\u001b[0m\n\u001b[0;32m----> 1\u001b[0m \u001b[43mproduct\u001b[49m\u001b[43m(\u001b[49m\u001b[38;5;241;43m4\u001b[39;49m\u001b[43m,\u001b[49m\u001b[43m \u001b[49m\u001b[38;5;241;43m5\u001b[39;49m\u001b[43m)\u001b[49m\n",
      "\u001b[0;31mTypeError\u001b[0m: product() missing 1 required positional argument: 'c'"
     ]
    }
   ],
   "source": [
    "product(4, 5)"
   ]
  },
  {
   "cell_type": "code",
   "execution_count": 78,
   "id": "96a73f61-b849-49b9-b860-969a733e5e88",
   "metadata": {},
   "outputs": [
    {
     "name": "stdout",
     "output_type": "stream",
     "text": [
      "100\n"
     ]
    }
   ],
   "source": [
    "product(4, 5, 5)"
   ]
  },
  {
   "cell_type": "markdown",
   "id": "3c06cb89-9d7d-4266-a88b-7558f31c5185",
   "metadata": {},
   "source": [
    "### 6. Create a Python class called `Animal` with a method `speak()`. Then, create child classes like `Dog`, `Cat`, and `Bird`, each with their own `speak()` method. Demonstrate polymorphism by calling the `speak()` method on objects of different subclasses.\n",
    "\n",
    "\n"
   ]
  },
  {
   "cell_type": "code",
   "execution_count": 11,
   "id": "404211a0-4b61-471d-8b3a-cf645a2f2be1",
   "metadata": {},
   "outputs": [],
   "source": [
    "class animal:\n",
    "    \n",
    "    def __init__(self):\n",
    "        pass \n",
    "    def speak(self):\n",
    "        return f'speak'\n",
    "    \n",
    "class dog(animal):\n",
    "    \n",
    "    def speak(self):\n",
    "        return 'bark'\n",
    "    \n",
    "class cat(animal):\n",
    "    \n",
    "    def speak(self):\n",
    "        return 'meow'\n",
    "    \n",
    "class bird(animal):\n",
    "    \n",
    "    def speak(self):\n",
    "        return 'chirp'"
   ]
  },
  {
   "cell_type": "code",
   "execution_count": 16,
   "id": "80feddfa-9893-4f87-a19e-769a4ae9c52e",
   "metadata": {},
   "outputs": [],
   "source": [
    "anml = animal()\n",
    "dg = dog()\n",
    "ct = cat()\n",
    "brd = bird()"
   ]
  },
  {
   "cell_type": "code",
   "execution_count": 13,
   "id": "f5184f12-f727-4089-8b2d-d6ba29fa906d",
   "metadata": {},
   "outputs": [
    {
     "data": {
      "text/plain": [
       "'bark'"
      ]
     },
     "execution_count": 13,
     "metadata": {},
     "output_type": "execute_result"
    }
   ],
   "source": [
    "dg.speak()"
   ]
  },
  {
   "cell_type": "code",
   "execution_count": 14,
   "id": "fcc279be-4d6a-43f5-b162-a803f92e1885",
   "metadata": {},
   "outputs": [
    {
     "data": {
      "text/plain": [
       "'meow'"
      ]
     },
     "execution_count": 14,
     "metadata": {},
     "output_type": "execute_result"
    }
   ],
   "source": [
    "ct.speak()"
   ]
  },
  {
   "cell_type": "code",
   "execution_count": 15,
   "id": "4f938c73-30f8-4cd8-ae11-225bb654394b",
   "metadata": {},
   "outputs": [
    {
     "data": {
      "text/plain": [
       "'chirp'"
      ]
     },
     "execution_count": 15,
     "metadata": {},
     "output_type": "execute_result"
    }
   ],
   "source": [
    "brd.speak()"
   ]
  },
  {
   "cell_type": "code",
   "execution_count": 17,
   "id": "f9045e6f-b019-4ce3-84ab-128993783d56",
   "metadata": {},
   "outputs": [
    {
     "data": {
      "text/plain": [
       "'speak'"
      ]
     },
     "execution_count": 17,
     "metadata": {},
     "output_type": "execute_result"
    }
   ],
   "source": [
    "anml.speak()"
   ]
  },
  {
   "cell_type": "markdown",
   "id": "0921c39a-35e7-496a-b96e-c59336f55857",
   "metadata": {},
   "source": [
    "### 7. Discuss the use of abstract methods and classes in achieving polymorphism in Python. Provide an example using the `abc` module.\n",
    "\n",
    "\n"
   ]
  },
  {
   "cell_type": "markdown",
   "id": "21b84788-749f-43a8-a3cc-54fb31141826",
   "metadata": {},
   "source": [
    "#### Polymorphism means different forms. The basic concept of an abstract class is that it only declares the method, it does not provide the implementation for them . A subclass extending an abstract class provides their own implementation for these abstract methods so this how they achieve polymorphism "
   ]
  },
  {
   "cell_type": "code",
   "execution_count": 1,
   "id": "6ed3730d-966a-4fd8-ade4-72fa0b221c59",
   "metadata": {},
   "outputs": [
    {
     "name": "stdout",
     "output_type": "stream",
     "text": [
      "Woof!\n",
      "Meow!\n"
     ]
    }
   ],
   "source": [
    "from abc import ABC, abstractmethod\n",
    "\n",
    "class AbstractAnimal(ABC):\n",
    "    @abstractmethod\n",
    "    def make_sound(self):\n",
    "        pass\n",
    "\n",
    "class Dog(AbstractAnimal):\n",
    "    def make_sound(self):\n",
    "        return 'Woof!'\n",
    "\n",
    "class Cat(AbstractAnimal):\n",
    "    def make_sound(self):\n",
    "        return 'Meow!'\n",
    "\n",
    "dog = Dog()\n",
    "cat = Cat()\n",
    "print(dog.make_sound())\n",
    "print(cat.make_sound())"
   ]
  },
  {
   "cell_type": "markdown",
   "id": "6ef130c6-9ba8-47e3-8367-dc9937dc52e4",
   "metadata": {},
   "source": [
    "### 8. Create a Python class hierarchy for a vehicle system (e.g., car, bicycle, boat) and implement a polymorphic `start()` method that prints a message specific to each vehicle type.\n",
    "\n",
    "\n"
   ]
  },
  {
   "cell_type": "code",
   "execution_count": 18,
   "id": "bbfe599d-c377-44eb-97e4-b1d073984229",
   "metadata": {},
   "outputs": [],
   "source": [
    "class vehicle:\n",
    "    def __init__(self):\n",
    "        pass\n",
    "    def start(self):\n",
    "        return 'The vehicle has started'\n",
    "\n",
    "class car:\n",
    "    def start(self):\n",
    "        return 'The car engine has been started'\n",
    "    \n",
    "class bicycle:\n",
    "    def start(self):\n",
    "        return 'The bicycle is ready to be ridden'\n",
    "    \n",
    "class boat:\n",
    "    def start(self):\n",
    "        return 'We should start rowing the boat'"
   ]
  },
  {
   "cell_type": "code",
   "execution_count": 20,
   "id": "0ecb079b-0017-4e7f-a3fc-5b43bb0cc4a3",
   "metadata": {},
   "outputs": [],
   "source": [
    "veh = vehicle()\n",
    "cr = car()\n",
    "bycl = bicycle()\n",
    "bt = boat()"
   ]
  },
  {
   "cell_type": "code",
   "execution_count": 21,
   "id": "80cce65f-44b3-4ae5-b12a-d0c53cb06d98",
   "metadata": {},
   "outputs": [
    {
     "data": {
      "text/plain": [
       "'The vehicle has started'"
      ]
     },
     "execution_count": 21,
     "metadata": {},
     "output_type": "execute_result"
    }
   ],
   "source": [
    "veh.start()"
   ]
  },
  {
   "cell_type": "code",
   "execution_count": 22,
   "id": "525e4f8c-b653-4058-b976-ccaa4b7a1ac8",
   "metadata": {},
   "outputs": [
    {
     "data": {
      "text/plain": [
       "'The car engine has been started'"
      ]
     },
     "execution_count": 22,
     "metadata": {},
     "output_type": "execute_result"
    }
   ],
   "source": [
    "cr.start()"
   ]
  },
  {
   "cell_type": "code",
   "execution_count": 23,
   "id": "330c7e51-5a40-44b2-8bd7-76411540ed25",
   "metadata": {},
   "outputs": [
    {
     "data": {
      "text/plain": [
       "'The bicycle is ready to be ridden'"
      ]
     },
     "execution_count": 23,
     "metadata": {},
     "output_type": "execute_result"
    }
   ],
   "source": [
    "bycl.start()"
   ]
  },
  {
   "cell_type": "code",
   "execution_count": 24,
   "id": "99086a71-e9af-4b57-878f-353319df6292",
   "metadata": {},
   "outputs": [
    {
     "data": {
      "text/plain": [
       "'We should start rowing the boat'"
      ]
     },
     "execution_count": 24,
     "metadata": {},
     "output_type": "execute_result"
    }
   ],
   "source": [
    "bt.start()"
   ]
  },
  {
   "cell_type": "markdown",
   "id": "2e204f21-d74c-4089-85f9-bc7dcee922c6",
   "metadata": {},
   "source": [
    "### 9. Explain the significance of the `isinstance()` and `issubclass()` functions in Python polymorphism.\n",
    "\n",
    "\n"
   ]
  },
  {
   "cell_type": "markdown",
   "id": "a36f44c0-a6e5-415a-bf9f-4dcb58af4ceb",
   "metadata": {},
   "source": [
    "#### isinstance() checks whether or not the object is an instance or subclass of the classinfo. Whereas, issubclass() only check whether it is a subclass of classinfo or not (not check for object relation)."
   ]
  },
  {
   "cell_type": "markdown",
   "id": "8754b4f5-7653-4fda-be3e-103b8a6a2313",
   "metadata": {},
   "source": [
    "### 10. What is the role of the `@abstractmethod` decorator in achieving polymorphism in Python? Provide an example.\n",
    "\n",
    "\n"
   ]
  },
  {
   "cell_type": "markdown",
   "id": "606a9877-4e97-454d-93db-ee8161ebadb3",
   "metadata": {},
   "source": [
    "#### Polymorphism is the ability of an object to take on many forms. With abstract classes, polymorphism is achieved through the implementation of the abstract methods in the subclasses. Each subclass can provide a different implementation, allowing for a variety of behaviors. In the below example, Dog and Cat are subclasses of the abstract class AbstractAnimal and provide different implementations for the make_sound method, demonstrating polymorphism."
   ]
  },
  {
   "cell_type": "code",
   "execution_count": 2,
   "id": "73ad0f5b-a01c-4c5a-bce1-7a12e894c3d0",
   "metadata": {},
   "outputs": [
    {
     "name": "stdout",
     "output_type": "stream",
     "text": [
      "Woof!\n",
      "Meow!\n"
     ]
    }
   ],
   "source": [
    "from abc import ABC, abstractmethod\n",
    "\n",
    "class AbstractAnimal(ABC):\n",
    "    @abstractmethod\n",
    "    def make_sound(self):\n",
    "        pass\n",
    "\n",
    "class Dog(AbstractAnimal):\n",
    "    def make_sound(self):\n",
    "        return 'Woof!'\n",
    "\n",
    "class Cat(AbstractAnimal):\n",
    "    def make_sound(self):\n",
    "        return 'Meow!'\n",
    "\n",
    "dog = Dog()\n",
    "cat = Cat()\n",
    "print(dog.make_sound())\n",
    "print(cat.make_sound())"
   ]
  },
  {
   "cell_type": "markdown",
   "id": "237ee117-4916-44b7-acc9-9618e4da0b7f",
   "metadata": {},
   "source": [
    "### 11. Create a Python class called `Shape` with a polymorphic method `area()` that calculates the area of different shapes (e.g., circle, rectangle, triangle).\n",
    "\n",
    "\n"
   ]
  },
  {
   "cell_type": "code",
   "execution_count": 34,
   "id": "b7c38a50-3dad-4ce2-88f4-0ae1aaf35d0f",
   "metadata": {},
   "outputs": [],
   "source": [
    "import math\n",
    "class shape:\n",
    "    def __init__(self):\n",
    "        pass\n",
    "    def area(self):\n",
    "        pass\n",
    "    \n",
    "class circle(shape):\n",
    "    def __init__(self, radius):\n",
    "        self.radius = radius\n",
    "    \n",
    "    def area(self):\n",
    "        return f'Area of the circle wih radius {self.radius} units is {math.pi*self.radius**2} square units'\n",
    "    \n",
    "class rectangle(shape):\n",
    "    def __init__(self, length, breadth):\n",
    "        self.length = length\n",
    "        self.breadth = breadth\n",
    "        \n",
    "    def area(self):\n",
    "        return f'Area of the Square wih length {self.length} units and breadth {self.breadth} units is {self.length*self.breadth} square units'    \n",
    "    \n",
    "class triangle(shape):\n",
    "    def __init__(self, base, height):\n",
    "        self.base = base\n",
    "        self.height = height\n",
    "        \n",
    "    def area(self):\n",
    "        return f'Area of the circle wih base {self.base} units and height {self.height} units is {0.5*self.base*self.height} square units'"
   ]
  },
  {
   "cell_type": "code",
   "execution_count": 35,
   "id": "bc51d216-2d0b-445d-93d2-8535489f3b21",
   "metadata": {},
   "outputs": [],
   "source": [
    "shp = shape()\n",
    "crcle = circle(2)\n",
    "rect = rectangle(2,9)\n",
    "trigl = triangle(0.5, 0.9)"
   ]
  },
  {
   "cell_type": "code",
   "execution_count": 36,
   "id": "1179a64b-535d-4020-b01e-af5326466bd8",
   "metadata": {},
   "outputs": [],
   "source": [
    "shp.area()"
   ]
  },
  {
   "cell_type": "code",
   "execution_count": 37,
   "id": "afce48e3-0ab4-47ec-85e7-e654d58ae878",
   "metadata": {},
   "outputs": [
    {
     "data": {
      "text/plain": [
       "'Area of the circle wih radius 2 units is 12.566370614359172 square units'"
      ]
     },
     "execution_count": 37,
     "metadata": {},
     "output_type": "execute_result"
    }
   ],
   "source": [
    "crcle.area()"
   ]
  },
  {
   "cell_type": "code",
   "execution_count": 38,
   "id": "fb15c082-1232-43aa-b97c-1aacbce91962",
   "metadata": {},
   "outputs": [
    {
     "data": {
      "text/plain": [
       "'Area of the Square wih length 2 units and breadth 9 units is 18 square units'"
      ]
     },
     "execution_count": 38,
     "metadata": {},
     "output_type": "execute_result"
    }
   ],
   "source": [
    "rect.area()"
   ]
  },
  {
   "cell_type": "code",
   "execution_count": 39,
   "id": "30ac061b-9d81-4d27-890c-e240daf0f438",
   "metadata": {},
   "outputs": [
    {
     "data": {
      "text/plain": [
       "'Area of the circle wih base 0.5 units and height 0.9 units is 0.225 square units'"
      ]
     },
     "execution_count": 39,
     "metadata": {},
     "output_type": "execute_result"
    }
   ],
   "source": [
    "trigl.area()"
   ]
  },
  {
   "cell_type": "markdown",
   "id": "f7de55c3-b791-49d6-8692-277f0f0135d0",
   "metadata": {},
   "source": [
    "### 12. Discuss the benefits of polymorphism in terms of code reusability and flexibility in Python programs.\n",
    "\n",
    "\n"
   ]
  },
  {
   "cell_type": "markdown",
   "id": "8a07fdbc-8569-4b30-89d4-a7d6a0a42f06",
   "metadata": {},
   "source": [
    "1. Code Reusability: Polymorphism allows you to write code that can work with objects of multiple classes, as long as they share a common interface (such as having the same method names). This promotes code reuse, as you can write generic functions or methods that can be used with various objects, reducing the need to duplicate code for similar operations on different types of objects.\n",
    "2. Polymorphism makes it easier to add new classes and types without modifying existing code. As long as the new classes adhere to the same interface (e.g., by implementing the same methods), they can seamlessly integrate into the existing codebase. This makes your code more extensible and adaptable to future changes."
   ]
  },
  {
   "cell_type": "markdown",
   "id": "d6098e9b-d07e-4ed6-a731-5f3c2187f81a",
   "metadata": {},
   "source": [
    "### 13. Explain the use of the `super()` function in Python polymorphism. How does it help call methods of parent classes?"
   ]
  },
  {
   "cell_type": "markdown",
   "id": "d3bb8256-623a-40a9-bf6d-30f65f88477a",
   "metadata": {},
   "source": [
    "#### The super() function is used to call a method from the superclass within a subclass. It is often used in method overriding to invoke the superclass’s implementation before adding additional functionality."
   ]
  },
  {
   "cell_type": "markdown",
   "id": "ba30d02b-587f-4d5a-9a83-2866a49eaa40",
   "metadata": {},
   "source": [
    "### 14. Create a Python class hierarchy for a banking system with various account types (e.g., savings, checking, credit card) and demonstrate polymorphism by implementing a common `withdraw()` method.\n",
    "\n",
    "\n"
   ]
  },
  {
   "cell_type": "code",
   "execution_count": 13,
   "id": "d82e5ccb-7670-49c4-be63-e14cd3dfeb9c",
   "metadata": {},
   "outputs": [],
   "source": [
    "class BankAccount:\n",
    "    def __init__(self, account_no, balance):\n",
    "        self.account_no = account_no\n",
    "        self.balance = balance\n",
    "        \n",
    "    def withdraw(self, amount):\n",
    "        if amount <= self.balance:\n",
    "            self.balance -= amount\n",
    "            return f'{amount} INR have been withdrawn abd current balanc ein your account number {self.account_no} and current balance in your account is {self.balance} INR'\n",
    "        else:\n",
    "            print(\"Insufficient funds\")\n",
    "            \n",
    "            \n",
    "class SavingsAccount(BankAccount):\n",
    "        def __init__(self, account_no, balance):\n",
    "            super().__init__(account_no, balance)\n",
    "        \n",
    "        def withdraw(self, amount):\n",
    "            if amount <= self.balance:\n",
    "                self.balance -= amount\n",
    "                return f'{amount} INR have been withdrawn and current balance in your account number {self.account_no} and current balance in your account is {self.balance} INR'\n",
    "            else:\n",
    "                print(\"Insufficient funds\")\n",
    "            \n",
    "            \n",
    "class CheckingAccount(BankAccount):\n",
    "    \n",
    "    def __init__(self, account_no, balance, overdraft_fee):\n",
    "        super().__init__(account_no, balance)\n",
    "        self.overdraft_fee = overdraft_fee\n",
    "        \n",
    "    def withdraw(self, amount):\n",
    "        if amount <= self.balance:\n",
    "            self.balance -= amount\n",
    "            return f'{amount} INR have been withdrawn and current balance in your account number {self.account_no} and current balance in your account is {self.balance} INR'\n",
    "        else:\n",
    "            self.balance -= self.overdraft_fee\n",
    "            return f'Since the account {self.account_no} is not having enough money we have levied {self.overdraft_fee} INR on your account'\n",
    "            \n",
    "class CreditcardAccount(BankAccount):\n",
    "    \n",
    "    def __init__(self, account_no, balance, credit_limit):\n",
    "        super().__init__(account_no, balance)\n",
    "        self.credit_limit = credit_limit\n",
    "        \n",
    "    def withdraw(self, amount):\n",
    "        available_balance = self.balance + self.credit_limit\n",
    "        if amount <= available_balance:\n",
    "            self.balance -= amount\n",
    "            return f'{amount} INR have been withdrawn and current balance in your account number {self.account_no} and current balance in your account is {self.balance} INR'\n",
    "        else:\n",
    "            return \"Credit limit exceeded\"\n",
    "    \n"
   ]
  },
  {
   "cell_type": "code",
   "execution_count": 14,
   "id": "62047f5d-3232-48a8-a766-52787cb85df5",
   "metadata": {},
   "outputs": [],
   "source": [
    "jill = SavingsAccount('HUI234', 2000)\n",
    "seno = CheckingAccount('SEN235', 100, 3)\n",
    "herm = CreditcardAccount('ASD231', 234, 5000)"
   ]
  },
  {
   "cell_type": "code",
   "execution_count": 15,
   "id": "d47fbcdf-5614-4658-8ed7-f55c9dc2a9e1",
   "metadata": {},
   "outputs": [
    {
     "data": {
      "text/plain": [
       "'200 INR have been withdrawn and current balance in your account number HUI234 and current balance in your account is 1800 INR'"
      ]
     },
     "execution_count": 15,
     "metadata": {},
     "output_type": "execute_result"
    }
   ],
   "source": [
    "jill.withdraw(200)"
   ]
  },
  {
   "cell_type": "code",
   "execution_count": 16,
   "id": "450ab705-2528-483e-9c27-ba950754057b",
   "metadata": {},
   "outputs": [
    {
     "data": {
      "text/plain": [
       "'Since the account SEN235 is not having enough money we have levied 3 INR on your account'"
      ]
     },
     "execution_count": 16,
     "metadata": {},
     "output_type": "execute_result"
    }
   ],
   "source": [
    "seno.withdraw(103)"
   ]
  },
  {
   "cell_type": "code",
   "execution_count": 17,
   "id": "71bdefec-4b45-4c23-b681-3dfb73a28d81",
   "metadata": {},
   "outputs": [
    {
     "data": {
      "text/plain": [
       "'5232 INR have been withdrawn and current balance in your account number ASD231 and current balance in your account is -4998 INR'"
      ]
     },
     "execution_count": 17,
     "metadata": {},
     "output_type": "execute_result"
    }
   ],
   "source": [
    "herm.withdraw(5232)"
   ]
  },
  {
   "cell_type": "markdown",
   "id": "853acb2f-2c64-43f7-8ece-5ef827606326",
   "metadata": {},
   "source": [
    "### 15. Describe the concept of operator overloading in Python and how it relates to polymorphism. Provide examples using operators like `+` and `*`.\n",
    "\n",
    "\n"
   ]
  },
  {
   "cell_type": "markdown",
   "id": "48dbf2fc-31d6-483f-9947-a993318046c8",
   "metadata": {},
   "source": [
    "#### Polymorphism or operator overloading is a manner in which OO systems allow the same operator name or symbol to be used for multiple operations. That is, it allows the operator symbol or name to be bound to more than one implementation of the operator."
   ]
  },
  {
   "cell_type": "code",
   "execution_count": 1,
   "id": "2c9a6504-4133-40c4-8a5e-90f2bccc4990",
   "metadata": {},
   "outputs": [
    {
     "name": "stdout",
     "output_type": "stream",
     "text": [
      "3\n",
      "GeeksFor\n",
      "12\n",
      "GeeksGeeksGeeksGeeks\n"
     ]
    }
   ],
   "source": [
    "# Python program to show use of + operator for different purposes.\n",
    "\n",
    "print(1 + 2)\n",
    "\n",
    "# concatenate two strings\n",
    "print(\"Geeks\"+\"For\") \n",
    "\n",
    "# Product two numbers\n",
    "print(3 * 4)\n",
    "\n",
    "# Repeat the String\n",
    "print(\"Geeks\"*4)\n"
   ]
  },
  {
   "cell_type": "markdown",
   "id": "bd3cb6c9-1353-44e2-b1b3-ea058688ea71",
   "metadata": {},
   "source": [
    "### 16. What is dynamic polymorphism, and how is it achieved in Python?\n",
    "\n",
    "\n"
   ]
  },
  {
   "cell_type": "markdown",
   "id": "79a4c54a-eec3-473d-ab5c-ea8ae034581c",
   "metadata": {},
   "source": [
    "#### Dynamic polymorphism is a concept in object-oriented programming (OOP) where a single interface can represent different underlying types, and the appropriate method to be called is determined at runtime. In Python, dynamic polymorphism is achieved through method overriding."
   ]
  },
  {
   "cell_type": "code",
   "execution_count": 4,
   "id": "bdc90bdc-a46a-4629-8fcf-f3f874c93f2f",
   "metadata": {},
   "outputs": [
    {
     "name": "stdout",
     "output_type": "stream",
     "text": [
      "Woof!\n",
      "Meow!\n",
      "Quack!\n"
     ]
    }
   ],
   "source": [
    "class Animal:\n",
    "    def speak(self):\n",
    "        pass\n",
    "\n",
    "class Dog(Animal):\n",
    "    def speak(self):\n",
    "        return \"Woof!\"\n",
    "\n",
    "class Cat(Animal):\n",
    "    def speak(self):\n",
    "        return \"Meow!\"\n",
    "\n",
    "class Duck(Animal):\n",
    "    def speak(self):\n",
    "        return \"Quack!\"\n",
    "\n",
    "# Function that takes an Animal object and calls its speak method\n",
    "def animal_speak(animal):\n",
    "    return animal.speak()\n",
    "\n",
    "# Creating instances of different subclasses\n",
    "dog = Dog()\n",
    "cat = Cat()\n",
    "duck = Duck()\n",
    "\n",
    "# Calling the function with different objects\n",
    "print(animal_speak(dog))  # Output: Woof!\n",
    "print(animal_speak(cat))  # Output: Meow!\n",
    "print(animal_speak(duck)) # Output: Quack!\n"
   ]
  },
  {
   "cell_type": "markdown",
   "id": "709b5c04-0887-43c0-82d0-c8d8027b0055",
   "metadata": {},
   "source": [
    "### 17. Create a Python class hierarchy for employees in a company (e.g., manager, developer, designer) and implement polymorphism through a common `calculate_salary()` method.\n",
    "\n",
    "\n"
   ]
  },
  {
   "cell_type": "code",
   "execution_count": 63,
   "id": "791fbda2-a6e1-4a98-a9e8-6fff811759b3",
   "metadata": {},
   "outputs": [],
   "source": [
    "class employee:\n",
    "    \n",
    "    def __init__(self):\n",
    "        pass\n",
    "    \n",
    "    def calculate_salary(self):\n",
    "        pass\n",
    "    \n",
    "class designer(employee):\n",
    "    \n",
    "    def __init__(self, designer_salary):\n",
    "        self.designer_salary = designer_salary\n",
    "        \n",
    "    def calculate_salary(self):\n",
    "        return f'Total salary for the designer is {self.designer_salary}'\n",
    "    \n",
    "class developer(designer):\n",
    "    \n",
    "    def __init__(self, dev_salary, designer_salary):\n",
    "        self.dev_salary = dev_salary\n",
    "        super().__init__(designer_salary)\n",
    "        \n",
    "    def calculate_salary(self):\n",
    "        return f'Total salary for the developer is {self.dev_salary + 0.005*self.designer_salary}'\n",
    "    \n",
    "class manager(developer):\n",
    "    \n",
    "    def __init__(self, manager_salary, dev_salary, designer_salary):\n",
    "        self.manager_salary = manager_salary\n",
    "        super().__init__(dev_salary, designer_salary)\n",
    "        \n",
    "    def calculate_salary(self):\n",
    "        return f'Total salary for the manager is {self.manager_salary + 0.01*self.dev_salary}'"
   ]
  },
  {
   "cell_type": "code",
   "execution_count": 65,
   "id": "9f5a235b-339b-491e-a087-88babebaa767",
   "metadata": {},
   "outputs": [],
   "source": [
    "dsnr = designer(1000)\n",
    "devl = developer(2000, 1000)\n",
    "mgr = manager(3000, 2000, 1000)"
   ]
  },
  {
   "cell_type": "code",
   "execution_count": 66,
   "id": "47b2dbe6-a51a-4001-9663-57d73754f045",
   "metadata": {},
   "outputs": [
    {
     "data": {
      "text/plain": [
       "'Total salary for the designer is 1000'"
      ]
     },
     "execution_count": 66,
     "metadata": {},
     "output_type": "execute_result"
    }
   ],
   "source": [
    "dsnr.calculate_salary()"
   ]
  },
  {
   "cell_type": "code",
   "execution_count": 67,
   "id": "5fa30c23-4db8-4ecd-b3cc-083b753e956c",
   "metadata": {},
   "outputs": [
    {
     "data": {
      "text/plain": [
       "'Total salary for the developer is 2005.0'"
      ]
     },
     "execution_count": 67,
     "metadata": {},
     "output_type": "execute_result"
    }
   ],
   "source": [
    "devl.calculate_salary()"
   ]
  },
  {
   "cell_type": "code",
   "execution_count": 68,
   "id": "f3e8aaaf-66dd-4529-a453-4fb4cb0c5afc",
   "metadata": {},
   "outputs": [
    {
     "data": {
      "text/plain": [
       "'Total salary for the manager is 3020.0'"
      ]
     },
     "execution_count": 68,
     "metadata": {},
     "output_type": "execute_result"
    }
   ],
   "source": [
    "mgr.calculate_salary()"
   ]
  },
  {
   "cell_type": "markdown",
   "id": "1d4e6606-d9e7-4aa9-82ed-747814d6ff8d",
   "metadata": {},
   "source": [
    "### 18. Discuss the concept of function pointers and how they can be used to achieve polymorphism in Python.\n",
    "\n",
    "\n"
   ]
  },
  {
   "cell_type": "markdown",
   "id": "ff0699df-0468-4b92-9ced-145256252db9",
   "metadata": {},
   "source": [
    "#### In Python, while the concept of function pointers exists in practice due to functions being first-class citizens,  they're simply references to functions themselves. Function pointers, often referred to as callbacks or function references in Python, are used to achieve a form of polymorphism known as \"polymorphic behavior\" or \"runtime polymorphism.\" This allows you to write code that can work with different objects or functions, even if they have different implementations, as long as they adhere to a common interface. Function pointers are one way to implement this concept in Python."
   ]
  },
  {
   "cell_type": "code",
   "execution_count": 6,
   "id": "51c3ab5a-43fb-40eb-b1b3-54eba3824f14",
   "metadata": {},
   "outputs": [
    {
     "name": "stdout",
     "output_type": "stream",
     "text": [
      "Result of addition: 8\n",
      "Result of subtraction: 2\n"
     ]
    }
   ],
   "source": [
    "# Function to perform an operation on two numbers\n",
    "def add(a, b):\n",
    "    return a + b\n",
    "\n",
    "def subtract(a, b):\n",
    "    return a - b\n",
    "\n",
    "# Function that performs an operation on two numbers using a provided operation function\n",
    "def perform_operation(a, b, operation):\n",
    "    return operation(a, b)\n",
    "\n",
    "result = perform_operation(5, 3, add)      # Add numbers: 5 + 3\n",
    "print(\"Result of addition:\", result)\n",
    "\n",
    "result = perform_operation(5, 3, subtract)  # Subtract numbers: 5 - 3\n",
    "print(\"Result of subtraction:\", result)"
   ]
  },
  {
   "cell_type": "markdown",
   "id": "759a188e-9e6a-45ce-b4c1-f79023ee730a",
   "metadata": {},
   "source": [
    "### 19. Explain the role of interfaces and abstract classes in polymorphism, drawing comparisons between them.\n",
    "\n",
    "\n"
   ]
  },
  {
   "cell_type": "markdown",
   "id": "0aff5550-a435-4e46-8c23-c40b11ea21fe",
   "metadata": {},
   "source": [
    "#### Both play crucial roles in achieving polymorphism. While interfaces can only contain abstract methods, abc (herewithin Abstract class) can consist of concrete as well as abstract classes. Both can be inherited by a derived or child class. The thing that differentiates interfaces from abc is that abc can be inherited from only one class and Interfaces can be implemented by multiple classes, promoting a more flexible way of achieving polymorphism. abc may provide default behavior for derived classes, whereas interfaces do not provide any default behavior. abc is used when there are some common feature shared by all objects while interfaces are used when all the feature need to be implemented differently for different objects."
   ]
  },
  {
   "cell_type": "markdown",
   "id": "2b40367e-f242-4ea3-aeed-b0562f302430",
   "metadata": {},
   "source": [
    "### 20. Create a Python class for a zoo simulation, demonstrating polymorphism with different animal types (e.g., mammals, birds, reptiles) and their behavior (e.g., eating, sleeping, making sounds)."
   ]
  },
  {
   "cell_type": "code",
   "execution_count": 2,
   "id": "7325fc66-dad8-4ff0-9780-3a6e3e4a2f5d",
   "metadata": {},
   "outputs": [],
   "source": [
    "class zoo:\n",
    "    \n",
    "    def __init__(self):\n",
    "        pass\n",
    "    \n",
    "    def eat(self):\n",
    "        pass\n",
    "    \n",
    "    def sleep(self):\n",
    "        pass\n",
    "    \n",
    "    def sound(self):\n",
    "        pass\n",
    "    \n",
    "class mammal:\n",
    "    \n",
    "    def eat(self):\n",
    "        return \"The mammal eats\"\n",
    "    \n",
    "    def sleep(self):\n",
    "        return \"The mammal sleeps\"\n",
    "    \n",
    "    def sound(self):\n",
    "        return \"The mammal frowns\"\n",
    "    \n",
    "    \n",
    "class bird:\n",
    "    \n",
    "    def eat(self):\n",
    "        return \"Bird picks the grain\"\n",
    "    \n",
    "    def sleep(self):\n",
    "        return \"Bird rests in the nest\"\n",
    "    \n",
    "    def sound(self):\n",
    "        return \"Bird chirps\"\n",
    "    \n",
    "    \n",
    "class reptile:\n",
    "    \n",
    "    def eat(self):\n",
    "        return \"Snake gulps\"\n",
    "    \n",
    "    def sleep(self):\n",
    "        return \"Snake rests\"\n",
    "    \n",
    "    def sound(self):\n",
    "        return \"Snake hiss\"\n",
    "    \n",
    "croc = mammal()\n",
    "flamingo = bird()\n",
    "python = reptile()"
   ]
  },
  {
   "cell_type": "code",
   "execution_count": 3,
   "id": "360a3a19-4f20-45e5-ab5d-80a4c8876294",
   "metadata": {},
   "outputs": [
    {
     "data": {
      "text/plain": [
       "'The mammal eats'"
      ]
     },
     "execution_count": 3,
     "metadata": {},
     "output_type": "execute_result"
    }
   ],
   "source": [
    "croc.eat()"
   ]
  },
  {
   "cell_type": "code",
   "execution_count": 4,
   "id": "7c1cae2d-3500-4529-8c36-6cd5566b8791",
   "metadata": {},
   "outputs": [
    {
     "data": {
      "text/plain": [
       "'Bird rests in the nest'"
      ]
     },
     "execution_count": 4,
     "metadata": {},
     "output_type": "execute_result"
    }
   ],
   "source": [
    "flamingo.sleep()"
   ]
  },
  {
   "cell_type": "code",
   "execution_count": 5,
   "id": "b12958a9-1009-4d76-97ae-35581097101e",
   "metadata": {},
   "outputs": [
    {
     "data": {
      "text/plain": [
       "'Snake hiss'"
      ]
     },
     "execution_count": 5,
     "metadata": {},
     "output_type": "execute_result"
    }
   ],
   "source": [
    "python.sound()"
   ]
  },
  {
   "cell_type": "code",
   "execution_count": null,
   "id": "57f40c3e-7e94-42ce-aa09-6fd16b4cf677",
   "metadata": {},
   "outputs": [],
   "source": []
  }
 ],
 "metadata": {
  "kernelspec": {
   "display_name": "Python 3 (ipykernel)",
   "language": "python",
   "name": "python3"
  },
  "language_info": {
   "codemirror_mode": {
    "name": "ipython",
    "version": 3
   },
   "file_extension": ".py",
   "mimetype": "text/x-python",
   "name": "python",
   "nbconvert_exporter": "python",
   "pygments_lexer": "ipython3",
   "version": "3.10.8"
  }
 },
 "nbformat": 4,
 "nbformat_minor": 5
}
