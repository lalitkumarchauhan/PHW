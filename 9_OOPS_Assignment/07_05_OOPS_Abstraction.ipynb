{
 "cells": [
  {
   "cell_type": "markdown",
   "id": "97187e8d-6185-46bb-8d63-70ba9ed5a1ee",
   "metadata": {},
   "source": [
    "# OOPS_2_Assignment"
   ]
  },
  {
   "cell_type": "markdown",
   "id": "991e0bc4-2ab6-47be-add8-53dc784469ba",
   "metadata": {},
   "source": [
    "## Abstraction:"
   ]
  },
  {
   "cell_type": "markdown",
   "id": "a4acdeda-da9a-4b9f-be72-dbe102b27c44",
   "metadata": {},
   "source": [
    "### 1. What is abstraction in Python, and how does it relate to object-oriented programming?"
   ]
  },
  {
   "cell_type": "markdown",
   "id": "d547057e-0a2c-49fb-b521-309b0cd18927",
   "metadata": {},
   "source": [
    "#### Abstraction is the concept in Python is by which a complex blueprint of a project can be defined in a easiest possible and modular manner so that smaller parts of the project follows the bigger part in an orderly fashion. The abstraction defines the high level objects for the assignment without any implementation and as bare as possible and the derived class can have methods over-riding the parent methods if needed. This concept leads to the easiness by which the different aspects of a poroject can be tied together and can almost stand against the complexities of the potential problems a project may have if a single ingterface is used to build upon one. For example, a project can have different aspects like Networking module, Storage module etc. A common class can hold them together to prevent the mismatch in the situation where any module(s) are to be updated independently."
   ]
  },
  {
   "cell_type": "markdown",
   "id": "88d1ff43-515f-4d6f-8145-705f7191477e",
   "metadata": {},
   "source": [
    "### 2. Describe the benefits of abstraction in terms of code organization and complexity reduction."
   ]
  },
  {
   "cell_type": "markdown",
   "id": "392b25d2-b06f-4ae4-b829-1ae4282dfd48",
   "metadata": {},
   "source": [
    "#### Abstraction makes code organisation a convenience for the participants who are writing the code as the abstract methods are defined in a structural manner and the derived classes exploit this fetaure to the maximum utilisation with out any complex situation of inter-mingling in the code. Implemntations are written in the child classes who inherit the main method in them. So, in a code-favouring manner, complexity is reduced."
   ]
  },
  {
   "cell_type": "markdown",
   "id": "0ce9ac07-658b-4e9e-849b-1477c264c30a",
   "metadata": {},
   "source": [
    "### 3. Create a Python class called `Shape` with an abstract method `calculate_area()`. Then, create child classes (e.g., `Circle`, `Rectangle`) that implement the `calculate_area()` method. Provide an example of using these classes."
   ]
  },
  {
   "cell_type": "code",
   "execution_count": 2,
   "id": "351159c4-e583-4991-ab12-727752635240",
   "metadata": {},
   "outputs": [],
   "source": [
    "import math\n",
    "from abc import ABC, abstractmethod\n",
    "class shape(ABC):\n",
    "    \n",
    "    def __init__(self):\n",
    "        pass\n",
    "    \n",
    "    @abstractmethod\n",
    "    def calculate_area(self):\n",
    "        pass\n",
    "    \n",
    "class Circle(shape):\n",
    "    \n",
    "    def __init__(self, radius):\n",
    "        self.radius = radius\n",
    "        \n",
    "    def calculate_area(self):\n",
    "        return f\"Area for the circle with radius {self.radius} units is {math.pi*self.radius**2} square units\"\n",
    "    \n",
    "class Rectangle(shape):\n",
    "    def __init__(self, length, breadth):\n",
    "        self.length = length\n",
    "        self.breadth = breadth\n",
    "        \n",
    "    def calculate_area(self):\n",
    "        return f\"Area for the rectangle with length {self.length} units and breadth with {self.breadth} units is {self.length*self.breadth} square units\""
   ]
  },
  {
   "cell_type": "code",
   "execution_count": 3,
   "id": "b6c37417-f908-4f77-9615-5bf1f12d5639",
   "metadata": {},
   "outputs": [
    {
     "ename": "TypeError",
     "evalue": "Can't instantiate abstract class shape with abstract method calculate_area",
     "output_type": "error",
     "traceback": [
      "\u001b[0;31m---------------------------------------------------------------------------\u001b[0m",
      "\u001b[0;31mTypeError\u001b[0m                                 Traceback (most recent call last)",
      "Cell \u001b[0;32mIn[3], line 1\u001b[0m\n\u001b[0;32m----> 1\u001b[0m shp \u001b[38;5;241m=\u001b[39m \u001b[43mshape\u001b[49m\u001b[43m(\u001b[49m\u001b[43m)\u001b[49m\n",
      "\u001b[0;31mTypeError\u001b[0m: Can't instantiate abstract class shape with abstract method calculate_area"
     ]
    }
   ],
   "source": [
    "shp = shape()"
   ]
  },
  {
   "cell_type": "code",
   "execution_count": 14,
   "id": "15ea6eab-ed97-4cca-a32a-f4ceb2be3488",
   "metadata": {},
   "outputs": [],
   "source": [
    "vrt = Circle(2)\n",
    "ayt = Rectangle(2,3)"
   ]
  },
  {
   "cell_type": "code",
   "execution_count": 15,
   "id": "27b1a508-3182-48a4-a781-056fa023aa8b",
   "metadata": {},
   "outputs": [
    {
     "data": {
      "text/plain": [
       "'Area for the circle with radius 2 units is 12.566370614359172 square units'"
      ]
     },
     "execution_count": 15,
     "metadata": {},
     "output_type": "execute_result"
    }
   ],
   "source": [
    "vrt.calculate_area()"
   ]
  },
  {
   "cell_type": "code",
   "execution_count": 16,
   "id": "44d69282-c9f5-4e58-91da-4adc75d77e4b",
   "metadata": {},
   "outputs": [
    {
     "data": {
      "text/plain": [
       "'Area for the rectangle with length 2 units and breadth with 3 units is 6 square units'"
      ]
     },
     "execution_count": 16,
     "metadata": {},
     "output_type": "execute_result"
    }
   ],
   "source": [
    "ayt.calculate_area()"
   ]
  },
  {
   "cell_type": "markdown",
   "id": "7770da1e-5709-4d00-9cee-571484b2fbf7",
   "metadata": {},
   "source": [
    "### 4. Explain the concept of abstract classes in Python and how they are defined using the `abc` module. Provide an example."
   ]
  },
  {
   "cell_type": "markdown",
   "id": "25c87afd-08df-463b-ac9c-57be198c44c5",
   "metadata": {},
   "source": [
    "#### An abstract class can be considered a blueprint for other classes. It allows you to create a set of methods that must be created within any child classes built from the abstract class. A class that contains one or more abstract methods is called an abstract class. While we are designing large functional units we use an abstract class. When we want to provide a common interface for different implementations of a component, we use an abstract class. By default, Python does not provide abstract classes. Python comes with a module that provides the base for defining Abstract Base classes(ABC) and that module name is ABC. ABC works by decorating methods of the base class as an abstract and then registering concrete classes as implementations of the abstract base. The below code defines an abstract base class called “book” using the ABC (Abstract Base Class) module in Python. The “book” class has an abstract method called “subject” that needs to be implemented by its subclasses. There are three subclasses of “book” defined: “data_science,” “dsa,” and “probability.” Each of these subclasses overrides the “subject” method and provides its own implementation by printing the subject of book it has. Instances of each subclass are created, and the “subject” method is called on each instance to display the subject specific to that book."
   ]
  },
  {
   "cell_type": "code",
   "execution_count": 4,
   "id": "306303ca-de33-4e8a-9b8f-2298d2e6ac41",
   "metadata": {},
   "outputs": [],
   "source": [
    "from abc import ABC, abstractmethod\n",
    "class book(ABC):\n",
    "    \n",
    "    @abstractmethod\n",
    "    def subject(self):\n",
    "        pass\n",
    "    \n",
    "class data_science(book):\n",
    "    \n",
    "    def subject(self):\n",
    "        return 'The book is for DataScience'\n",
    "    \n",
    "class dsa(book):\n",
    "    \n",
    "    def subject(self):\n",
    "        return 'The book is for DSA'\n",
    "    \n",
    "class probability(book):\n",
    "    \n",
    "    def subject(self):\n",
    "        return 'The book is for Probability'"
   ]
  },
  {
   "cell_type": "code",
   "execution_count": 6,
   "id": "f2d45dfb-e1e0-453a-8664-9d8f4801132c",
   "metadata": {},
   "outputs": [
    {
     "data": {
      "text/plain": [
       "'The book is for DataScience'"
      ]
     },
     "execution_count": 6,
     "metadata": {},
     "output_type": "execute_result"
    }
   ],
   "source": [
    "data_science_book = data_science()\n",
    "data_science_book.subject()"
   ]
  },
  {
   "cell_type": "code",
   "execution_count": 7,
   "id": "3130126f-38f9-4d08-aa45-35462b6bbf78",
   "metadata": {},
   "outputs": [
    {
     "data": {
      "text/plain": [
       "'The book is for DSA'"
      ]
     },
     "execution_count": 7,
     "metadata": {},
     "output_type": "execute_result"
    }
   ],
   "source": [
    "dataStructureA_book = dsa()\n",
    "dataStructureA_book.subject()"
   ]
  },
  {
   "cell_type": "code",
   "execution_count": 8,
   "id": "53c632e0-0624-4317-826e-c25673e23f89",
   "metadata": {},
   "outputs": [
    {
     "data": {
      "text/plain": [
       "'The book is for Probability'"
      ]
     },
     "execution_count": 8,
     "metadata": {},
     "output_type": "execute_result"
    }
   ],
   "source": [
    "probability_book = probability()\n",
    "probability_book.subject()"
   ]
  },
  {
   "cell_type": "markdown",
   "id": "f3338884-fa83-4bb4-9d31-57af99e9faa8",
   "metadata": {},
   "source": [
    "### 5. How do abstract classes differ from regular classes in Python? Discuss their use cases."
   ]
  },
  {
   "cell_type": "markdown",
   "id": "76a2ce1f-21a6-447b-842e-46d8eff3f86a",
   "metadata": {},
   "source": [
    "#### A regular class is a construct that enables us to create our own custom types by grouping together variables of other types, methods and events. A class is like a blueprint. It defines the data and behavior of a type. If the class is not declared as static, client code can use it by creating objects or instances which are assigned to a variable. While, Abstract classes, marked by the keyword abstract in the class definition, are typically used to define a base class in the hierarchy. We can't create an instance of them - if done, will get a compile error. Instead, you have to subclass them, and create an instance of your subclass. Abstract classes allow you to provide default functionality for the subclasses. When creating a class library which will be widely distributed or reused—especially to clients, we can use an abstract class, it simplifies versioning. Another benefit of having an abstract base class is if you need to make a change you only need to make it in one place."
   ]
  },
  {
   "cell_type": "markdown",
   "id": "229bee7e-e73c-43b3-89d3-c9ac673ccf38",
   "metadata": {},
   "source": [
    "### 6. Create a Python class for a bank account and demonstrate abstraction by hiding the account balance and providing methods to deposit and withdraw funds."
   ]
  },
  {
   "cell_type": "code",
   "execution_count": 17,
   "id": "4880c563-bb77-4b1b-9be0-49a84218f6e4",
   "metadata": {},
   "outputs": [
    {
     "name": "stdout",
     "output_type": "stream",
     "text": [
      "Account holder: John Doe, Balance: $1000\n",
      "Deposited $500. New balance: $1500\n",
      "Withdrew $200. New balance: $1300\n",
      "Current balance: $1300\n"
     ]
    }
   ],
   "source": [
    "class BankAccount:\n",
    "    def __init__(self, account_holder, initial_balance=0):\n",
    "        self.account_holder = account_holder\n",
    "        self._balance = initial_balance  # Using a single underscore to indicate it's a \"protected\" attribute\n",
    "\n",
    "    def deposit(self, amount):\n",
    "        if amount > 0:\n",
    "            self._balance += amount\n",
    "            print(f\"Deposited ${amount}. New balance: ${self._balance}\")\n",
    "        else:\n",
    "            print(\"Invalid deposit amount. Amount must be greater than 0.\")\n",
    "\n",
    "    def withdraw(self, amount):\n",
    "        if amount > 0 and self._balance >= amount:\n",
    "            self._balance -= amount\n",
    "            print(f\"Withdrew ${amount}. New balance: ${self._balance}\")\n",
    "        else:\n",
    "            print(\"Invalid withdrawal. Amount must be greater than 0 and less than or equal to the balance.\")\n",
    "\n",
    "    def get_balance(self):\n",
    "        return self._balance\n",
    "\n",
    "    def __str__(self):\n",
    "        return f\"Account holder: {self.account_holder}, Balance: ${self._balance}\"\n",
    "\n",
    "# Demonstration of the BankAccount class\n",
    "    account1 = BankAccount(\"John Doe\", 1000)\n",
    "\n",
    "    print(account1)  # Display account information\n",
    "\n",
    "    account1.deposit(500)  # Deposit $500\n",
    "    account1.withdraw(200)  # Withdraw $200\n",
    "\n",
    "    print(f\"Current balance: ${account1.get_balance()}\")  # Get and display the balance"
   ]
  },
  {
   "cell_type": "markdown",
   "id": "ce41b75c-a62d-4131-9f0f-3732faa4fa9d",
   "metadata": {},
   "source": [
    "### 7. Discuss the concept of interface classes in Python and their role in achieving abstraction."
   ]
  },
  {
   "cell_type": "markdown",
   "id": "ed96afed-47cd-48ca-8322-903d44136508",
   "metadata": {},
   "source": [
    "#### At a high level, an interface acts as a blueprint for designing classes. Like classes, interfaces define methods. Unlike classes, these methods are abstract. An abstract method is one that the interface simply defines. It doesn’t implement the methods. Generally, the interface is not part of Python, but we can implement it using the ABC module. Interfaces play a crucial role in software engineering as they provide a way to define a set of methods or behaviors that a class must implement. As an application grows in size and complexity, it becomes more difficult to manage updates and changes to the code base. One common problem that arises is the presence of classes that have similar functionality but are unrelated in terms of their inheritance hierarchy. It can lead to confusion and redundancy in the codebase."
   ]
  },
  {
   "cell_type": "markdown",
   "id": "567d3c25-9f5d-4feb-a3af-0d4a3897b628",
   "metadata": {},
   "source": [
    "### 8. Create a Python class hierarchy for animals and implement abstraction by defining common methods (e.g., `eat()`, `sleep()`) in an abstract base class."
   ]
  },
  {
   "cell_type": "code",
   "execution_count": 6,
   "id": "e03bc1d1-9145-4def-a570-13ffcf1613f7",
   "metadata": {},
   "outputs": [],
   "source": [
    "from abc import abstractmethod, ABC\n",
    "\n",
    "class Animal(ABC):\n",
    "    \n",
    "    @abstractmethod\n",
    "    def eat(self):\n",
    "        pass\n",
    "    \n",
    "    @abstractmethod\n",
    "    def sleep(self):\n",
    "        pass\n",
    "    \n",
    "class Bird(Animal):\n",
    "    \n",
    "    def eat(self):\n",
    "        return f'Bird picks up the seed'\n",
    "    \n",
    "    def sleep(self):\n",
    "        return f'Bird sleeps in the nest'\n",
    "    \n",
    "class plant_preying(Animal):\n",
    "    \n",
    "    def eat(self):\n",
    "        return f'This is a plant which preys'\n",
    "    \n",
    "    def sleep(self):\n",
    "        return f'This plant rests in sleep while preying also'"
   ]
  },
  {
   "cell_type": "code",
   "execution_count": 7,
   "id": "030767bd-3977-4efd-955d-772dfcace824",
   "metadata": {},
   "outputs": [],
   "source": [
    "sparrow = Bird()\n",
    "pitcher = plant_preying()"
   ]
  },
  {
   "cell_type": "code",
   "execution_count": 8,
   "id": "e7dbc748-8f64-4452-8bc9-758497bee643",
   "metadata": {},
   "outputs": [
    {
     "data": {
      "text/plain": [
       "'Bird picks up the seed'"
      ]
     },
     "execution_count": 8,
     "metadata": {},
     "output_type": "execute_result"
    }
   ],
   "source": [
    "sparrow.eat()"
   ]
  },
  {
   "cell_type": "code",
   "execution_count": 9,
   "id": "4d00dafe-66e7-4baf-afcf-ecd351d6ffe2",
   "metadata": {},
   "outputs": [
    {
     "data": {
      "text/plain": [
       "'This plant rests in sleep while preying also'"
      ]
     },
     "execution_count": 9,
     "metadata": {},
     "output_type": "execute_result"
    }
   ],
   "source": [
    "pitcher.sleep()"
   ]
  },
  {
   "cell_type": "markdown",
   "id": "2470bf55-eee6-42d5-be98-fb138c318706",
   "metadata": {},
   "source": [
    "### 9. Explain the significance of encapsulation in achieving abstraction. Provide examples."
   ]
  },
  {
   "cell_type": "markdown",
   "id": "80e9c5f3-7233-4bba-b705-f06ea881e614",
   "metadata": {},
   "source": [
    "#### A prime difference between abstraction and encapsulation is that abstraction hides the complexity of the code, while encapsulation hides its internal functions. Abstraction is the process of hiding unnecessary information from a user while displaying essential information that is valuable to them. It does not display trivial or non-essential units to the user. By using interfaces and abstract classes, you can accomplish this. A user can only access the methods of an interface. Encapsulation is a feature of OOP that binds data into a single unit called a class. This mechanism provides the ability to hide data. From a security point of view, it is also essential. Technically, an encapsulated class serves as a protective shield that prevents other classes from accessing its variables and data.  It is also known as data hiding because the data in a class is hidden from other classes. To encapsulate a class, declare all variable names as private, and implement methods to set and retrieve variable values in the class. \n",
    "<u>Key Difference Between Abstraction and Encapsulation</u>\n",
    "1. Encapsulation wraps code and data for unnecessary information, while Abstraction presents only useful data.\n",
    "2. Encapsulation focuses on how it should get done, while Abstraction focuses on what should get done.\n",
    "3. The Abstraction technique hides complexity by providing a more abstract picture, and the Encapsulation technique hides work within the system so it can get changed in the future.\n",
    "4. Abstraction allows you to separate the program into many independent parts, while Encapsulation enables you to change it as per your requirement.\n",
    "5. Abstraction addresses design problems, while Encapsulation addresses implementation problems.\n",
    "6. Abstraction hides unnecessary details in code, while Encapsulation makes it easier for developers to organize the entire program."
   ]
  },
  {
   "cell_type": "markdown",
   "id": "0124aa59-37a4-488e-a691-bf873c98d1eb",
   "metadata": {},
   "source": [
    "### 10. What is the purpose of abstract methods, and how do they enforce abstraction in Python classes?"
   ]
  },
  {
   "cell_type": "markdown",
   "id": "e314602d-0dc6-49f5-a58a-8bb4260330e8",
   "metadata": {},
   "source": [
    "#### An abstract method is a method that has a declaration but does not have an implementation. Python comes with a module that provides the base for defining Abstract Base classes(ABC) and that module name is ABC. ABC works by decorating methods of the base class as an abstract and then registering concrete classes as implementations of the abstract base. A method becomes abstract when decorated with the keyword @abstractmethod."
   ]
  },
  {
   "cell_type": "markdown",
   "id": "d63e5e08-72a5-423b-936c-ec0093eefab1",
   "metadata": {},
   "source": [
    "### 11. Create a Python class for a vehicle system and demonstrate abstraction by defining common methods (e.g., `start()`, `stop()`) in an abstract base class."
   ]
  },
  {
   "cell_type": "code",
   "execution_count": 12,
   "id": "4f751f8c-e8d2-498b-97c0-44c9baecf7cd",
   "metadata": {},
   "outputs": [],
   "source": [
    "from abc import abstractmethod, ABC\n",
    "\n",
    "class vehicle(ABC):\n",
    "    \n",
    "    def start(self):\n",
    "        pass\n",
    "    \n",
    "    def stop(self):\n",
    "        pass\n",
    "    \n",
    "class electric_scooter(vehicle):\n",
    "    \n",
    "    def start(self):\n",
    "        return f'The Engine has started'\n",
    "    \n",
    "    def stop(self):\n",
    "        return f'The Engine is now stopped'"
   ]
  },
  {
   "cell_type": "code",
   "execution_count": 13,
   "id": "c91de1ed-0ccb-4378-b8b2-dfada93b1039",
   "metadata": {},
   "outputs": [],
   "source": [
    "vida = electric_scooter()"
   ]
  },
  {
   "cell_type": "code",
   "execution_count": 14,
   "id": "8ae44638-e4c7-44c8-b390-70c7c20be6ff",
   "metadata": {},
   "outputs": [
    {
     "data": {
      "text/plain": [
       "'The Engine has started'"
      ]
     },
     "execution_count": 14,
     "metadata": {},
     "output_type": "execute_result"
    }
   ],
   "source": [
    "vida.start()"
   ]
  },
  {
   "cell_type": "code",
   "execution_count": 15,
   "id": "15a5a369-8ae4-4ed7-a928-a41a04f2e070",
   "metadata": {},
   "outputs": [
    {
     "data": {
      "text/plain": [
       "'The Engine is now stopped'"
      ]
     },
     "execution_count": 15,
     "metadata": {},
     "output_type": "execute_result"
    }
   ],
   "source": [
    "vida.stop()"
   ]
  },
  {
   "cell_type": "markdown",
   "id": "ceb47473-f198-4992-8a5b-2346749b4211",
   "metadata": {},
   "source": [
    "### 12. Describe the use of abstract properties in Python and how they can be employed in abstract classes."
   ]
  },
  {
   "cell_type": "markdown",
   "id": "f76025be-4484-4aa3-9b68-21e6c01759ce",
   "metadata": {},
   "source": [
    "#### Abstract properties in python is a concept, using whose extensive methods, a protected or private variables can be accessed and processed by the external user. Just as the abc module allows us to define abstract methods using the @abstractmethod decorator, it also allows us to define abstract properties using the @abstractproperty decorator. "
   ]
  },
  {
   "cell_type": "code",
   "execution_count": 2,
   "id": "54d06fe7-8e97-46fe-b476-7d636bc60aa4",
   "metadata": {},
   "outputs": [
    {
     "name": "stdout",
     "output_type": "stream",
     "text": [
      "The hero name is: IronMan\n",
      "The reel name is: Tony Stark\n"
     ]
    }
   ],
   "source": [
    "from abc import ABC, abstractproperty\n",
    " \n",
    "class Hero(ABC):\n",
    " \n",
    "    @abstractproperty\n",
    "    def hero_name(self):\n",
    "        return self.hname\n",
    " \n",
    "    @abstractproperty\n",
    "    def reel_name(self):\n",
    "        return self.rname\n",
    "\n",
    "class movie(Hero):\n",
    " \n",
    "    def __init__(self):\n",
    "        self.hname = \"IronMan\"\n",
    "        self.rname = \"Tony Stark\"\n",
    " \n",
    "    @property\n",
    "    def hero_name(self):\n",
    "        return self.hname\n",
    "    @property\n",
    "    def reel_name(self):\n",
    "        return self.rname\n",
    "\n",
    "data = movie()\n",
    "print(f'The hero name is: {data.hero_name}')\n",
    "print(f'The reel name is: {data.reel_name}')"
   ]
  },
  {
   "cell_type": "markdown",
   "id": "91e9c6cd-7681-479d-a388-bb23d1d9faa1",
   "metadata": {},
   "source": [
    "##### We created an abstract class Hero and defined two abstract properties called hero_name and reel_name using @abstractproperty. Then, within the derived class RDJ, we used the @property decorator to implement them that will make them a getter method. Then we instantiated the class RDJ and used the class instance to access the values of hero_name and reel_name. If we had not placed the @property decorator inside the class RDJ, we would have had to call the hero_name and reel_name."
   ]
  },
  {
   "cell_type": "markdown",
   "id": "683a70a9-d17d-45e5-b1e9-aa9fefd92b01",
   "metadata": {},
   "source": [
    "### 13. Create a Python class hierarchy for employees in a company (e.g., manager, developer, designer) and implement abstraction by defining a common `get_salary()` method."
   ]
  },
  {
   "cell_type": "code",
   "execution_count": 3,
   "id": "c2f472ca-2f90-46e8-8942-a6faab20f8bb",
   "metadata": {},
   "outputs": [],
   "source": [
    "from abc import ABC, abstractmethod\n",
    "class Employee(ABC):\n",
    "    \n",
    "    @abstractmethod\n",
    "    def get_salary(self):\n",
    "        pass\n",
    "    \n",
    "class Manager(Employee):\n",
    "    \n",
    "    def get_salary(self):\n",
    "        return f\"Manager's salary\"\n",
    "    \n",
    "class Developer(Employee):\n",
    "    \n",
    "    def get_salary(self):\n",
    "        return f\"Developer's Salary\"\n",
    "    \n",
    "class Designer(Employee):\n",
    "    \n",
    "    def get_salary(self):\n",
    "        return f\"Designer's Salary\""
   ]
  },
  {
   "cell_type": "code",
   "execution_count": 4,
   "id": "39b7ac89-6296-4796-83ea-ea4373e3482a",
   "metadata": {},
   "outputs": [
    {
     "data": {
      "text/plain": [
       "\"Manager's salary\""
      ]
     },
     "execution_count": 4,
     "metadata": {},
     "output_type": "execute_result"
    }
   ],
   "source": [
    "Samit = Manager()\n",
    "Samit.get_salary()"
   ]
  },
  {
   "cell_type": "code",
   "execution_count": 5,
   "id": "a2556938-4059-4fa0-9a85-930044adaaae",
   "metadata": {},
   "outputs": [
    {
     "data": {
      "text/plain": [
       "\"Developer's Salary\""
      ]
     },
     "execution_count": 5,
     "metadata": {},
     "output_type": "execute_result"
    }
   ],
   "source": [
    "Anand = Developer()\n",
    "Anand.get_salary()"
   ]
  },
  {
   "cell_type": "code",
   "execution_count": 6,
   "id": "026b3602-2090-4d64-9999-34590749ad4f",
   "metadata": {},
   "outputs": [
    {
     "data": {
      "text/plain": [
       "\"Designer's Salary\""
      ]
     },
     "execution_count": 6,
     "metadata": {},
     "output_type": "execute_result"
    }
   ],
   "source": [
    "Neeraj = Designer()\n",
    "Neeraj.get_salary()"
   ]
  },
  {
   "cell_type": "markdown",
   "id": "4f4fd907-a1cc-4029-89cb-f71e220f87c2",
   "metadata": {},
   "source": [
    "### 14. Discuss the differences between abstract classes and concrete classes in Python, including their instantiation."
   ]
  },
  {
   "cell_type": "markdown",
   "id": "1b4bddd9-61c8-4d9a-a681-a4132f3695c5",
   "metadata": {},
   "source": [
    "#### Difference between Abstract Class and Concrete Class\n",
    "1. An abstract class is declared using abstract modifier while this is not the case in concrete class.\n",
    "2. An abstract class cannot be directly instantiated using the new keyword while concrete class can be instantiated directly.\n",
    "3. An abstract class can contain both abstract methods or concrete methods while concrete class cannot contain abstract methods.\n",
    "4. Implement an interface is possible by not providing implementations of all of the interface’s methods. For this a child class is needed while there can be easy implementation of all of the methods in the interface."
   ]
  },
  {
   "cell_type": "markdown",
   "id": "2761ce06-94f6-41aa-987a-68778f60b552",
   "metadata": {},
   "source": [
    "### 15. Explain the concept of abstract data types (ADTs) and their role in achieving abstraction in Python."
   ]
  },
  {
   "cell_type": "markdown",
   "id": "51c1ce64-6bee-4880-8217-f99d7b2097d4",
   "metadata": {},
   "source": [
    "#### The abstract data type is special kind of data type, whose behavior is defined by a set of values and set of operations. The keyword “Abstract” is used as we can use these data types, we can perform different operations. But how those operations are working that is totally hidden from the user. As an alternative way for defining it, Abstract Data type (ADT) is a type (or class) for objects whose behavior is defined by a set of values and a set of operations. The definition of ADT only mentions what operations are to be performed but not how these operations will be implemented. It does not specify how data will be organized in memory and what algorithms will be used for implementing the operations. It is called “abstract” because it gives an implementation-independent view. ADTs provide a level of abstraction from the implementation details of the data. Users only need to know the operations that can be performed on the data, not how those operations are implemented. One can think of ADT as a black box which hides the inner structure and design of the data type."
   ]
  },
  {
   "cell_type": "markdown",
   "id": "39b276b1-4477-4cef-80db-095cbfc809fc",
   "metadata": {},
   "source": [
    "### 16. Create a Python class for a computer system, demonstrating abstraction by defining common methods (e.g., `power_on()`, `shutdown()`) in an abstract base class."
   ]
  },
  {
   "cell_type": "code",
   "execution_count": 7,
   "id": "bc6bc87b-6a2b-4e87-a7e5-1e61eef22a2a",
   "metadata": {},
   "outputs": [],
   "source": [
    "from abc import ABC, abstractmethod\n",
    "class computer_system(ABC):\n",
    "    \n",
    "    @abstractmethod\n",
    "    def power_on(self):\n",
    "        pass\n",
    "    \n",
    "    @abstractmethod\n",
    "    def shutdown(self):\n",
    "        pass\n",
    "    \n",
    "class laptop(computer_system):\n",
    "    \n",
    "    def power_on(self):\n",
    "        return f\"The laptop is powered ON\"\n",
    "    \n",
    "    def shutdown(self):\n",
    "        return f\"The laptop is now Shutdown\"\n",
    "    \n",
    "class mobile(computer_system):\n",
    "    \n",
    "    def power_on(self):\n",
    "        return f\"The mobile is powered ON\"\n",
    "    \n",
    "    def shutdown(self):\n",
    "        return f\"The mobile has been shutdown\"\n",
    "    \n",
    "hp = laptop()\n",
    "lenovo = mobile()"
   ]
  },
  {
   "cell_type": "code",
   "execution_count": 8,
   "id": "a606ac7b-9311-42f9-a8aa-5cc76cd1e4de",
   "metadata": {},
   "outputs": [
    {
     "data": {
      "text/plain": [
       "'The laptop is powered ON'"
      ]
     },
     "execution_count": 8,
     "metadata": {},
     "output_type": "execute_result"
    }
   ],
   "source": [
    "hp.power_on()"
   ]
  },
  {
   "cell_type": "code",
   "execution_count": 9,
   "id": "db48328e-4f45-47ee-bbc5-b6a9662fc81e",
   "metadata": {},
   "outputs": [
    {
     "data": {
      "text/plain": [
       "'The laptop is now Shutdown'"
      ]
     },
     "execution_count": 9,
     "metadata": {},
     "output_type": "execute_result"
    }
   ],
   "source": [
    "hp.shutdown()"
   ]
  },
  {
   "cell_type": "code",
   "execution_count": 11,
   "id": "f7ec6260-2535-4945-b7d9-11c3771ed0a3",
   "metadata": {},
   "outputs": [
    {
     "data": {
      "text/plain": [
       "'The mobile is powered ON'"
      ]
     },
     "execution_count": 11,
     "metadata": {},
     "output_type": "execute_result"
    }
   ],
   "source": [
    "lenovo.power_on()"
   ]
  },
  {
   "cell_type": "code",
   "execution_count": 12,
   "id": "d63bb1fd-d1dc-4374-bf56-1e6005fb0ab8",
   "metadata": {},
   "outputs": [
    {
     "data": {
      "text/plain": [
       "'The mobile has been shutdown'"
      ]
     },
     "execution_count": 12,
     "metadata": {},
     "output_type": "execute_result"
    }
   ],
   "source": [
    "lenovo.shutdown()"
   ]
  },
  {
   "cell_type": "markdown",
   "id": "fcff2698-d681-416d-8473-951ea488647e",
   "metadata": {},
   "source": [
    "### 17. Discuss the benefits of using abstraction in large-scale software development projects."
   ]
  },
  {
   "cell_type": "markdown",
   "id": "442d5feb-9a22-4ab6-abd4-d17f93f77ec6",
   "metadata": {},
   "source": [
    "#### Abstraction is a fundamental concept in software development that involves simplifying complex systems by hiding unnecessary details while exposing the essential components. When applied effectively in large-scale software development projects, abstraction offers numerous benefits, helping developers manage complexity, improve maintainability, and enhance overall productivity. Abstraction allows developers to focus on high-level concepts and hide the intricacies of lower-level components. Abstraction facilitates modular design, enabling software to be divided into smaller, independent modules. This makes it easier to manage and maintain the codebase, as changes or updates can be isolated to specific modules without affecting the entire system. New components or modules can be added without disrupting existing functionality, making it easier to accommodate growth. Abstraction encourages a more structured and consistent coding style. This, in turn, improves code quality and readability."
   ]
  },
  {
   "cell_type": "markdown",
   "id": "6b7c7a54-b630-4bf9-9bb3-b61a9bba8df4",
   "metadata": {},
   "source": [
    "### 18. Explain how abstraction enhances code reusability and modularity in Python programs."
   ]
  },
  {
   "cell_type": "markdown",
   "id": "ee3f1bd2-a95e-4d2e-8db2-092f4d267603",
   "metadata": {},
   "source": [
    "#### Abstraction encourages the creation of reusable components and libraries. This reusability not only reduces development time but also ensures consistency and reliability across different parts of the project. Abstraction facilitates modular design, enabling software to be divided into smaller, independent modules. This makes it easier to manage and maintain the codebase, as changes or updates can be isolated to specific modules without affecting the entire system."
   ]
  },
  {
   "cell_type": "markdown",
   "id": "0a3efbe4-e303-4f7d-949a-221715b7ed40",
   "metadata": {},
   "source": [
    "### 19. Create a Python class for a library system, implementing abstraction by defining common methods (e.g., `add_book()`, `borrow_book()`) in an abstract base class."
   ]
  },
  {
   "cell_type": "code",
   "execution_count": 13,
   "id": "fc759e2e-194b-4d02-9e3f-eea9cd55a4df",
   "metadata": {},
   "outputs": [],
   "source": [
    "from abc import ABC, abstractmethod\n",
    "class library(ABC):\n",
    "    \n",
    "    @abstractmethod\n",
    "    def add_book(self):\n",
    "        pass\n",
    "    \n",
    "    @abstractmethod\n",
    "    def borrow_book(self):\n",
    "        pass\n",
    "    \n",
    "class disha_library(library):\n",
    "    \n",
    "    def add_book(self):\n",
    "        return f\"Book has been added to the library\"\n",
    "    \n",
    "    def borrow_book(self):\n",
    "        return f\"Book has been returned to the library\"\n",
    "    \n",
    "new_disha_lib = disha_library()"
   ]
  },
  {
   "cell_type": "code",
   "execution_count": 14,
   "id": "5dd00a5b-553a-4e44-8a7e-b81b63a01684",
   "metadata": {},
   "outputs": [
    {
     "data": {
      "text/plain": [
       "'Book has been added to the library'"
      ]
     },
     "execution_count": 14,
     "metadata": {},
     "output_type": "execute_result"
    }
   ],
   "source": [
    "new_disha_lib.add_book()"
   ]
  },
  {
   "cell_type": "code",
   "execution_count": 15,
   "id": "b75a6967-d972-49f9-bd51-e1d762d848d5",
   "metadata": {},
   "outputs": [
    {
     "data": {
      "text/plain": [
       "'Book has been returned to the library'"
      ]
     },
     "execution_count": 15,
     "metadata": {},
     "output_type": "execute_result"
    }
   ],
   "source": [
    "new_disha_lib.borrow_book()"
   ]
  },
  {
   "cell_type": "markdown",
   "id": "0f6a25ec-36a9-46d0-92b5-54a74db2776d",
   "metadata": {},
   "source": [
    "### 20. Describe the concept of method abstraction in Python and how it relates to polymorphism."
   ]
  },
  {
   "cell_type": "markdown",
   "id": "664b15b5-302b-4b98-ae4b-61b1b5924cf6",
   "metadata": {},
   "source": [
    "#### Abstraction in python is defined as a process of handling complexity by hiding unnecessary information from the user. This is one of the core concepts of object-oriented programming (OOP) languages. That enables the user to implement even more complex logic on top of the provided abstraction without understanding or even thinking about all the hidden background/back-end complexity. Polymorphism works at runtime to connect abstract things with a concrete implementation. This allows to code with abstract class and interface, which results in much more flexible and maintainable code than directly working with concrete classes."
   ]
  },
  {
   "cell_type": "code",
   "execution_count": null,
   "id": "e74af36f-783e-4b68-af99-1bef4c9397f4",
   "metadata": {},
   "outputs": [],
   "source": []
  }
 ],
 "metadata": {
  "kernelspec": {
   "display_name": "Python 3 (ipykernel)",
   "language": "python",
   "name": "python3"
  },
  "language_info": {
   "codemirror_mode": {
    "name": "ipython",
    "version": 3
   },
   "file_extension": ".py",
   "mimetype": "text/x-python",
   "name": "python",
   "nbconvert_exporter": "python",
   "pygments_lexer": "ipython3",
   "version": "3.10.8"
  }
 },
 "nbformat": 4,
 "nbformat_minor": 5
}
