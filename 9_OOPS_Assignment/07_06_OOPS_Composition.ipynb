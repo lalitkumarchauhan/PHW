{
 "cells": [
  {
   "cell_type": "markdown",
   "id": "97187e8d-6185-46bb-8d63-70ba9ed5a1ee",
   "metadata": {},
   "source": [
    "# OOPS_2_Assignment"
   ]
  },
  {
   "cell_type": "markdown",
   "id": "544f5e47-da59-4576-b63d-fb03c0ddf568",
   "metadata": {},
   "source": [
    "## Composition:"
   ]
  },
  {
   "cell_type": "markdown",
   "id": "fabcb7ee-6915-48bd-969e-1cd99b270ac5",
   "metadata": {},
   "source": [
    "### 1. Explain the concept of composition in Python and how it is used to build complex objects from simpler ones."
   ]
  },
  {
   "cell_type": "markdown",
   "id": "f67196ea-a285-4013-a6c2-36ecca7808ab",
   "metadata": {},
   "source": [
    "#### In object-oriented programming languages, object composition is used for objects that have a “has-a” relationship with each other. For example, a mobile has-a battery, has-a sensor, has-a screen, etc. Therefore, the complex object is called the whole or a parent object whereas a simpler object is often referred to as a child object. In this case, all the objects or components are the child objects which together make up the complex object(mobile). The most important advantage is if any changes have to be made in a child class, only the child class can be changed rather than changing the entire parent class. For example, if we want to change the battery class in the mobile object, with the help of composition, the changes are only made in the battery class and the entire mobile object works fine with the updated changes."
   ]
  },
  {
   "cell_type": "markdown",
   "id": "ae9fef59-2949-450e-a391-11bb1e476310",
   "metadata": {},
   "source": [
    "### 2. Describe the difference between composition and inheritance in object-oriented programming."
   ]
  },
  {
   "cell_type": "markdown",
   "id": "e54ba615-3891-41b2-8322-a7ddf3d68c65",
   "metadata": {},
   "source": [
    "#### Inheritance is used where a class wants to derive the nature of parent class and then modify or extend the functionality of it. Inheritance will extend the functionality with extra features allows overriding of methods, but in the case of Composition, we can only use that class we can not modify or extend the functionality of it. It will not provide extra features. Thus, when one needs to use the class as it without any modification, the composition is recommended and when one needs to change the behavior of the method in another class, then inheritance is recommended."
   ]
  },
  {
   "cell_type": "markdown",
   "id": "cad2ff32-3788-42ef-bb8c-4bc332d3019c",
   "metadata": {},
   "source": [
    "### 3. Create a Python class called `Author` with attributes for name and birthdate. Then, create a `Book` class that contains an instance of `Author` as a composition. Provide an example of creating a `Book` object."
   ]
  },
  {
   "cell_type": "code",
   "execution_count": 25,
   "id": "8b83b310-982f-4ede-abbd-be4de12f7b83",
   "metadata": {},
   "outputs": [],
   "source": [
    "class Author:\n",
    "    \n",
    "    def __init__(self, name, birthdate):\n",
    "        self.name = name\n",
    "        self.birthdate = birthdate\n",
    "    \n",
    "class book:\n",
    "    \n",
    "    def __init__(self, book_author):\n",
    "        self.book_author = book_author\n",
    "    \n",
    "ved_a = Author(\"Ved\", '5k')\n",
    "sanjivini = book(ved_a)\n"
   ]
  },
  {
   "cell_type": "code",
   "execution_count": 31,
   "id": "eb7df149-f1a0-4148-9467-380af5b09668",
   "metadata": {},
   "outputs": [
    {
     "name": "stdout",
     "output_type": "stream",
     "text": [
      "The book-title is Ved\n",
      "The birthdate for Ved is 5k\n"
     ]
    }
   ],
   "source": [
    "print(f'The book-title is {sanjivini.book_author.name}')\n",
    "print(f'The birthdate for {sanjivini.book_author.name} is {sanjivini.book_author.birthdate}')"
   ]
  },
  {
   "cell_type": "markdown",
   "id": "994b4df1-801f-41de-9bec-f6f81901ce8b",
   "metadata": {},
   "source": [
    "### 4. Discuss the benefits of using composition over inheritance in Python, especially in terms of code flexibility and reusability."
   ]
  },
  {
   "cell_type": "markdown",
   "id": "a1d959b4-b79d-4b6e-97b3-2c3ac2ca8525",
   "metadata": {},
   "source": [
    "#### Composition enables you to reuse code by adding objects to other objects, as opposed to inheriting the interface and implementation of other classes. For example, your Horse class can be composed by another object of type Tail. Composition allows you to express that relationship by saying a Horse has a Tail. Both Horse and Dog classes can leverage the functionality of Tail through composition without deriving one class from the other."
   ]
  },
  {
   "cell_type": "markdown",
   "id": "924fcc16-5610-4ffb-b245-dc34870c21d7",
   "metadata": {},
   "source": [
    "### 5. How can you implement composition in Python classes? Provide examples of using composition to create complex objects."
   ]
  },
  {
   "cell_type": "markdown",
   "id": "cda7f972-0c5a-4cbd-8b77-6cdbf46d7e2b",
   "metadata": {},
   "source": [
    "#### An approach to code reuse when using the object-oriented style of programming in Python is Composition. Composition has a different approach wherein a “has a” relationship is used. Basically in composition, you assemble complex objects out of more simple ones. You build objects out of other objects. For example, you could build a Car object that has a Engine object, or has a Tire object, and so on."
   ]
  },
  {
   "cell_type": "code",
   "execution_count": 32,
   "id": "711e7ed1-dff9-465f-894d-b69b24410f65",
   "metadata": {},
   "outputs": [
    {
     "data": {
      "text/plain": [
       "190000"
      ]
     },
     "execution_count": 32,
     "metadata": {},
     "output_type": "execute_result"
    }
   ],
   "source": [
    "# Using composition to build complex objects\n",
    "class Salary:\n",
    "    def __init__(self, monthly_pay, bonus):\n",
    "        self.monthly_pay = monthly_pay\n",
    "        self.bonus = bonus\n",
    "        \n",
    "    def annual_salary(self):\n",
    "        return self.monthly_pay*12 + self.bonus\n",
    "    \n",
    "class Employee:\n",
    "    def __init__(self, name, age, monthly_pay, bonus):\n",
    "        self.name = name\n",
    "        self.age = age\n",
    "        self.obj_salary = Salary(monthly_pay, bonus)\n",
    "    def Total_salary(self):\n",
    "        return self.obj_salary.annual_salary()\n",
    "    \n",
    "emp1 = Employee('kishan', 24, 15000, 10000)\n",
    "emp1.Total_salary()\n",
    "        "
   ]
  },
  {
   "cell_type": "markdown",
   "id": "e6be3cd8-771a-4656-a01a-2c4a4809cd7e",
   "metadata": {},
   "source": [
    "### 6. Create a Python class hierarchy for a music player system, using composition to represent playlists and songs."
   ]
  },
  {
   "cell_type": "code",
   "execution_count": 15,
   "id": "c23f248b-65de-4a04-9c09-6b0dea7f513d",
   "metadata": {},
   "outputs": [],
   "source": [
    "class song:\n",
    "    def __init__(self, song):\n",
    "        self.song = song\n",
    "        \n",
    "    def play(self):\n",
    "        print(f'{self.song} is playing')\n",
    "\n",
    "class playlist:\n",
    "    def __init__(self, name):\n",
    "        self.name = name\n",
    "        self.songs = []\n",
    "        \n",
    "    def add_song(self, song):\n",
    "        self.songs.append(song)\n",
    "        \n",
    "    def play(self):\n",
    "        print(f'{self.name} is playing')\n",
    "        for song in self.songs:\n",
    "            song.play()\n",
    "\n",
    "class music_player:\n",
    "    def __init__(self):\n",
    "        self.player_lists = []\n",
    "        \n",
    "    def add_playlist(self, playlist):\n",
    "        self.player_lists.append(playlist)\n",
    "        \n",
    "    def play_playlist(self, playlist_name):\n",
    "        for playlist in self.player_lists:\n",
    "            if playlist.name == playlist_name:\n",
    "                playlist.play()\n",
    "            else:\n",
    "                print(f\"Playlist {playlist_name} not found\")"
   ]
  },
  {
   "cell_type": "code",
   "execution_count": 17,
   "id": "12361a9f-9183-4d82-8f14-d21bec8b1860",
   "metadata": {},
   "outputs": [
    {
     "name": "stdout",
     "output_type": "stream",
     "text": [
      "Playlist1 is playing\n",
      "Cheap thrills is playing\n",
      "Saregama is playing\n",
      "Playlist A not-added playlist not found\n"
     ]
    }
   ],
   "source": [
    "ct = song('Cheap thrills')\n",
    "srgm = song(\"Saregama\")\n",
    "playlist1 = playlist(\"Playlist1\")\n",
    "playlist1.add_song(ct)\n",
    "playlist1.add_song(srgm)\n",
    "mp = music_player()\n",
    "mp.add_playlist(playlist1)\n",
    "mp.play_playlist(\"Playlist1\")\n",
    "mp.play_playlist(\"A not-added playlist\")"
   ]
  },
  {
   "cell_type": "markdown",
   "id": "c3f08dec-a29c-4996-b691-32b8a20f19b5",
   "metadata": {},
   "source": [
    "### 7. Explain the concept of \"has-a\" relationships in composition and how it helps design software systems."
   ]
  },
  {
   "cell_type": "markdown",
   "id": "e29b1a1a-8b9a-4dd6-a8a1-1ed45a16a764",
   "metadata": {},
   "source": [
    "#### Composition is a concept that models a `has a` relationship. It enables creating complex types by combining objects of other types. This means that a class Composite can contain an object of another class Component. This relationship means that a Composite `has a` Component. If the employee object in the below example is deleted, the `Salary` and `Employee` classes survives this change."
   ]
  },
  {
   "cell_type": "code",
   "execution_count": 33,
   "id": "908f0d5a-bc32-4e0a-9d45-f17a4d58df1c",
   "metadata": {},
   "outputs": [
    {
     "data": {
      "text/plain": [
       "190000"
      ]
     },
     "execution_count": 33,
     "metadata": {},
     "output_type": "execute_result"
    }
   ],
   "source": [
    "class Salary:\n",
    "    def __init__(self, monthly_pay, bonus):\n",
    "        self.monthly_pay = monthly_pay\n",
    "        self.bonus = bonus\n",
    "        \n",
    "    def annual_salary(self):\n",
    "        return self.monthly_pay*12 + self.bonus\n",
    "    \n",
    "class Employee:\n",
    "    def __init__(self, name, age, salary):\n",
    "        self.name = name\n",
    "        self.age = age\n",
    "        self.obj_salary = salary\n",
    "    def Total_salary(self):\n",
    "        return self.obj_salary.annual_salary()\n",
    "\n",
    "salary = Salary(15000, 10000)\n",
    "emp1 = Employee('kishan', 24, salary)\n",
    "emp1.Total_salary()"
   ]
  },
  {
   "cell_type": "markdown",
   "id": "9f07f0b7-8e6a-41f7-a31f-730c136ad64a",
   "metadata": {},
   "source": [
    "### 8. Create a Python class for a computer system, using composition to represent components like CPU, RAM, and storage devices."
   ]
  },
  {
   "cell_type": "code",
   "execution_count": 22,
   "id": "9926399c-19df-4f97-a5f3-b7057fd0ecc1",
   "metadata": {},
   "outputs": [
    {
     "name": "stdout",
     "output_type": "stream",
     "text": [
      "Compter Specifications: \n",
      " Intel i7 at 2GHz GHz \n",
      " SDRAM of 16GB GB \n",
      " 1TB storage of SATA GB\n"
     ]
    }
   ],
   "source": [
    "class CPU:\n",
    "    def __init__(self, brand, model, speed):\n",
    "        self.brand = brand\n",
    "        self.model = model\n",
    "        self.speed = speed\n",
    "        \n",
    "    def info(self):\n",
    "        return f'{self.brand} {self.model} at {self.speed} GHz'\n",
    "    \n",
    "class RAM:\n",
    "    def __init__(self, memory, type):\n",
    "        self.memory = memory\n",
    "        self.type = type\n",
    "        \n",
    "    def info(self):\n",
    "        return f\"{self.type} of {self.memory} GB\"\n",
    "    \n",
    "class storage:\n",
    "    def __init__(self, memory, type):\n",
    "        self.memory = memory\n",
    "        self.type = type\n",
    "        \n",
    "    def info(self):\n",
    "        return f\"{self.type} storage of {self.memory} GB\"\n",
    "    \n",
    "class computer_system:\n",
    "    def __init__(self, cpu, ram, storage):\n",
    "        self.cpu = cpu\n",
    "        self.ram = ram\n",
    "        self.storage = storage\n",
    "        \n",
    "    def info(self):\n",
    "        return f\"Compter Specifications: \\n {self.cpu.info()} \\n {self.ram.info()} \\n {self.storage.info()}\"\n",
    "    \n",
    "cpu = CPU(\"Intel\", \"i7\", \"2GHz\")\n",
    "ram = RAM(\"16GB\", \"SDRAM\")\n",
    "stor = storage(\"SATA\", \"1TB\")\n",
    "c_s = computer_system(cpu, ram, stor)\n",
    "print(c_s.info())"
   ]
  },
  {
   "cell_type": "markdown",
   "id": "a6aa754a-0999-410d-a696-d5ce8ad36565",
   "metadata": {},
   "source": [
    "### 9. Describe the concept of \"delegation\" in composition and how it simplifies the design of complex systems."
   ]
  },
  {
   "cell_type": "markdown",
   "id": "52ee33a3-10ab-4fc7-a3b8-418ee2896814",
   "metadata": {},
   "source": [
    "#### `Delegation` is a concept by using which an operation in an entity can be transferred to a different entity easily or it can be said that the complex entities can be broken into simple entities and it is called delegation as the task is delegated to another entity."
   ]
  },
  {
   "cell_type": "markdown",
   "id": "6d8d6120-ef99-4943-822d-0142c258c961",
   "metadata": {},
   "source": [
    "### 10. Create a Python class for a car, using composition to represent components like the engine, wheels, and transmission."
   ]
  },
  {
   "cell_type": "code",
   "execution_count": 24,
   "id": "31aa27c0-0171-46d4-bc36-ab76c38c2e36",
   "metadata": {},
   "outputs": [
    {
     "name": "stdout",
     "output_type": "stream",
     "text": [
      "Nano LX is starting...\n",
      "Engine started\n",
      "Gear shifted\n",
      "Nano LX is moving...\n",
      "Wheels rotating\n",
      "Nano LX is stopping...\n",
      "Engine stopped\n",
      "Gear shifted\n"
     ]
    }
   ],
   "source": [
    "class engine:\n",
    "    \n",
    "    def __init__(self, horsepower, fuel_type):\n",
    "        self.horsepower = horsepower\n",
    "        self.fuel_type = fuel_type\n",
    "        \n",
    "    def start(self):\n",
    "        print(\"Engine started\")\n",
    "        \n",
    "    def stop(self):\n",
    "        print(\"Engine stopped\")\n",
    "        \n",
    "class wheels:\n",
    "    \n",
    "    def __init__(self, size, brand):\n",
    "        self.size = size\n",
    "        self.brand = brand\n",
    "        \n",
    "    def rotate(self):\n",
    "        print(\"Wheels rotating\")\n",
    "        \n",
    "class transmission:\n",
    "    def __init__(self, transmission_type):\n",
    "        self.transmission_type = transmission_type\n",
    "\n",
    "    def shift_gear(self):\n",
    "        print(\"Gear shifted\")\n",
    "        \n",
    "class car:\n",
    "    def __init__(self, name, model, engine, wheels, transmission):\n",
    "        self.name = name\n",
    "        self.model = model\n",
    "        self.engine = engine\n",
    "        self.wheels = wheels\n",
    "        self.transmission = transmission\n",
    "        \n",
    "    def start(self):\n",
    "        print(f'{self.name} {self.model} is starting...')\n",
    "        self.engine.start()\n",
    "        self.transmission.shift_gear()\n",
    "        \n",
    "    def drive(self):\n",
    "        print(f'{self.name} {self.model} is moving...')\n",
    "        self.wheels.rotate()\n",
    "        \n",
    "    def stop(self):\n",
    "        print(f'{self.name} {self.model} is stopping...')\n",
    "        self.engine.stop()\n",
    "        self.transmission.shift_gear()\n",
    "        \n",
    "\n",
    "engn = engine(38 ,\"Honda\")\n",
    "whls = wheels(16, \"MRF\")\n",
    "trnsmssn = transmission(\"CVT\")\n",
    "cr_nano = car('Nano', 'LX', engn, whls, trnsmssn)\n",
    "cr_nano.start()\n",
    "cr_nano.drive()\n",
    "cr_nano.stop()\n",
    "    "
   ]
  },
  {
   "cell_type": "markdown",
   "id": "c7e26c52-af7b-41fe-9d28-29e4a8e11ccd",
   "metadata": {},
   "source": [
    "### 11. How can you encapsulate and hide the details of composed objects in Python classes to maintain abstraction?"
   ]
  },
  {
   "cell_type": "markdown",
   "id": "3ee2062b-8204-4f70-b187-be911fcb4930",
   "metadata": {},
   "source": [
    "1. Use a single underscore (_) prefix for attributes and methods to indicate that they are intended for internal use.\n",
    "2. Use property decorators to control access to attributes"
   ]
  },
  {
   "cell_type": "markdown",
   "id": "5d25f906-8dac-4fd3-be06-f264420f1f2f",
   "metadata": {},
   "source": [
    "### 12. Create a Python class for a university course, using composition to represent students, instructors, and course materials."
   ]
  },
  {
   "cell_type": "code",
   "execution_count": 29,
   "id": "b6aa3dc6-c3e1-4e70-9453-2a6adcbcee65",
   "metadata": {},
   "outputs": [
    {
     "name": "stdout",
     "output_type": "stream",
     "text": [
      "Students in the Course:\n",
      "Student ID: 1, Name: Alice\n",
      "Student ID: 2, Name: Bob\n"
     ]
    }
   ],
   "source": [
    "class student:\n",
    "    \n",
    "    def __init__(self, student_id, name):\n",
    "        self.student_id = student_id\n",
    "        self.name = name\n",
    "        \n",
    "    def submit_assignement(self, assignment):\n",
    "        return f\"{self.name} has submitted the assignment: {assignment}\"\n",
    "    \n",
    "class instructor:\n",
    "    \n",
    "    def __init__(self,  name):\n",
    "        self.name = name\n",
    "        \n",
    "    def check_assignment(self, assignment, student):\n",
    "        return f\"{self.name} has checked the assignment: {assignment}\"\n",
    "    \n",
    "class course:\n",
    "    def __init__(self, course_code, course_name, instructor):\n",
    "        self.course_code = course_code\n",
    "        self.course_name = course_name\n",
    "        self.instructor = instructor\n",
    "        self.students = []\n",
    "        self.course_materials = []\n",
    "    \n",
    "    def add_course_materials(self, course_materials):\n",
    "        self.course_materials.append(course_materials)\n",
    "        \n",
    "    def add_student(self, student):\n",
    "        self.students.append(student)\n",
    "        return self.students\n",
    "\n",
    "# Example usage:\n",
    "# Create instances of Student, Instructor, and Course\n",
    "student1 = student(1, \"Alice\")\n",
    "student2 = student(2, \"Bob\")\n",
    "\n",
    "instructor = instructor(\"Professor Smith\")\n",
    "\n",
    "python_course = course(\"CS101\", \"Introduction to Python\", instructor)\n",
    "\n",
    "# Add students to the course\n",
    "python_course.add_student(student1)\n",
    "python_course.add_student(student2)\n",
    "\n",
    "# Print information about the students\n",
    "print(\"Students in the Course:\")\n",
    "for student in python_course.students:\n",
    "    print(f\"Student ID: {student.student_id}, Name: {student.name}\")"
   ]
  },
  {
   "cell_type": "markdown",
   "id": "cc8a1935-9335-4022-bff4-4557d9bc4aa7",
   "metadata": {},
   "source": [
    "### 13. Discuss the challenges and drawbacks of composition, such as increased complexity and potential for tight coupling between objects."
   ]
  },
  {
   "cell_type": "markdown",
   "id": "d719989b-d9f7-4d9a-b4fd-ee6c2e4071ab",
   "metadata": {},
   "source": [
    "#### As composing more objects to create complex systems, the overall complexity of the code can increase significantly. Understanding and maintaining a highly composed system may become challenging, especially for large projects or when working with a team of developers. Composition can lead to tight coupling between objects, where changes to one component may require corresponding changes to other components. This can reduce the flexibility and reusability of individual components, as they become more dependent on each other."
   ]
  },
  {
   "cell_type": "markdown",
   "id": "614c64eb-fb45-47d5-980b-8f9115695084",
   "metadata": {},
   "source": [
    "### 14. Create a Python class hierarchy for a restaurant system, using composition to represent menus, dishes, and ingredients."
   ]
  },
  {
   "cell_type": "code",
   "execution_count": 26,
   "id": "428c9be1-85c5-46ae-ac33-dd6477054b19",
   "metadata": {},
   "outputs": [],
   "source": [
    "class ingredients:\n",
    "    \n",
    "    def __init__(self, name_ingredient):\n",
    "        self.name_ingredient = name_ingredient\n",
    "    \n",
    "    def mix(self):\n",
    "        print(f\"The {self.name_ingredient} has been added...\")\n",
    "    \n",
    "class dishes:\n",
    "    \n",
    "    def __init__(self, dishname):\n",
    "        self.dishname = dishname\n",
    "        self.dish_ingredients = []\n",
    "        \n",
    "    def add_ingredients(self, ingredient):\n",
    "        self.dish_ingredients.append(ingredient)\n",
    "        \n",
    "    def cook(self):\n",
    "        print(f\"{self.dishname} is being cooked...\")\n",
    "        for ingredient in self.dish_ingredients:\n",
    "            ingredient.mix()\n",
    "            \n",
    "class menu:\n",
    "    \n",
    "    def __init__(self, menu_name):\n",
    "        self.menu_name = menu_name\n",
    "        self.menus = []\n",
    "        \n",
    "    def add_dishes(self, dish):\n",
    "        self.menus.append(dish)\n",
    "        \n",
    "    def display_menu(self, menu_name):\n",
    "        print(f\"Menu is: {self.menu_name}\")\n",
    "        for dish in self.menus:\n",
    "            if dish.dishname:\n",
    "                print(dish.dishname)\n",
    "            else:\n",
    "                continue        "
   ]
  },
  {
   "cell_type": "code",
   "execution_count": 28,
   "id": "bef7dd24-41a8-4090-a7b0-feb02e39a2a0",
   "metadata": {},
   "outputs": [
    {
     "name": "stdout",
     "output_type": "stream",
     "text": [
      "cab-pot dish is being cooked...\n",
      "The Cabbage has been added...\n",
      "The Potato has been added...\n",
      "The Onion has been added...\n",
      "daal is being cooked...\n",
      "The Gram has been added...\n",
      "The Salt has been added...\n",
      "The Onion has been added...\n",
      "Menu is: Vegetarian\n",
      "cab-pot dish\n",
      "daal\n"
     ]
    }
   ],
   "source": [
    "ingredient1 = ingredients(\"Cabbage\")\n",
    "ingredient2 = ingredients(\"Potato\")\n",
    "ingredient3 = ingredients(\"Onion\")\n",
    "dish1 = dishes(\"cab-pot dish\")\n",
    "dish1.add_ingredients(ingredient1)\n",
    "dish1.add_ingredients(ingredient2)\n",
    "dish1.add_ingredients(ingredient3)\n",
    "ingredient4 = ingredients(\"Gram\")\n",
    "ingredient5 = ingredients(\"Salt\")\n",
    "ingredient6 = ingredients(\"Onion\")\n",
    "dish2 = dishes(\"daal\")\n",
    "dish2.add_ingredients(ingredient4)\n",
    "dish2.add_ingredients(ingredient5)\n",
    "dish2.add_ingredients(ingredient6)\n",
    "dish1.cook()\n",
    "dish2.cook()\n",
    "menu1 = menu(\"Vegetarian\")\n",
    "menu1.add_dishes(dish1)\n",
    "menu1.add_dishes(dish2)\n",
    "menu1.display_menu(menu1)"
   ]
  },
  {
   "cell_type": "markdown",
   "id": "005881a2-ac75-4ee9-b0a1-8d7095dabcfa",
   "metadata": {},
   "source": [
    "### 15. Explain how composition enhances code maintainability and modularity in Python programs."
   ]
  },
  {
   "cell_type": "markdown",
   "id": "89526cd5-2bfc-40dc-baff-52862465ceeb",
   "metadata": {},
   "source": [
    "#### Composition allows us to reuse existing classes and objects as components in the creation of new, more complex objects. With composition, each class or object represents a modular and independent unit of functionality. This modularity makes it easier to understand, modify, and extend the code. Each component can be developed, tested, and maintained independently, contributing to a more modular and organized codebase."
   ]
  },
  {
   "cell_type": "markdown",
   "id": "d928dee9-3a38-46d9-bc3b-1efc1e901a90",
   "metadata": {},
   "source": [
    "### 16. Create a Python class for a computer game character, using composition to represent attributes like weapons, armor, and inventory."
   ]
  },
  {
   "cell_type": "code",
   "execution_count": 3,
   "id": "0c180db3-6a6d-4143-aad9-86ef9b5e700c",
   "metadata": {},
   "outputs": [],
   "source": [
    "class weapon:\n",
    "    \n",
    "    def __init__(self, name, attack_points):\n",
    "        self.weapon = weapon\n",
    "        self.attack_points = attack_points\n",
    "    \n",
    "class armor:\n",
    "    \n",
    "    def __init__(self, armor, defense):\n",
    "        self.armor = armor\n",
    "        self.defense = defense\n",
    "    \n",
    "class inventory:\n",
    "    \n",
    "    def __init__(self):\n",
    "        self.items = []\n",
    "\n",
    "    def add_item(self, item):\n",
    "        self.items.append(item)\n",
    "    \n",
    "class game_character:\n",
    "    \n",
    "    def __init__(self, name, health, weapon, armor):\n",
    "        self.name = name\n",
    "        self.health = health\n",
    "        self.weapon = weapon\n",
    "        self.armor = armor\n",
    "        self.inventory = inventory()\n",
    "        \n",
    "    def attack(self, target):\n",
    "        damage_done = self.weapon.attack_points\n",
    "        target.receive_damage(damage_done)\n",
    "        \n",
    "    def receive_damage(self, damage):\n",
    "        self.health -= damage\n",
    "        \n",
    "    def add_item_to_inventory(self, item):\n",
    "        self.inventory.add_item(item)\n",
    "        \n",
    "        \n",
    "spear = weapon(\"Spear\", 10)\n",
    "shield = armor(\"Shield\", 2)\n",
    "mp = game_character(\"MP\", 100, spear, shield)\n",
    "mp.add_item_to_inventory(spear)\n",
    "mp.add_item_to_inventory(shield)"
   ]
  },
  {
   "cell_type": "markdown",
   "id": "b0ce05e7-5d3a-479f-991e-7a716d095da6",
   "metadata": {},
   "source": [
    "### 17. Describe the concept of \"aggregation\" in composition and how it differs from simple composition."
   ]
  },
  {
   "cell_type": "markdown",
   "id": "981e8fd3-86bc-4544-a3e3-971e325b729c",
   "metadata": {},
   "source": [
    "#### Aggregation is a concept in which an object of one class can own or access another independent object of another class. \n",
    "\n",
    "1. It represents Has-A’s relationship.\n",
    "2. It is a unidirectional association i.e. a one-way relationship. For example, a department can have students but vice versa is not possible and thus unidirectional in nature.\n",
    "3. In Aggregation, both the entries can survive individually which means ending one entity will not affect the other entity.\n",
    "\n",
    "In the case of Composition, the objects are interdependent on each other, but in Aggregation, they are Unidirectional. \n",
    "Composition is defined by the PART-OF relationship which means that one object IS PART-OF ANOTHER OBJECT, but Aggregation is defined by the HAS-A relationship which means that one object HAS-A RELATION with another object."
   ]
  },
  {
   "cell_type": "markdown",
   "id": "7459cb15-1b0c-4c80-a111-1e5dfe836198",
   "metadata": {},
   "source": [
    "### 18. Create a Python class for a house, using composition to represent rooms, furniture, and appliances."
   ]
  },
  {
   "cell_type": "code",
   "execution_count": 1,
   "id": "cae33abe-af28-4f9f-8a92-534a547196e0",
   "metadata": {},
   "outputs": [
    {
     "name": "stdout",
     "output_type": "stream",
     "text": [
      "House: My House\n",
      "Room: Living Room\n",
      "  Furniture: Sofa\n",
      "  Furniture: Table\n",
      "  Appliance: Refrigerator\n",
      "Room: Kitchen\n",
      "  \n",
      "  Appliance: Oven\n"
     ]
    }
   ],
   "source": [
    "class Furniture:\n",
    "    def __init__(self, name):\n",
    "        self.name = name\n",
    "\n",
    "    def __str__(self):\n",
    "        return f\"Furniture: {self.name}\"\n",
    "\n",
    "class Appliance:\n",
    "    def __init__(self, name):\n",
    "        self.name = name\n",
    "\n",
    "    def __str__(self):\n",
    "        return f\"Appliance: {self.name}\"\n",
    "\n",
    "class Room:\n",
    "    def __init__(self, name):\n",
    "        self.name = name\n",
    "        self.furniture = []\n",
    "        self.appliances = []\n",
    "\n",
    "    def add_furniture(self, furniture):\n",
    "        self.furniture.append(furniture)\n",
    "\n",
    "    def add_appliance(self, appliance):\n",
    "        self.appliances.append(appliance)\n",
    "\n",
    "    def __str__(self):\n",
    "        furniture_str = \"\\n  \".join(str(item) for item in self.furniture)\n",
    "        appliances_str = \"\\n  \".join(str(item) for item in self.appliances)\n",
    "        return f\"Room: {self.name}\\n  {furniture_str}\\n  {appliances_str}\"\n",
    "\n",
    "class House:\n",
    "    def __init__(self, name):\n",
    "        self.name = name\n",
    "        self.rooms = []\n",
    "\n",
    "    def add_room(self, room):\n",
    "        self.rooms.append(room)\n",
    "\n",
    "    def __str__(self):\n",
    "        room_str = \"\\n\".join(str(room) for room in self.rooms)\n",
    "        return f\"House: {self.name}\\n{room_str}\"\n",
    "\n",
    "\n",
    "# Example usage:\n",
    "\n",
    "# Create furniture and appliances\n",
    "sofa = Furniture(\"Sofa\")\n",
    "table = Furniture(\"Table\")\n",
    "refrigerator = Appliance(\"Refrigerator\")\n",
    "oven = Appliance(\"Oven\")\n",
    "\n",
    "# Create rooms\n",
    "living_room = Room(\"Living Room\")\n",
    "kitchen = Room(\"Kitchen\")\n",
    "\n",
    "# Add furniture and appliances to rooms\n",
    "living_room.add_furniture(sofa)\n",
    "living_room.add_furniture(table)\n",
    "living_room.add_appliance(refrigerator)\n",
    "\n",
    "kitchen.add_appliance(oven)\n",
    "\n",
    "# Create a house and add rooms to it\n",
    "my_house = House(\"My House\")\n",
    "my_house.add_room(living_room)\n",
    "my_house.add_room(kitchen)\n",
    "\n",
    "# Print the house structure\n",
    "print(my_house)"
   ]
  },
  {
   "cell_type": "markdown",
   "id": "0f354431-b0e8-474b-98d1-0094d41d4dbc",
   "metadata": {},
   "source": [
    "### 19. How can you achieve flexibility in composed objects by allowing them to be replaced or modified dynamically at runtime?"
   ]
  },
  {
   "cell_type": "markdown",
   "id": "7a4e5b4d-b202-4cdf-b0c2-0f4a61fd64d4",
   "metadata": {},
   "source": [
    "#### Composition defines a has-a relationship, i.e. car has engine. You can exchange the engine of your car and car will still remain a car."
   ]
  },
  {
   "cell_type": "code",
   "execution_count": null,
   "id": "2eff964e-a244-4877-99ac-ec94eccacd65",
   "metadata": {},
   "outputs": [],
   "source": []
  }
 ],
 "metadata": {
  "kernelspec": {
   "display_name": "Python 3 (ipykernel)",
   "language": "python",
   "name": "python3"
  },
  "language_info": {
   "codemirror_mode": {
    "name": "ipython",
    "version": 3
   },
   "file_extension": ".py",
   "mimetype": "text/x-python",
   "name": "python",
   "nbconvert_exporter": "python",
   "pygments_lexer": "ipython3",
   "version": "3.10.8"
  }
 },
 "nbformat": 4,
 "nbformat_minor": 5
}
