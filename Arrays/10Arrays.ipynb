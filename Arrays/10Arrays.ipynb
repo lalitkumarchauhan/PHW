{
 "cells": [
  {
   "cell_type": "markdown",
   "id": "0982be11-0c8d-4a01-9740-975842ebf5f9",
   "metadata": {},
   "source": [
    "# Arrays"
   ]
  },
  {
   "cell_type": "markdown",
   "id": "8488f61a-6e54-43b7-b7da-65e9edab7e51",
   "metadata": {},
   "source": [
    "### 1. Given an array, check if it contains any duplicates or not.\n",
    "### arr = [1, 2, 4, 2, 5, 9]\n",
    "### Output = True\n",
    "\n",
    "\n"
   ]
  },
  {
   "cell_type": "code",
   "execution_count": 48,
   "id": "00de3628-5bf6-4bae-8157-0c8320b433e2",
   "metadata": {},
   "outputs": [
    {
     "data": {
      "text/plain": [
       "True"
      ]
     },
     "execution_count": 48,
     "metadata": {},
     "output_type": "execute_result"
    }
   ],
   "source": [
    "def duplicacy_flag(arry):\n",
    "    for i in range(len(arry)):\n",
    "        for j in range(i+1, len(arry)):\n",
    "            if arry[i] == arry[j]:\n",
    "                return True\n",
    "                break\n",
    "    else:\n",
    "        return False\n",
    "#Driver Code\n",
    "arr = [1,2,4,2,5,9]\n",
    "duplicacy_flag(arr)"
   ]
  },
  {
   "cell_type": "markdown",
   "id": "e3fe70ef-1ecb-4c26-8c1d-09a1dd2f368f",
   "metadata": {},
   "source": [
    "### 2. Given an array and an integer k, rotate the array to the right by k steps.\n",
    "### arr = [1, 2, 3, 4, 5, 6, 7] k = 3\n",
    "### Output = [5, 6, 7, 1, 2, 3, 4]\n",
    "\n",
    "\n",
    "\n"
   ]
  },
  {
   "cell_type": "code",
   "execution_count": 66,
   "id": "55acc57c-162e-4b70-af99-40d6fe78b0d3",
   "metadata": {},
   "outputs": [
    {
     "data": {
      "text/plain": [
       "[5, 6, 7, 1, 2, 3, 4]"
      ]
     },
     "execution_count": 66,
     "metadata": {},
     "output_type": "execute_result"
    }
   ],
   "source": [
    "def rotate_right(arry, k):\n",
    "    k = k % len(arry)\n",
    "    arr2 = []\n",
    "    for i in range(len(arry)):\n",
    "        if i < k:\n",
    "            arr2.append(arry[len(arry) - k + i])\n",
    "        else:\n",
    "            arr2.append(arry[i - k])\n",
    "    return arr2\n",
    "\n",
    "# Driver code\n",
    "arr1 = [1, 2, 3, 4, 5, 6, 7]\n",
    "k = 3\n",
    "rotate_right(arr1, k)"
   ]
  },
  {
   "cell_type": "markdown",
   "id": "cb68c9de-fcfa-4210-9f62-1658c174cedd",
   "metadata": {},
   "source": [
    "### 3. Reverse the given array in-place, means without using any extra data structure.\n",
    "### arr = [2, 4, 5, 7, 9, 12]\n",
    "### Output = [12, 9, 7, 5, 4, 2]\n",
    "\n",
    "\n",
    "\n"
   ]
  },
  {
   "cell_type": "code",
   "execution_count": 69,
   "id": "e1a38bd4-875f-4d19-94aa-60a3730c4c41",
   "metadata": {},
   "outputs": [
    {
     "data": {
      "text/plain": [
       "[12, 9, 7, 5, 4, 2]"
      ]
     },
     "execution_count": 69,
     "metadata": {},
     "output_type": "execute_result"
    }
   ],
   "source": [
    "arr3 = [2, 4, 5, 7, 9, 12]\n",
    "arr3.reverse()\n",
    "arr3"
   ]
  },
  {
   "cell_type": "markdown",
   "id": "013a7d63-241e-41ad-94e7-e517a68280f6",
   "metadata": {},
   "source": [
    "### 4. Given an array of integers, find the maximum element in an array\n",
    "\n",
    "### arr = [10, 5, 20, 8, 15]\n",
    "\n",
    "### Output = 20\n",
    "\n",
    "\n",
    "\n"
   ]
  },
  {
   "cell_type": "code",
   "execution_count": 70,
   "id": "11c00744-edf0-4b94-98c9-86fcc4ee9bb8",
   "metadata": {},
   "outputs": [
    {
     "data": {
      "text/plain": [
       "20"
      ]
     },
     "execution_count": 70,
     "metadata": {},
     "output_type": "execute_result"
    }
   ],
   "source": [
    "arr4 = [10, 5, 20, 8, 15]\n",
    "max(arr4)"
   ]
  },
  {
   "cell_type": "markdown",
   "id": "a3b6b9c6-a86a-4687-b888-cc7d90ac13e5",
   "metadata": {},
   "source": [
    "### 5. Given a sorted array, remove the duplicate element without using any extra data structure.\n",
    "### arr = [1, 1, 2, 2, 2, 3, 3, 4, 4, 4, 5, 5]\n",
    "### Output = [1, 2, 3, 4, 5]"
   ]
  },
  {
   "cell_type": "code",
   "execution_count": 73,
   "id": "3a0c3d68-0c64-43ee-bb45-e6552a5ce02a",
   "metadata": {},
   "outputs": [
    {
     "data": {
      "text/plain": [
       "[1, 2, 3, 4, 5]"
      ]
     },
     "execution_count": 73,
     "metadata": {},
     "output_type": "execute_result"
    }
   ],
   "source": [
    "arr5 = [1, 1, 2, 2, 2, 3, 3, 4, 4, 4, 5, 5]\n",
    "arr5 = list(set(arr5))\n",
    "arr5"
   ]
  },
  {
   "cell_type": "code",
   "execution_count": null,
   "id": "b74dc598-9406-4027-8cbb-7c3afe270028",
   "metadata": {},
   "outputs": [],
   "source": []
  }
 ],
 "metadata": {
  "kernelspec": {
   "display_name": "Python 3 (ipykernel)",
   "language": "python",
   "name": "python3"
  },
  "language_info": {
   "codemirror_mode": {
    "name": "ipython",
    "version": 3
   },
   "file_extension": ".py",
   "mimetype": "text/x-python",
   "name": "python",
   "nbconvert_exporter": "python",
   "pygments_lexer": "ipython3",
   "version": "3.10.8"
  }
 },
 "nbformat": 4,
 "nbformat_minor": 5
}
