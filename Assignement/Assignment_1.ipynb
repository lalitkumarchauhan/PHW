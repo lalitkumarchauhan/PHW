{
 "cells": [
  {
   "cell_type": "markdown",
   "id": "e41ca16c-0fda-4a3b-9d1f-c13e9bf3a2b5",
   "metadata": {},
   "source": [
    "# Q1. Explain with an example each when to use a for loop and a while loop."
   ]
  },
  {
   "cell_type": "code",
   "execution_count": 1,
   "id": "ac7eda7a-23d4-403d-a4fa-838149b4ed13",
   "metadata": {},
   "outputs": [
    {
     "name": "stdin",
     "output_type": "stream",
     "text": [
      "How long? (enter 0 to end)  10\n",
      "How long? (enter 0 to end)  0\n"
     ]
    },
    {
     "name": "stdout",
     "output_type": "stream",
     "text": [
      "Sum: 10\n"
     ]
    }
   ],
   "source": [
    "#While loop can be used in the sentinal approach apart from being a substitute of for loop\n",
    "sm = 0\n",
    "data = int(input(\"How long? (enter 0 to end) \"))\n",
    "while data != 0:\n",
    "    sm = sm + data\n",
    "    data = int(input(\"How long? (enter 0 to end) \"))\n",
    "print(\"Sum:\",sm)"
   ]
  },
  {
   "cell_type": "code",
   "execution_count": 3,
   "id": "990aef35-9e18-4820-a24b-bd673e25a2d2",
   "metadata": {},
   "outputs": [
    {
     "name": "stdout",
     "output_type": "stream",
     "text": [
      "The sum of first 10 numbers is 45.\n",
      "The sum of first 10 numbers is 3628800.\n"
     ]
    },
    {
     "name": "stdin",
     "output_type": "stream",
     "text": [
      "Enter the string for investigation:  lalit kumar\n"
     ]
    },
    {
     "name": "stdout",
     "output_type": "stream",
     "text": [
      "There are 4 vowels in the string\n"
     ]
    }
   ],
   "source": [
    "#for loop can be used in variuos scenarios and to be specific it can be used when the number of iterations are \n",
    "#known already or are available already during the execution or by the user\n",
    "\n",
    "\n",
    "summ = 0\n",
    "prodct = 1 \n",
    "for i in range(10): \n",
    "    summ += i \n",
    "    prodct = prodct * (i+1)\n",
    "print(f\"The sum of first 10 numbers is {summ}.\") \n",
    "print(f\"The sum of first 10 numbers is {prodct}.\")\n",
    "\n",
    "\n",
    "\n",
    "count_vowel = 0\n",
    "vowels = ['a', 'e', 'i', 'o', 'u', 'A', 'E', 'O', 'I', 'U']\n",
    "string = input(\"Enter the string for investigation: \")\n",
    "for i in string.split():\n",
    "    for let in i:\n",
    "        if let in vowels:\n",
    "            count_vowel += 1\n",
    "        else:\n",
    "            continue\n",
    "print(f\"There are {count_vowel} vowels in the string\")"
   ]
  },
  {
   "cell_type": "markdown",
   "id": "5a97565f-c98e-4ab4-8126-b5208b9f1c17",
   "metadata": {},
   "source": [
    "# Q2. Write a python program to print the sum and product of the first 10 natural numbers using for and while loop."
   ]
  },
  {
   "cell_type": "code",
   "execution_count": 29,
   "id": "189245eb-237c-43a1-a472-c210749a6d19",
   "metadata": {},
   "outputs": [
    {
     "name": "stdout",
     "output_type": "stream",
     "text": [
      "The sum of first 10 numbers is 45.\n",
      "The sum of first 10 numbers is 3628800.\n"
     ]
    }
   ],
   "source": [
    "# Using for loop\n",
    "summ = 0 #initialising the summ variable whihc represents the sum of numbers mentioned in the problem statement\n",
    "prodct = 1 #initialising the prodct variable which represents the product of numbers mentioned in the problem statement\n",
    "for i in range(10): # for loop to iterate over first 10 natural numbers\n",
    "    summ += i #summing up the current natural number with the summ variable\n",
    "    prodct = prodct * (i+1) #multiplying the natural numbers with prodct variable\n",
    "print(f\"The sum of first 10 numbers is {summ}.\") #finally priniting the total sum after the for loop has iterated completely\n",
    "#finally priniting the total product after the for loop has iterated completely\n",
    "print(f\"The sum of first 10 numbers is {prodct}.\") \n"
   ]
  },
  {
   "cell_type": "code",
   "execution_count": 9,
   "id": "7495eafd-4ca5-4cca-9af8-31c2df75330f",
   "metadata": {},
   "outputs": [
    {
     "name": "stdout",
     "output_type": "stream",
     "text": [
      "The sum of first 10 numbers is 45.\n",
      "The sum of first 10 numbers is 3628800.\n"
     ]
    }
   ],
   "source": [
    "#Using while loop\n",
    "summ_ = 0\n",
    "prodct_ = 1\n",
    "i = 0 # initialising the counter for first iteration\n",
    "while i < 10: #using while loop for iteration\n",
    "    summ_ = summ_ + i\n",
    "    prodct_ = prodct_ * (i+1)\n",
    "    i = i + 1 #incrementing the va;ue of i for next iteration facilitation\n",
    "print(f\"The sum of first 10 numbers is {summ_}.\")\n",
    "print(f\"The sum of first 10 numbers is {prodct_}.\")"
   ]
  },
  {
   "cell_type": "markdown",
   "id": "e9e2f2e0-a16c-4ae2-883d-62967ec9b3dc",
   "metadata": {},
   "source": [
    "# Q3. Create a python program to compute the electricity bill for a household. The per-unit charges in rupees are as follows: For the first 100 units, the user will be charged Rs. 4.5 per unit, for the next 100 units, the user will be charged Rs. 6 per unit, and for the next 100 units, the user will be charged Rs. 10 per unit, After 300 units and above the user will be charged Rs. 20 per unit.\n",
    "## You are required to take the units of electricity consumed in a month from the user as input.\n",
    "\n",
    "\n",
    "### Your program must pass this test case: when the unit of electricity consumed by the user in a month is 310, the total electricity bill should be 2250."
   ]
  },
  {
   "cell_type": "code",
   "execution_count": 30,
   "id": "caae5181-7509-4dd5-8644-c65d1afa260c",
   "metadata": {},
   "outputs": [
    {
     "name": "stdin",
     "output_type": "stream",
     "text": [
      "Enter the units of electricity consumed by you in the month:  310\n"
     ]
    },
    {
     "name": "stdout",
     "output_type": "stream",
     "text": [
      "Your monthly electricity bill is INR 2250.0\n"
     ]
    }
   ],
   "source": [
    "#getting the input from the user regarding the consumed units and converting them to float as \n",
    "#there can be floating point units also and storing the varable in units variable\n",
    "units = float(input(\"Enter the units of electricity consumed by you in the month: \"))\n",
    "#using if-elif-else to utilise the four different permutations\n",
    "if units  <= 100:\n",
    "    ebill = 100*units\n",
    "elif units > 100 and units <= 200:\n",
    "    ebill = 100*4.5 + (units - 100)*6\n",
    "elif units > 200 and units <= 300:\n",
    "    ebill = 100*4.5 + 100*6 + (units - 200)*10\n",
    "else:\n",
    "    ebill = 100*4.5 + 100*6 + 100*10 + (units - 300)*20\n",
    "#printing the ebill value\n",
    "print(f\"Your monthly electricity bill is INR {ebill}\")"
   ]
  },
  {
   "cell_type": "markdown",
   "id": "3a01a534-7bdf-4789-ba91-59a2266e03f0",
   "metadata": {},
   "source": [
    "# Q4. Create a list of numbers from 1 to 100. Use for loop and while loop to calculate the cube of each number and if the cube of that number is divisible by 4 or 5 then append that number in a list and print that list."
   ]
  },
  {
   "cell_type": "code",
   "execution_count": 11,
   "id": "08a08812-8a1e-4be8-aabf-dabf30ea57eb",
   "metadata": {},
   "outputs": [
    {
     "name": "stdout",
     "output_type": "stream",
     "text": [
      "[2, 4, 5, 6, 8, 10, 12, 14, 15, 16, 18, 20, 22, 24, 25, 26, 28, 30, 32, 34, 35, 36, 38, 40, 42, 44, 45, 46, 48, 50, 52, 54, 55, 56, 58, 60, 62, 64, 65, 66, 68, 70, 72, 74, 75, 76, 78, 80, 82, 84, 85, 86, 88, 90, 92, 94, 95, 96, 98, 100]\n"
     ]
    }
   ],
   "source": [
    "#using for loop\n",
    "lst = []\n",
    "final_lst = []\n",
    "for i in range(100):\n",
    "    lst.append(i+1)\n",
    "for j in lst:\n",
    "    cube_member = j**3\n",
    "    if cube_member % 4 == 0 or cube_member % 5 == 0:\n",
    "        final_lst.append(j)\n",
    "print(final_lst)"
   ]
  },
  {
   "cell_type": "code",
   "execution_count": 17,
   "id": "199c970c-08e0-4c4b-be2c-900d15eb8a15",
   "metadata": {},
   "outputs": [
    {
     "name": "stdout",
     "output_type": "stream",
     "text": [
      "[2, 4, 5, 6, 8, 10, 12, 14, 15, 16, 18, 20, 22, 24, 25, 26, 28, 30, 32, 34, 35, 36, 38, 40, 42, 44, 45, 46, 48, 50, 52, 54, 55, 56, 58, 60, 62, 64, 65, 66, 68, 70, 72, 74, 75, 76, 78, 80, 82, 84, 85, 86, 88, 90, 92, 94, 95, 96, 98]\n"
     ]
    }
   ],
   "source": [
    "#using while loop\n",
    "lst_ = []\n",
    "final_lst_ = []\n",
    "i = 0\n",
    "j = 1\n",
    "while i < 100:\n",
    "    lst_.append(i+1)\n",
    "    i = i + 1\n",
    "# print(lst_)\n",
    "while j < len(lst_):\n",
    "    cube_member_ = (j)**3\n",
    "    if cube_member_ % 4 == 0 or cube_member_ % 5 == 0:\n",
    "        final_lst_.append(j)\n",
    "    j = j + 1\n",
    "print(final_lst_)"
   ]
  },
  {
   "cell_type": "markdown",
   "id": "b2086eca-0f06-48db-9ea7-e937ad25219f",
   "metadata": {},
   "source": [
    "# Q5. Write a program to filter count vowels in the below-given string.\n",
    "\n",
    "### string = \"I want to become a data scientist\""
   ]
  },
  {
   "cell_type": "code",
   "execution_count": 19,
   "id": "25e318e5-514b-4944-9974-87a5f7c9e2b9",
   "metadata": {},
   "outputs": [
    {
     "name": "stdout",
     "output_type": "stream",
     "text": [
      "There are 12 vowels in the string\n",
      "There are 15 consonants in the string\n"
     ]
    }
   ],
   "source": [
    "# version 1\n",
    "count_vowel = 0\n",
    "count_consonants = 0\n",
    "string = \"I want to become a data scientist\"\n",
    "for i in string.split():\n",
    "    for let in i:\n",
    "        if let in ['a', 'e', 'i', 'o', 'u', 'A', 'E', 'O', 'I', 'U']:\n",
    "            count_vowel += 1\n",
    "        else:\n",
    "            count_consonants += 1\n",
    "print(f\"There are {count_vowel} vowels in the string\")\n",
    "print(f\"There are {count_consonants} consonants in the string\")"
   ]
  },
  {
   "cell_type": "code",
   "execution_count": 20,
   "id": "d71f5a62-e5a3-40a4-abdb-348b833922a3",
   "metadata": {},
   "outputs": [
    {
     "name": "stdout",
     "output_type": "stream",
     "text": [
      "There are 12 vowels in the string\n",
      "There are 15 consonants in the string\n"
     ]
    }
   ],
   "source": [
    "#Version 2\n",
    "list_vowel = []\n",
    "list_consonants = []\n",
    "string = \"I want to become a data scientist\"\n",
    "for i in string.split():\n",
    "    for let in i:\n",
    "        if let in ['a', 'e', 'i', 'o', 'u', 'A', 'E', 'O', 'I', 'U']:\n",
    "            list_vowel.append(let)\n",
    "        else:\n",
    "            list_consonants.append(let)\n",
    "print(f\"There are {len(list_vowel)} vowels in the string\")\n",
    "print(f\"There are {len(list_consonants)} consonants in the string\")"
   ]
  },
  {
   "cell_type": "code",
   "execution_count": 21,
   "id": "b077d6fd-1fcf-4886-a703-1cc5eb6696ab",
   "metadata": {},
   "outputs": [
    {
     "name": "stdout",
     "output_type": "stream",
     "text": [
      "There are 12 vowels in the string\n"
     ]
    }
   ],
   "source": [
    "#version 3\n",
    "count_vowel = 0\n",
    "string = \"I want to become a data scientist\"\n",
    "for i in string.split():\n",
    "    for let in i:\n",
    "        if let in ['a', 'e', 'i', 'o', 'u', 'A', 'E', 'O', 'I', 'U']:\n",
    "            count_vowel += 1\n",
    "        else:\n",
    "            continue\n",
    "print(f\"There are {count_vowel} vowels in the string\")"
   ]
  },
  {
   "cell_type": "code",
   "execution_count": 22,
   "id": "1f67596e-6e86-4c4e-88ea-a6c477b17214",
   "metadata": {},
   "outputs": [
    {
     "name": "stdout",
     "output_type": "stream",
     "text": [
      "There are 12 vowels in the string\n",
      "There are 15 consonants in the string\n"
     ]
    }
   ],
   "source": [
    "# version 4\n",
    "count_vowel = 0\n",
    "count_consonants = 0\n",
    "vowels = ['a', 'e', 'i', 'o', 'u', 'A', 'E', 'O', 'I', 'U']\n",
    "string = \"I want to become a data scientist\"\n",
    "for i in string.split():\n",
    "    for let in i:\n",
    "        if let in vowels:\n",
    "            count_vowel += 1\n",
    "        else:\n",
    "            count_consonants += 1\n",
    "print(f\"There are {count_vowel} vowels in the string\")\n",
    "print(f\"There are {count_consonants} consonants in the string\") "
   ]
  },
  {
   "cell_type": "code",
   "execution_count": 23,
   "id": "2ffa2468-c1b8-4947-bdb1-f97947ab16ce",
   "metadata": {},
   "outputs": [
    {
     "name": "stdout",
     "output_type": "stream",
     "text": [
      "There are 12 vowels in the string\n",
      "There are 15 consonants in the string\n"
     ]
    }
   ],
   "source": [
    "#Version 5\n",
    "list_vowel = []\n",
    "list_consonants = []\n",
    "vowels = ['a', 'e', 'i', 'o', 'u', 'A', 'E', 'O', 'I', 'U']\n",
    "string = \"I want to become a data scientist\"\n",
    "for i in string.split():\n",
    "    for let in i:\n",
    "        if let in vowels:\n",
    "            list_vowel.append(let)\n",
    "        else:\n",
    "            list_consonants.append(let)\n",
    "print(f\"There are {len(list_vowel)} vowels in the string\")\n",
    "print(f\"There are {len(list_consonants)} consonants in the string\")"
   ]
  },
  {
   "cell_type": "code",
   "execution_count": 24,
   "id": "8bee8e04-dc0b-4527-a94b-e073ac44dbbf",
   "metadata": {},
   "outputs": [
    {
     "name": "stdout",
     "output_type": "stream",
     "text": [
      "There are 12 vowels in the string\n"
     ]
    }
   ],
   "source": [
    "#version 6\n",
    "count_vowel = 0\n",
    "vowels = ['a', 'e', 'i', 'o', 'u', 'A', 'E', 'O', 'I', 'U']\n",
    "string = \"I want to become a data scientist\"\n",
    "for i in string.split():\n",
    "    for let in i:\n",
    "        if let in vowels:\n",
    "            count_vowel += 1\n",
    "        else:\n",
    "            continue\n",
    "print(f\"There are {count_vowel} vowels in the string\")"
   ]
  },
  {
   "cell_type": "code",
   "execution_count": 25,
   "id": "2a0a2866-530b-4c1d-85c4-5f41cbee78fb",
   "metadata": {},
   "outputs": [
    {
     "name": "stdout",
     "output_type": "stream",
     "text": [
      "There are 12 vowels in the string\n"
     ]
    }
   ],
   "source": [
    "#version 7\n",
    "string = \"I want to become a data scientist\"\n",
    "string.replace(\" \", \"\")\n",
    "vowels = ['a', 'e', 'i', 'o', 'u', 'A', 'E', 'O', 'I', 'U']\n",
    "for i in string:\n",
    "    if let in vowels:\n",
    "        count_vowel += 1\n",
    "    else:\n",
    "        continue\n",
    "print(f\"There are {count_vowel} vowels in the string\")"
   ]
  },
  {
   "cell_type": "code",
   "execution_count": null,
   "id": "c5172a6d-0433-4f1d-8ad2-0a5517671290",
   "metadata": {},
   "outputs": [],
   "source": []
  }
 ],
 "metadata": {
  "kernelspec": {
   "display_name": "Python 3 (ipykernel)",
   "language": "python",
   "name": "python3"
  },
  "language_info": {
   "codemirror_mode": {
    "name": "ipython",
    "version": 3
   },
   "file_extension": ".py",
   "mimetype": "text/x-python",
   "name": "python",
   "nbconvert_exporter": "python",
   "pygments_lexer": "ipython3",
   "version": "3.10.8"
  }
 },
 "nbformat": 4,
 "nbformat_minor": 5
}
